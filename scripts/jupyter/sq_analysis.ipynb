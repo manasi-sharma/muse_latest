{
 "cells": [
  {
   "cell_type": "code",
   "execution_count": 1,
   "metadata": {},
   "outputs": [
    {
     "name": "stdout",
     "output_type": "stream",
     "text": [
      "/iliad/u/belkhale/muse\n"
     ]
    }
   ],
   "source": [
    "# %cd ~/PycharmProjects/muse\n",
    "%cd /iliad/u/belkhale/muse\n",
    "from matplotlib import pyplot as plt\n",
    "import matplotlib.colors as colors\n",
    "import numpy as np\n",
    "\n",
    "\n",
    "def sweep_from_arr(arr):\n",
    "    s = \"[[[ \"\n",
    "    for a in arr:\n",
    "        s = s + str(a) + \" \"\n",
    "    s = s + \"]]]\"\n",
    "    return s\n"
   ]
  },
  {
   "cell_type": "code",
   "execution_count": 13,
   "metadata": {},
   "outputs": [],
   "source": [
    "# show the state diversity needed?\n",
    "\n",
    "def plot_2d_state_heatmap(data, t1=None, t2=None, xy_key='robot0_eef_pos', done_key='done', n_bins=30, vmax=200, num_rollouts=None, log=True, ax=None):\n",
    "    xy = data[xy_key]\n",
    "\n",
    "    splits = data[done_key].nonzero()[0][:-1] + 1\n",
    "    episodes = np.split(xy, splits, axis=0)\n",
    "    if num_rollouts is not None:\n",
    "        episodes = episodes[:num_rollouts]\n",
    "\n",
    "    if t1 is not None:\n",
    "        if t2 is None:\n",
    "            episodes = [ep[t1:] for ep in episodes]\n",
    "        else:\n",
    "            episodes = [ep[t1:t2] for ep in episodes]\n",
    "\n",
    "    partial_xy = np.concatenate(episodes)\n",
    "    x, y = partial_xy[..., 0], partial_xy[..., 1]\n",
    "    \n",
    "    if log:\n",
    "#         norm = colors.LogNorm(vmin=1, vmax=vmax+1)\n",
    "        norm = colors.FuncNorm((lambda v: np.log(v + 1) / np.log(vmax + 1), lambda v: np.exp(v*np.log(vmax+1))),\n",
    "                               vmin=0, vmax=vmax)\n",
    "    else:\n",
    "        norm = None\n",
    "    \n",
    "    if ax is not None:\n",
    "        return ax.hist2d(x, y, bins=(n_bins, n_bins), cmap=plt.cm.jet, \n",
    "                           norm=norm)[-1]\n",
    "    else:\n",
    "        plt.hist2d(x, y, bins=(n_bins, n_bins), cmap=plt.cm.jet, \n",
    "                           norm=norm)\n",
    "        plt.colorbar()\n",
    "        plt.show()"
   ]
  },
  {
   "cell_type": "code",
   "execution_count": 14,
   "metadata": {},
   "outputs": [
    {
     "name": "stdout",
     "output_type": "stream",
     "text": [
      "Loading human_square_30k.npz\n"
     ]
    },
    {
     "data": {
      "image/png": "[encoded data removed]",
      "text/plain": [
       "<Figure size 640x480 with 2 Axes>"
      ]
     },
     "metadata": {},
     "output_type": "display_data"
    }
   ],
   "source": [
    "name = 'human_square_30k.npz'\n",
    "file = f'data/hvs/{name}'\n",
    "print(\"Loading\", name)\n",
    "plot_2d_state_heatmap(dict(np.load(file, allow_pickle=True)), t1=-1)"
   ]
  },
  {
   "cell_type": "markdown",
   "metadata": {},
   "source": [
    "# LEARNED"
   ]
  },
  {
   "cell_type": "code",
   "execution_count": 5,
   "metadata": {},
   "outputs": [],
   "source": [
    "def compute_success_rate(path, num_rollouts, max_steps=None):\n",
    "    data = dict(np.load(path, allow_pickle=True))\n",
    "    splits = np.nonzero(data['done'])[0][:-1] + 1\n",
    "    rew_chunks = np.split(data['reward'].reshape(-1), splits)\n",
    "    if max_steps is not None:\n",
    "        # only look at max reward over first \"max_steps\" steps\n",
    "        rew_chunks = [r[:max_steps] for r in rew_chunks]\n",
    "    assert len(rew_chunks) == num_rollouts, len(rew_chunks)\n",
    "    each_return = np.array([np.max(rews) for rews in rew_chunks])\n",
    "    return np.mean(each_return)\n",
    "    \n",
    "def compute_traj_len(path, num_rollouts, max_steps=None):\n",
    "    data = dict(np.load(path, allow_pickle=True))\n",
    "    splits = np.nonzero(data['done'])[0][:-1] + 1\n",
    "    rew_chunks = np.split(data['reward'].reshape(-1), splits)\n",
    "    assert len(rew_chunks) == num_rollouts, len(rew_chunks)\n",
    "    each_len = np.array([len(rews) for rews in rew_chunks])\n",
    "    return np.mean(each_len)\n",
    "\n",
    "def compute_traj_std(path, num_rollouts, max_steps=None):\n",
    "    data = dict(np.load(path, allow_pickle=True))\n",
    "    splits = np.nonzero(data['done'])[0][:-1] + 1\n",
    "    rew_chunks = np.split(data['reward'].reshape(-1), splits)\n",
    "    assert len(rew_chunks) == num_rollouts, len(rew_chunks)\n",
    "    each_len = np.array([len(rews) for rews in rew_chunks])\n",
    "    return np.std(each_len)\n",
    "    "
   ]
  },
  {
   "cell_type": "code",
   "execution_count": 22,
   "metadata": {},
   "outputs": [],
   "source": [
    "# extract success rates for each set of rollouts\n",
    "import os\n",
    "from configs.utils import hr_name\n",
    "\n",
    "def print_metric(noise_type='s', prefix=\"best_\", num_rollouts=100, dset_override=None, metric_fn=compute_success_rate):\n",
    "\n",
    "    s_noises = [0.05, 0.1, 0.2]\n",
    "    typed_noises = {\n",
    "        'h': [0],  # human has no noise\n",
    "        'p': [0, 0.005, 0.01, 0.02],\n",
    "        's': s_noises,\n",
    "    }[noise_type]\n",
    "\n",
    "    dset_suffs = ['', '-first100', '-first50']\n",
    "    if dset_override is not None:\n",
    "        dset_suffs = [dset_override]\n",
    "    \n",
    "    batch_sizes = [256 for _ in dset_suffs]\n",
    "\n",
    "    for batch_size, suff in zip(batch_sizes, dset_suffs):\n",
    "        success = np.empty((len(typed_noises), len(s_noises)), dtype=np.float32)\n",
    "        for i, n in enumerate(typed_noises):\n",
    "            hr_s_sweep = sweep_from_arr(s_noises)\n",
    "            # special case for zero noise\n",
    "            if n == 0:\n",
    "                noise = \"\"\n",
    "            else:\n",
    "                noise = f\"_l{noise_type}n{hr_name(n)}\"\n",
    "\n",
    "            save_names = [f\"{prefix}eval{num_rollouts}_lsn{hr_name(inner_s)}.npz\" for inner_s in s_noises]\n",
    "            hr_names = sweep_from_arr(save_names)\n",
    "\n",
    "            # single dataset overrides the list of suffixes.\n",
    "            if dset_override is not None:\n",
    "                dset = suff\n",
    "            else:\n",
    "                assert noise_type != 'h', \"Human dataset requires dset override!\"\n",
    "            dset = f\"scripted_rm{noise}_square_200ep{suff}\"\n",
    "\n",
    "            exp_name = f'experiments/hvs/velact_b{batch_size}_h10_{dset}_bc-l2_mlp400-d2'\n",
    "            for j, file in enumerate(save_names):\n",
    "                path = f\"{exp_name}/{file}\"\n",
    "                assert os.path.exists(path), path\n",
    "                success[i, j] = metric_fn(path, num_rollouts)\n",
    "\n",
    "        print(f\"Suff='{suff}'...\")\n",
    "        print(success)\n",
    "        print('------------------------------')\n"
   ]
  },
  {
   "cell_type": "code",
   "execution_count": 23,
   "metadata": {},
   "outputs": [
    {
     "name": "stdout",
     "output_type": "stream",
     "text": [
      "SYSTEM NOISE\n",
      "Suff=''...\n",
      "[[0.61 0.59 0.31]\n",
      " [0.76 0.82 0.73]\n",
      " [0.62 0.7  0.85]]\n",
      "------------------------------\n",
      "Suff='-first100'...\n",
      "[[0.73 0.62 0.45]\n",
      " [0.73 0.79 0.62]\n",
      " [0.73 0.84 0.79]]\n",
      "------------------------------\n",
      "Suff='-first50'...\n",
      "[[0.63 0.58 0.31]\n",
      " [0.65 0.69 0.73]\n",
      " [0.55 0.79 0.87]]\n",
      "------------------------------\n",
      "\n",
      "POLICY NOISE\n",
      "Suff=''...\n",
      "[[0.3  0.29 0.07]\n",
      " [0.65 0.64 0.31]\n",
      " [0.87 0.81 0.52]\n",
      " [0.8  0.81 0.8 ]]\n",
      "------------------------------\n",
      "Suff='-first100'...\n",
      "[[0.26 0.23 0.09]\n",
      " [0.79 0.65 0.4 ]\n",
      " [0.93 0.94 0.76]\n",
      " [0.61 0.59 0.47]]\n",
      "------------------------------\n",
      "Suff='-first50'...\n",
      "[[0.19 0.17 0.09]\n",
      " [0.69 0.6  0.32]\n",
      " [0.85 0.9  0.8 ]\n",
      " [0.66 0.78 0.83]]\n",
      "------------------------------\n"
     ]
    }
   ],
   "source": [
    "print('SYSTEM NOISE')\n",
    "print_metric(noise_type='s', prefix='best_')\n",
    "print('\\nPOLICY NOISE')\n",
    "print_metric(noise_type='p', prefix='best_')"
   ]
  },
  {
   "cell_type": "code",
   "execution_count": 27,
   "metadata": {},
   "outputs": [
    {
     "name": "stdout",
     "output_type": "stream",
     "text": [
      "scripted_rm_lsn0_05_square_200ep.npz 1.0\n",
      "scripted_rm_lsn0_1_square_200ep.npz 1.0\n",
      "scripted_rm_lsn0_2_square_200ep.npz 1.0\n",
      "scripted_rm_square_200ep.npz 1.0\n",
      "scripted_rm_lpn0_005_square_200ep.npz 1.0\n",
      "scripted_rm_lpn0_01_square_200ep.npz 1.0\n",
      "scripted_rm_lpn0_02_square_200ep.npz 1.0\n"
     ]
    }
   ],
   "source": [
    "# success rate for scripted policy, policy noise datasets (100 step max)\n",
    "fs = [\n",
    "    'scripted_rm_lsn0_05_square_200ep.npz',\n",
    "    'scripted_rm_lsn0_1_square_200ep.npz',\n",
    "    'scripted_rm_lsn0_2_square_200ep.npz',\n",
    "    'scripted_rm_square_200ep.npz',\n",
    "    'scripted_rm_lpn0_005_square_200ep.npz',\n",
    "    'scripted_rm_lpn0_01_square_200ep.npz',\n",
    "    'scripted_rm_lpn0_02_square_200ep.npz',\n",
    "]\n",
    "for f in fs:\n",
    "    print(f, compute_success_rate(f'data/hvs/{f}', 200))"
   ]
  },
  {
   "cell_type": "markdown",
   "metadata": {},
   "source": [
    "# TRAJECTORY LENGTH"
   ]
  },
  {
   "cell_type": "code",
   "execution_count": 30,
   "metadata": {},
   "outputs": [
    {
     "name": "stdout",
     "output_type": "stream",
     "text": [
      "scripted_rm_lsn0_05_square_200ep.npz 234.545\n",
      "scripted_rm_lsn0_1_square_200ep.npz 236.62\n",
      "scripted_rm_lsn0_2_square_200ep.npz 253.165\n",
      "#################\n",
      "scripted_rm_lpn0_005_square_200ep.npz 234.9\n",
      "scripted_rm_lpn0_01_square_200ep.npz 251.43\n",
      "scripted_rm_lpn0_02_square_200ep.npz 290.555\n"
     ]
    }
   ],
   "source": [
    "# MEAN\n",
    "for f in fs[:3]:\n",
    "    print(f, compute_traj_len(f'data/hvs/{f}', 200))\n",
    "\n",
    "print('#################')\n",
    "for f in fs[4:]:\n",
    "    print(f, compute_traj_len(f'data/hvs/{f}', 200))\n"
   ]
  },
  {
   "cell_type": "code",
   "execution_count": 31,
   "metadata": {},
   "outputs": [
    {
     "name": "stdout",
     "output_type": "stream",
     "text": [
      "scripted_rm_lsn0_05_square_200ep.npz 22.79118195706401\n",
      "scripted_rm_lsn0_1_square_200ep.npz 24.738746936738732\n",
      "scripted_rm_lsn0_2_square_200ep.npz 25.70306936924071\n",
      "#################\n",
      "scripted_rm_lpn0_005_square_200ep.npz 21.95267637441959\n",
      "scripted_rm_lpn0_01_square_200ep.npz 28.25004601766164\n",
      "scripted_rm_lpn0_02_square_200ep.npz 37.41078688025688\n"
     ]
    }
   ],
   "source": [
    "# STD\n",
    "for f in fs[:3]:\n",
    "    print(f, compute_traj_std(f'data/hvs/{f}', 200))\n",
    "\n",
    "print('#################')\n",
    "for f in fs[4:]:\n",
    "    print(f, compute_traj_std(f'data/hvs/{f}', 200))\n"
   ]
  },
  {
   "cell_type": "markdown",
   "metadata": {},
   "source": [
    "# Action Variance"
   ]
  },
  {
   "cell_type": "code",
   "execution_count": 2,
   "metadata": {
    "scrolled": true
   },
   "outputs": [
    {
     "name": "stderr",
     "output_type": "stream",
     "text": [
      "2023-05-17 10:48:18.066 | DEBUG    | __main__:<module>:62 - File Path: data/hvs/human_square_30k.npz\n",
      "2023-05-17 10:48:18.131 | DEBUG    | __main__:<module>:71 - ['object', 'robot0_eef_pos', 'robot0_eef_quat', 'robot0_eef_eul', 'robot0_eef_vel_ang', 'robot0_eef_vel_lin', 'robot0_gripper_qpos', 'robot0_gripper_qvel', 'robot0_joint_pos', 'robot0_joint_pos_cos', 'robot0_joint_pos_sin', 'robot0_joint_vel', 'action', 'policy_type', 'policy_name', 'policy_switch', 'reward', 'done', 'rollout_timestep']\n",
      "2023-05-17 10:48:18.132 | DEBUG    | __main__:<module>:87 - Key Name: robot0_eef_pos, raw shape: (30154, 3)\n",
      "2023-05-17 10:48:18.133 | DEBUG    | __main__:<module>:87 - Key Name: robot0_eef_quat, raw shape: (30154, 4)\n",
      "2023-05-17 10:48:18.134 | DEBUG    | __main__:<module>:87 - Key Name: object, raw shape: (30154, 14)\n",
      "2023-05-17 10:48:18.135 | DEBUG    | __main__:<module>:88 - Action Key Name: action, raw shape: (30154, 7)\n",
      "2023-05-17 10:48:18.136 | DEBUG    | __main__:<module>:89 - Episode Done Name: done\n",
      "2023-05-17 10:48:18.146 | DEBUG    | __main__:<module>:123 - New Data shape: (30154, 21)\n",
      "2023-05-17 10:48:18.147 | DEBUG    | __main__:<module>:124 - New Action shape: (30154, 7)\n",
      "2023-05-17 10:48:18.147 | DEBUG    | __main__:<module>:129 - Loading data/hvs/human_square_30k.npz for normalizing states...\n",
      "2023-05-17 10:48:18.167 | DEBUG    | __main__:<module>:129 - Loading data/hvs/multihuman-better_square_20k.npz for normalizing states...\n",
      "2023-05-17 10:48:18.178 | DEBUG    | __main__:<module>:129 - Loading data/hvs/multihuman-okay_square_25k.npz for normalizing states...\n",
      "2023-05-17 10:48:18.193 | DEBUG    | __main__:<module>:129 - Loading data/hvs/multihuman-worse_square_35k.npz for normalizing states...\n",
      "2023-05-17 10:48:18.231 | DEBUG    | __main__:<module>:138 - Using normalized state data: \n",
      "mu=[ 0.01607535  0.11989023  0.9277087   0.9129397   0.01035363  0.04389814\n",
      " -0.00887448  0.02461033  0.13894932  0.89163965 -0.00335299 -0.00286374\n",
      "  0.66288793  0.00499094  0.00404119 -0.02079994  0.03609036  0.13944583\n",
      "  0.33879218  0.00455639  0.0431973 ]\n",
      "sigma=[0.15006271 0.06768939 0.06386442 0.10534789 0.38669702 0.05287685\n",
      " 0.03399847 0.15604737 0.04349166 0.06912761 0.06136308 0.05313667\n",
      " 0.34274408 0.6607355  0.05681258 0.04770199 0.0536626  0.6587149\n",
      " 0.6495558  0.06557795 0.06153065]\n",
      "2023-05-17 10:48:18.236 | DEBUG    | __main__:<module>:149 - Action scale: [ 9.3787166   9.3787166   9.3787166  67.82454673 67.82454673 67.82454673\n",
      "  0.99997878]\n",
      "2023-05-17 10:48:18.237 | DEBUG    | __main__:<module>:157 - Chunk 0 -> 5000...\n",
      "2023-05-17 10:48:34.418 | DEBUG    | __main__:<module>:157 - Chunk 5000 -> 10000...\n",
      "2023-05-17 10:48:50.475 | DEBUG    | __main__:<module>:157 - Chunk 10000 -> 15000...\n",
      "2023-05-17 10:49:06.840 | DEBUG    | __main__:<module>:157 - Chunk 15000 -> 20000...\n",
      "2023-05-17 10:49:23.286 | DEBUG    | __main__:<module>:157 - Chunk 20000 -> 25000...\n",
      "2023-05-17 10:49:39.858 | DEBUG    | __main__:<module>:157 - Chunk 25000 -> 30000...\n",
      "2023-05-17 10:49:55.976 | DEBUG    | __main__:<module>:157 - Chunk 30000 -> 35000...\n",
      "2023-05-17 10:49:56.475 | DEBUG    | __main__:<module>:161 - Merging dist mats...\n",
      "2023-05-17 10:50:01.206 | DEBUG    | __main__:<module>:200 - -----------------------------------------------------------\n",
      "2023-05-17 10:50:01.207 | DEBUG    | __main__:<module>:202 - Files = ['data/hvs/human_square_30k.npz']\n",
      "2023-05-17 10:50:01.208 | DEBUG    | __main__:<module>:204 - Var[0] = 0.004239591241477571\n",
      "2023-05-17 10:50:01.209 | DEBUG    | __main__:<module>:204 - Var[1] = 0.0033714229881035996\n",
      "2023-05-17 10:50:01.210 | DEBUG    | __main__:<module>:204 - Var[2] = 0.004280850081560079\n",
      "2023-05-17 10:50:01.211 | DEBUG    | __main__:<module>:204 - Var[3] = 1.5006952595724136e-05\n",
      "2023-05-17 10:50:01.211 | DEBUG    | __main__:<module>:204 - Var[4] = 2.723449562565895e-05\n",
      "2023-05-17 10:50:01.212 | DEBUG    | __main__:<module>:204 - Var[5] = 2.4720061650587488e-05\n",
      "2023-05-17 10:50:01.213 | DEBUG    | __main__:<module>:204 - Var[6] = 0.025496076379847746\n",
      "2023-05-17 10:50:01.214 | DEBUG    | __main__:<module>:205 - Total Var = 0.037454902200860965\n",
      "2023-05-17 10:50:01.215 | DEBUG    | __main__:<module>:206 - Total Weighted Var = 0.1415675946938623\n",
      "2023-05-17 10:50:01.216 | DEBUG    | __main__:<module>:208 - Bin size, avg=3.0059693572991977, med=3.0, range=[1, 20]\n",
      "2023-05-17 10:50:01.217 | DEBUG    | __main__:<module>:211 - Normalized bin size, avg=9.968725068976579e-05, med=9.948928831995754e-05, range=[3.316309610665252e-05, 0.0006632619221330503]\n",
      "2023-05-17 10:50:01.218 | DEBUG    | __main__:<module>:214 - -----------------------------------------------------------\n",
      "2023-05-17 10:50:01.231 | DEBUG    | __main__:<module>:62 - File Path: data/hvs/multihuman-better_square_20k.npz\n",
      "2023-05-17 10:50:01.285 | DEBUG    | __main__:<module>:71 - ['object', 'robot0_eef_pos', 'robot0_eef_quat', 'robot0_eef_eul', 'robot0_eef_vel_ang', 'robot0_eef_vel_lin', 'robot0_gripper_qpos', 'robot0_gripper_qvel', 'robot0_joint_pos', 'robot0_joint_pos_cos', 'robot0_joint_pos_sin', 'robot0_joint_vel', 'action', 'policy_type', 'policy_name', 'policy_switch', 'reward', 'done', 'rollout_timestep']\n",
      "2023-05-17 10:50:01.286 | DEBUG    | __main__:<module>:87 - Key Name: robot0_eef_pos, raw shape: (18527, 3)\n",
      "2023-05-17 10:50:01.289 | DEBUG    | __main__:<module>:87 - Key Name: robot0_eef_quat, raw shape: (18527, 4)\n",
      "2023-05-17 10:50:01.290 | DEBUG    | __main__:<module>:87 - Key Name: object, raw shape: (18527, 14)\n",
      "2023-05-17 10:50:01.292 | DEBUG    | __main__:<module>:88 - Action Key Name: action, raw shape: (18527, 7)\n",
      "2023-05-17 10:50:01.293 | DEBUG    | __main__:<module>:89 - Episode Done Name: done\n",
      "2023-05-17 10:50:01.299 | DEBUG    | __main__:<module>:123 - New Data shape: (18527, 21)\n",
      "2023-05-17 10:50:01.301 | DEBUG    | __main__:<module>:124 - New Action shape: (18527, 7)\n",
      "2023-05-17 10:50:01.302 | DEBUG    | __main__:<module>:129 - Loading data/hvs/human_square_30k.npz for normalizing states...\n",
      "2023-05-17 10:50:01.329 | DEBUG    | __main__:<module>:129 - Loading data/hvs/multihuman-better_square_20k.npz for normalizing states...\n",
      "2023-05-17 10:50:01.347 | DEBUG    | __main__:<module>:129 - Loading data/hvs/multihuman-okay_square_25k.npz for normalizing states...\n",
      "2023-05-17 10:50:01.370 | DEBUG    | __main__:<module>:129 - Loading data/hvs/multihuman-worse_square_35k.npz for normalizing states...\n",
      "2023-05-17 10:50:01.417 | DEBUG    | __main__:<module>:138 - Using normalized state data: \n",
      "mu=[ 0.01607535  0.11989023  0.9277087   0.9129397   0.01035363  0.04389814\n",
      " -0.00887448  0.02461033  0.13894932  0.89163965 -0.00335299 -0.00286374\n",
      "  0.66288793  0.00499094  0.00404119 -0.02079994  0.03609036  0.13944583\n",
      "  0.33879218  0.00455639  0.0431973 ]\n",
      "sigma=[0.15006271 0.06768939 0.06386442 0.10534789 0.38669702 0.05287685\n",
      " 0.03399847 0.15604737 0.04349166 0.06912761 0.06136308 0.05313667\n",
      " 0.34274408 0.6607355  0.05681258 0.04770199 0.0536626  0.6587149\n",
      " 0.6495558  0.06557795 0.06153065]\n",
      "2023-05-17 10:50:01.420 | DEBUG    | __main__:<module>:149 - Action scale: [ 9.3787166   9.3787166   9.3787166  67.82454673 67.82454673 67.82454673\n",
      "  0.99997878]\n",
      "2023-05-17 10:50:01.421 | DEBUG    | __main__:<module>:157 - Chunk 0 -> 5000...\n",
      "2023-05-17 10:50:11.763 | DEBUG    | __main__:<module>:157 - Chunk 5000 -> 10000...\n",
      "2023-05-17 10:50:21.703 | DEBUG    | __main__:<module>:157 - Chunk 10000 -> 15000...\n",
      "2023-05-17 10:50:31.922 | DEBUG    | __main__:<module>:157 - Chunk 15000 -> 20000...\n",
      "2023-05-17 10:50:38.900 | DEBUG    | __main__:<module>:161 - Merging dist mats...\n",
      "2023-05-17 10:50:40.818 | DEBUG    | __main__:<module>:200 - -----------------------------------------------------------\n",
      "2023-05-17 10:50:40.818 | DEBUG    | __main__:<module>:202 - Files = ['data/hvs/multihuman-better_square_20k.npz']\n",
      "2023-05-17 10:50:40.822 | DEBUG    | __main__:<module>:204 - Var[0] = 0.0021944794354569657\n",
      "2023-05-17 10:50:40.822 | DEBUG    | __main__:<module>:204 - Var[1] = 0.002027142636414461\n",
      "2023-05-17 10:50:40.825 | DEBUG    | __main__:<module>:204 - Var[2] = 0.003354989949934708\n",
      "2023-05-17 10:50:40.825 | DEBUG    | __main__:<module>:204 - Var[3] = 1.277374851094611e-05\n",
      "2023-05-17 10:50:40.828 | DEBUG    | __main__:<module>:204 - Var[4] = 1.5138017643736949e-05\n"
     ]
    },
    {
     "name": "stderr",
     "output_type": "stream",
     "text": [
      "2023-05-17 10:50:40.828 | DEBUG    | __main__:<module>:204 - Var[5] = 1.5442886301323144e-05\n",
      "2023-05-17 10:50:40.831 | DEBUG    | __main__:<module>:204 - Var[6] = 0.03777850125846178\n",
      "2023-05-17 10:50:40.833 | DEBUG    | __main__:<module>:205 - Total Var = 0.04539846793272392\n",
      "2023-05-17 10:50:40.834 | DEBUG    | __main__:<module>:206 - Total Weighted Var = 0.11177710625587182\n",
      "2023-05-17 10:50:40.835 | DEBUG    | __main__:<module>:208 - Bin size, avg=4.087385977222432, med=3.0, range=[1, 21]\n",
      "2023-05-17 10:50:40.839 | DEBUG    | __main__:<module>:211 - Normalized bin size, avg=0.00022061779981769484, med=0.00016192583796621147, range=[5.397527932207049e-05, 0.0011334808657634803]\n",
      "2023-05-17 10:50:40.839 | DEBUG    | __main__:<module>:214 - -----------------------------------------------------------\n",
      "2023-05-17 10:50:40.861 | DEBUG    | __main__:<module>:62 - File Path: data/hvs/multihuman-okay_square_25k.npz\n",
      "2023-05-17 10:50:40.930 | DEBUG    | __main__:<module>:71 - ['object', 'robot0_eef_pos', 'robot0_eef_quat', 'robot0_eef_eul', 'robot0_eef_vel_ang', 'robot0_eef_vel_lin', 'robot0_gripper_qpos', 'robot0_gripper_qvel', 'robot0_joint_pos', 'robot0_joint_pos_cos', 'robot0_joint_pos_sin', 'robot0_joint_vel', 'action', 'policy_type', 'policy_name', 'policy_switch', 'reward', 'done', 'rollout_timestep']\n",
      "2023-05-17 10:50:40.932 | DEBUG    | __main__:<module>:87 - Key Name: robot0_eef_pos, raw shape: (26456, 3)\n",
      "2023-05-17 10:50:40.932 | DEBUG    | __main__:<module>:87 - Key Name: robot0_eef_quat, raw shape: (26456, 4)\n",
      "2023-05-17 10:50:40.933 | DEBUG    | __main__:<module>:87 - Key Name: object, raw shape: (26456, 14)\n",
      "2023-05-17 10:50:40.934 | DEBUG    | __main__:<module>:88 - Action Key Name: action, raw shape: (26456, 7)\n",
      "2023-05-17 10:50:40.935 | DEBUG    | __main__:<module>:89 - Episode Done Name: done\n",
      "2023-05-17 10:50:40.942 | DEBUG    | __main__:<module>:123 - New Data shape: (26456, 21)\n",
      "2023-05-17 10:50:40.943 | DEBUG    | __main__:<module>:124 - New Action shape: (26456, 7)\n",
      "2023-05-17 10:50:40.943 | DEBUG    | __main__:<module>:129 - Loading data/hvs/human_square_30k.npz for normalizing states...\n",
      "2023-05-17 10:50:40.967 | DEBUG    | __main__:<module>:129 - Loading data/hvs/multihuman-better_square_20k.npz for normalizing states...\n",
      "2023-05-17 10:50:40.981 | DEBUG    | __main__:<module>:129 - Loading data/hvs/multihuman-okay_square_25k.npz for normalizing states...\n",
      "2023-05-17 10:50:41.001 | DEBUG    | __main__:<module>:129 - Loading data/hvs/multihuman-worse_square_35k.npz for normalizing states...\n",
      "2023-05-17 10:50:41.048 | DEBUG    | __main__:<module>:138 - Using normalized state data: \n",
      "mu=[ 0.01607535  0.11989023  0.9277087   0.9129397   0.01035363  0.04389814\n",
      " -0.00887448  0.02461033  0.13894932  0.89163965 -0.00335299 -0.00286374\n",
      "  0.66288793  0.00499094  0.00404119 -0.02079994  0.03609036  0.13944583\n",
      "  0.33879218  0.00455639  0.0431973 ]\n",
      "sigma=[0.15006271 0.06768939 0.06386442 0.10534789 0.38669702 0.05287685\n",
      " 0.03399847 0.15604737 0.04349166 0.06912761 0.06136308 0.05313667\n",
      " 0.34274408 0.6607355  0.05681258 0.04770199 0.0536626  0.6587149\n",
      " 0.6495558  0.06557795 0.06153065]\n",
      "2023-05-17 10:50:41.051 | DEBUG    | __main__:<module>:149 - Action scale: [ 9.3787166   9.3787166   9.3787166  67.82454673 67.82454673 67.82454673\n",
      "  0.99997878]\n",
      "2023-05-17 10:50:41.052 | DEBUG    | __main__:<module>:157 - Chunk 0 -> 5000...\n",
      "2023-05-17 10:50:55.339 | DEBUG    | __main__:<module>:157 - Chunk 5000 -> 10000...\n",
      "2023-05-17 10:51:09.682 | DEBUG    | __main__:<module>:157 - Chunk 10000 -> 15000...\n",
      "2023-05-17 10:51:23.688 | DEBUG    | __main__:<module>:157 - Chunk 15000 -> 20000...\n",
      "2023-05-17 10:51:37.985 | DEBUG    | __main__:<module>:157 - Chunk 20000 -> 25000...\n",
      "2023-05-17 10:51:52.539 | DEBUG    | __main__:<module>:157 - Chunk 25000 -> 30000...\n",
      "2023-05-17 10:51:56.732 | DEBUG    | __main__:<module>:161 - Merging dist mats...\n",
      "2023-05-17 10:52:00.582 | DEBUG    | __main__:<module>:200 - -----------------------------------------------------------\n",
      "2023-05-17 10:52:00.583 | DEBUG    | __main__:<module>:202 - Files = ['data/hvs/multihuman-okay_square_25k.npz']\n",
      "2023-05-17 10:52:00.583 | DEBUG    | __main__:<module>:204 - Var[0] = 0.004519012515768917\n",
      "2023-05-17 10:52:00.585 | DEBUG    | __main__:<module>:204 - Var[1] = 0.004346084366635207\n",
      "2023-05-17 10:52:00.586 | DEBUG    | __main__:<module>:204 - Var[2] = 0.004546784034715309\n",
      "2023-05-17 10:52:00.587 | DEBUG    | __main__:<module>:204 - Var[3] = 1.1202002169192056e-05\n",
      "2023-05-17 10:52:00.588 | DEBUG    | __main__:<module>:204 - Var[4] = 1.4303253311769569e-05\n",
      "2023-05-17 10:52:00.590 | DEBUG    | __main__:<module>:204 - Var[5] = 2.2102266485884008e-05\n",
      "2023-05-17 10:52:00.592 | DEBUG    | __main__:<module>:204 - Var[6] = 0.04425899939250938\n",
      "2023-05-17 10:52:00.592 | DEBUG    | __main__:<module>:205 - Total Var = 0.05771848783159566\n",
      "2023-05-17 10:52:00.593 | DEBUG    | __main__:<module>:206 - Total Weighted Var = 0.17327324910013692\n",
      "2023-05-17 10:52:00.594 | DEBUG    | __main__:<module>:208 - Bin size, avg=5.460084668884185, med=4.0, range=[1, 43]\n",
      "2023-05-17 10:52:00.596 | DEBUG    | __main__:<module>:211 - Normalized bin size, avg=0.00020638360556713732, med=0.00015119443604475356, range=[3.779860901118839e-05, 0.0016253401874811006]\n",
      "2023-05-17 10:52:00.597 | DEBUG    | __main__:<module>:214 - -----------------------------------------------------------\n",
      "2023-05-17 10:52:00.622 | DEBUG    | __main__:<module>:62 - File Path: data/hvs/multihuman-worse_square_35k.npz\n",
      "2023-05-17 10:52:00.690 | DEBUG    | __main__:<module>:71 - ['object', 'robot0_eef_pos', 'robot0_eef_quat', 'robot0_eef_eul', 'robot0_eef_vel_ang', 'robot0_eef_vel_lin', 'robot0_gripper_qpos', 'robot0_gripper_qvel', 'robot0_joint_pos', 'robot0_joint_pos_cos', 'robot0_joint_pos_sin', 'robot0_joint_vel', 'action', 'policy_type', 'policy_name', 'policy_switch', 'reward', 'done', 'rollout_timestep']\n",
      "2023-05-17 10:52:00.691 | DEBUG    | __main__:<module>:87 - Key Name: robot0_eef_pos, raw shape: (35748, 3)\n",
      "2023-05-17 10:52:00.691 | DEBUG    | __main__:<module>:87 - Key Name: robot0_eef_quat, raw shape: (35748, 4)\n",
      "2023-05-17 10:52:00.692 | DEBUG    | __main__:<module>:87 - Key Name: object, raw shape: (35748, 14)\n",
      "2023-05-17 10:52:00.692 | DEBUG    | __main__:<module>:88 - Action Key Name: action, raw shape: (35748, 7)\n",
      "2023-05-17 10:52:00.692 | DEBUG    | __main__:<module>:89 - Episode Done Name: done\n",
      "2023-05-17 10:52:00.700 | DEBUG    | __main__:<module>:123 - New Data shape: (35748, 21)\n",
      "2023-05-17 10:52:00.701 | DEBUG    | __main__:<module>:124 - New Action shape: (35748, 7)\n",
      "2023-05-17 10:52:00.701 | DEBUG    | __main__:<module>:129 - Loading data/hvs/human_square_30k.npz for normalizing states...\n",
      "2023-05-17 10:52:00.721 | DEBUG    | __main__:<module>:129 - Loading data/hvs/multihuman-better_square_20k.npz for normalizing states...\n",
      "2023-05-17 10:52:00.732 | DEBUG    | __main__:<module>:129 - Loading data/hvs/multihuman-okay_square_25k.npz for normalizing states...\n",
      "2023-05-17 10:52:00.747 | DEBUG    | __main__:<module>:129 - Loading data/hvs/multihuman-worse_square_35k.npz for normalizing states...\n",
      "2023-05-17 10:52:00.781 | DEBUG    | __main__:<module>:138 - Using normalized state data: \n",
      "mu=[ 0.01607535  0.11989023  0.9277087   0.9129397   0.01035363  0.04389814\n",
      " -0.00887448  0.02461033  0.13894932  0.89163965 -0.00335299 -0.00286374\n",
      "  0.66288793  0.00499094  0.00404119 -0.02079994  0.03609036  0.13944583\n",
      "  0.33879218  0.00455639  0.0431973 ]\n",
      "sigma=[0.15006271 0.06768939 0.06386442 0.10534789 0.38669702 0.05287685\n",
      " 0.03399847 0.15604737 0.04349166 0.06912761 0.06136308 0.05313667\n",
      " 0.34274408 0.6607355  0.05681258 0.04770199 0.0536626  0.6587149\n",
      " 0.6495558  0.06557795 0.06153065]\n",
      "2023-05-17 10:52:00.785 | DEBUG    | __main__:<module>:149 - Action scale: [ 9.3787166   9.3787166   9.3787166  67.82454673 67.82454673 67.82454673\n",
      "  0.99997878]\n",
      "2023-05-17 10:52:00.786 | DEBUG    | __main__:<module>:157 - Chunk 0 -> 5000...\n",
      "2023-05-17 10:52:19.715 | DEBUG    | __main__:<module>:157 - Chunk 5000 -> 10000...\n",
      "2023-05-17 10:52:39.232 | DEBUG    | __main__:<module>:157 - Chunk 10000 -> 15000...\n",
      "2023-05-17 10:52:58.245 | DEBUG    | __main__:<module>:157 - Chunk 15000 -> 20000...\n"
     ]
    },
    {
     "name": "stderr",
     "output_type": "stream",
     "text": [
      "2023-05-17 10:53:17.558 | DEBUG    | __main__:<module>:157 - Chunk 20000 -> 25000...\n",
      "2023-05-17 10:53:37.358 | DEBUG    | __main__:<module>:157 - Chunk 25000 -> 30000...\n",
      "2023-05-17 10:53:56.388 | DEBUG    | __main__:<module>:157 - Chunk 30000 -> 35000...\n",
      "2023-05-17 10:54:15.582 | DEBUG    | __main__:<module>:157 - Chunk 35000 -> 40000...\n",
      "2023-05-17 10:54:18.494 | DEBUG    | __main__:<module>:161 - Merging dist mats...\n",
      "2023-05-17 10:54:25.184 | DEBUG    | __main__:<module>:200 - -----------------------------------------------------------\n",
      "2023-05-17 10:54:25.185 | DEBUG    | __main__:<module>:202 - Files = ['data/hvs/multihuman-worse_square_35k.npz']\n",
      "2023-05-17 10:54:25.186 | DEBUG    | __main__:<module>:204 - Var[0] = 0.001994842237324273\n",
      "2023-05-17 10:54:25.186 | DEBUG    | __main__:<module>:204 - Var[1] = 0.002169449051032044\n",
      "2023-05-17 10:54:25.187 | DEBUG    | __main__:<module>:204 - Var[2] = 0.0035484180997591673\n",
      "2023-05-17 10:54:25.187 | DEBUG    | __main__:<module>:204 - Var[3] = 8.110819970622699e-06\n",
      "2023-05-17 10:54:25.188 | DEBUG    | __main__:<module>:204 - Var[4] = 1.4614196875182109e-05\n",
      "2023-05-17 10:54:25.188 | DEBUG    | __main__:<module>:204 - Var[5] = 1.6748911408686504e-05\n",
      "2023-05-17 10:54:25.189 | DEBUG    | __main__:<module>:204 - Var[6] = 0.033257794338571824\n",
      "2023-05-17 10:54:25.189 | DEBUG    | __main__:<module>:205 - Total Var = 0.0410099776549418\n",
      "2023-05-17 10:54:25.190 | DEBUG    | __main__:<module>:206 - Total Weighted Var = 0.1082697055295813\n",
      "2023-05-17 10:54:25.192 | DEBUG    | __main__:<module>:208 - Bin size, avg=5.241412106971019, med=4.0, range=[1, 34]\n",
      "2023-05-17 10:54:25.193 | DEBUG    | __main__:<module>:211 - Normalized bin size, avg=0.00014662112864974317, med=0.00011189437171310283, range=[2.7973592928275707e-05, 0.0009511021595613741]\n",
      "2023-05-17 10:54:25.198 | DEBUG    | __main__:<module>:214 - -----------------------------------------------------------\n"
     ]
    }
   ],
   "source": [
    "#SQUARE\n",
    "dsets = [\n",
    "    'human_square_30k',\n",
    "#     'multihuman_square_80k',\n",
    "    'multihuman-better_square_20k',\n",
    "    'multihuman-okay_square_25k',\n",
    "    'multihuman-worse_square_35k',\n",
    "#     'scripted_rm_lsn0_05_square_200ep',\n",
    "#     'scripted_rm_lpn0_005_square_200ep'\n",
    "]\n",
    "\n",
    "abs_dsets = [f'data/hvs/{dset}.npz' for dset in dsets]\n",
    "\n",
    "# norm_file = 'data/hvs/human_square_30k.npz'\n",
    "norm_file = sweep_from_arr(abs_dsets)[3:-3]\n",
    "\n",
    "# some fixed normalization (1/sig^2)\n",
    "action = []\n",
    "for d in abs_dsets:\n",
    "    data = np.load(d, allow_pickle=True)\n",
    "    action.append(data['action'])\n",
    "action = np.concatenate(action, axis=0)\n",
    "\n",
    "sigma = action.std(axis=0)\n",
    "# sigma=[0.33783787, 0.64600927, 0.4043406,  0.0595378,  0.07067125, 0.17431368, 0.9928263]\n",
    "sigma=[1 / max(sigma[:3])**2] * 3 + [1 / max(sigma[3:6])**2] * 3 + [1 / sigma[6]**2]\n",
    "sigma_str = sweep_from_arr(sigma)[3:-3]\n",
    "\n",
    "for dset in dsets:\n",
    "    dataset = f\"data/hvs/{dset}.npz\"\n",
    "    %run scripts/hvs/plot_action_variance.py --file {dataset} --key robot0_eef_pos robot0_eef_quat object --use_state_norm --state_norm_file {norm_file} --action_key action --action_scale {sigma_str} --cluster_eps 0.2\n",
    "        "
   ]
  },
  {
   "cell_type": "code",
   "execution_count": 4,
   "metadata": {
    "collapsed": true
   },
   "outputs": [
    {
     "name": "stderr",
     "output_type": "stream",
     "text": [
      "2023-05-14 12:29:00.145 | DEBUG    | __main__:<module>:61 - File Path: data/hvs/scripted_rm_lsn0_05_square_200ep.npz\n",
      "2023-05-14 12:29:00.250 | DEBUG    | __main__:<module>:70 - ['object', 'robot0_eef_pos', 'robot0_eef_eul', 'robot0_eef_quat', 'robot0_eef_vel_ang', 'robot0_eef_vel_lin', 'robot0_gripper_qpos', 'robot0_gripper_qvel', 'robot0_joint_pos', 'robot0_joint_pos_cos', 'robot0_joint_pos_sin', 'robot0_joint_vel', 'action', 'policy_type', 'policy_name', 'policy_switch', 'reward', 'done', 'rollout_timestep']\n",
      "2023-05-14 12:29:00.250 | DEBUG    | __main__:<module>:86 - Key Name: robot0_eef_pos, raw shape: (46909, 3)\n",
      "2023-05-14 12:29:00.251 | DEBUG    | __main__:<module>:86 - Key Name: robot0_eef_quat, raw shape: (46909, 4)\n",
      "2023-05-14 12:29:00.251 | DEBUG    | __main__:<module>:86 - Key Name: object, raw shape: (46909, 14)\n",
      "2023-05-14 12:29:00.252 | DEBUG    | __main__:<module>:87 - Action Key Name: action, raw shape: (46909, 7)\n",
      "2023-05-14 12:29:00.252 | DEBUG    | __main__:<module>:88 - Episode Done Name: done\n",
      "2023-05-14 12:29:00.265 | DEBUG    | __main__:<module>:122 - New Data shape: (46909, 21)\n",
      "2023-05-14 12:29:00.265 | DEBUG    | __main__:<module>:123 - New Action shape: (46909, 7)\n",
      "2023-05-14 12:29:00.274 | DEBUG    | __main__:<module>:128 - Using normalized state data: \n",
      "mu=[-1.21578213e-03  1.32272884e-01  9.40987468e-01  8.09760332e-01\n",
      "  3.94872874e-01  4.30514384e-03  2.56326428e-04 -2.61909980e-03\n",
      "  1.48603603e-01  9.17243123e-01 -1.65977995e-04  1.65720936e-04\n",
      "  4.49192226e-01 -2.10873291e-01 -3.73393157e-03 -1.48218628e-02\n",
      "  2.35507116e-02  1.10958844e-01  1.66938066e-01  2.18241083e-04\n",
      "  2.32008472e-03]\n",
      "sigma=[0.1441377  0.06457236 0.05695725 0.12054926 0.41663298 0.01077221\n",
      " 0.00381879 0.14326195 0.05417487 0.07044843 0.00449331 0.00440299\n",
      " 0.53582036 0.68312675 0.05974923 0.03990208 0.04749228 0.71617705\n",
      " 0.6684021  0.00776789 0.00689247]\n",
      "2023-05-14 12:29:00.279 | DEBUG    | __main__:<module>:139 - Action scale: [ 5.70903864  5.70903864  5.70903864 41.66081198 41.66081198 41.66081198\n",
      "  1.00296452]\n",
      "2023-05-14 12:29:00.280 | DEBUG    | __main__:<module>:147 - Chunk 0 -> 5000...\n",
      "2023-05-14 12:29:25.028 | DEBUG    | __main__:<module>:147 - Chunk 5000 -> 10000...\n",
      "2023-05-14 12:29:49.333 | DEBUG    | __main__:<module>:147 - Chunk 10000 -> 15000...\n",
      "2023-05-14 12:30:13.581 | DEBUG    | __main__:<module>:147 - Chunk 15000 -> 20000...\n",
      "2023-05-14 12:30:38.313 | DEBUG    | __main__:<module>:147 - Chunk 20000 -> 25000...\n",
      "2023-05-14 12:31:03.347 | DEBUG    | __main__:<module>:147 - Chunk 25000 -> 30000...\n",
      "2023-05-14 12:31:27.820 | DEBUG    | __main__:<module>:147 - Chunk 30000 -> 35000...\n",
      "2023-05-14 12:31:52.098 | DEBUG    | __main__:<module>:147 - Chunk 35000 -> 40000...\n",
      "2023-05-14 12:32:16.694 | DEBUG    | __main__:<module>:147 - Chunk 40000 -> 45000...\n",
      "2023-05-14 12:32:41.752 | DEBUG    | __main__:<module>:147 - Chunk 45000 -> 50000...\n",
      "2023-05-14 12:32:51.243 | DEBUG    | __main__:<module>:151 - Merging dist mats...\n",
      "2023-05-14 12:33:01.966 | DEBUG    | __main__:<module>:174 - -----------------------------------------------------------\n",
      "2023-05-14 12:33:01.968 | DEBUG    | __main__:<module>:176 - Files = ['data/hvs/scripted_rm_lsn0_05_square_200ep.npz']\n",
      "2023-05-14 12:33:01.968 | DEBUG    | __main__:<module>:178 - Var[0] = 7.476742914993972e-05\n",
      "2023-05-14 12:33:01.969 | DEBUG    | __main__:<module>:178 - Var[1] = 2.1953956805714527e-05\n",
      "2023-05-14 12:33:01.969 | DEBUG    | __main__:<module>:178 - Var[2] = 0.0006783563328039189\n",
      "2023-05-14 12:33:01.970 | DEBUG    | __main__:<module>:178 - Var[3] = 2.3927402007753695e-08\n",
      "2023-05-14 12:33:01.970 | DEBUG    | __main__:<module>:178 - Var[4] = 3.683673535769565e-08\n",
      "2023-05-14 12:33:01.971 | DEBUG    | __main__:<module>:178 - Var[5] = 0.0005365676466163273\n",
      "2023-05-14 12:33:01.971 | DEBUG    | __main__:<module>:178 - Var[6] = 0.012933627507629131\n",
      "2023-05-14 12:33:01.972 | DEBUG    | __main__:<module>:179 - Total Var = 0.014245333637142397\n",
      "2023-05-14 12:33:01.972 | DEBUG    | __main__:<module>:180 - Total Weighted Var = 0.03975329340763449\n",
      "2023-05-14 12:33:01.975 | DEBUG    | __main__:<module>:182 - Bin size, avg=1.5252297000575583, med=1.0, range=[1, 21]\n",
      "2023-05-14 12:33:01.976 | DEBUG    | __main__:<module>:185 - Normalized bin size, avg=3.25146496420209e-05, med=2.1317870771067386e-05, range=[2.1317870771067386e-05, 0.0004476752861924151]\n",
      "2023-05-14 12:33:01.983 | DEBUG    | __main__:<module>:188 - -----------------------------------------------------------\n",
      "2023-05-14 12:33:02.034 | DEBUG    | __main__:<module>:61 - File Path: data/hvs/scripted_rm_lpn0_005_square_200ep.npz\n",
      "2023-05-14 12:33:02.129 | DEBUG    | __main__:<module>:70 - ['object', 'robot0_eef_pos', 'robot0_eef_eul', 'robot0_eef_quat', 'robot0_eef_vel_ang', 'robot0_eef_vel_lin', 'robot0_gripper_qpos', 'robot0_gripper_qvel', 'robot0_joint_pos', 'robot0_joint_pos_cos', 'robot0_joint_pos_sin', 'robot0_joint_vel', 'action', 'policy_type', 'policy_name', 'policy_switch', 'reward', 'done', 'rollout_timestep']\n",
      "2023-05-14 12:33:02.130 | DEBUG    | __main__:<module>:86 - Key Name: robot0_eef_pos, raw shape: (46980, 3)\n",
      "2023-05-14 12:33:02.131 | DEBUG    | __main__:<module>:86 - Key Name: robot0_eef_quat, raw shape: (46980, 4)\n",
      "2023-05-14 12:33:02.131 | DEBUG    | __main__:<module>:86 - Key Name: object, raw shape: (46980, 14)\n",
      "2023-05-14 12:33:02.132 | DEBUG    | __main__:<module>:87 - Action Key Name: action, raw shape: (46980, 7)\n",
      "2023-05-14 12:33:02.132 | DEBUG    | __main__:<module>:88 - Episode Done Name: done\n",
      "2023-05-14 12:33:02.144 | DEBUG    | __main__:<module>:122 - New Data shape: (46980, 21)\n",
      "2023-05-14 12:33:02.145 | DEBUG    | __main__:<module>:123 - New Action shape: (46980, 7)\n",
      "2023-05-14 12:33:02.153 | DEBUG    | __main__:<module>:128 - Using normalized state data: \n",
      "mu=[ 6.7781960e-04  1.2978841e-01  9.4075269e-01  8.0489039e-01\n",
      "  4.2751163e-01  4.2851050e-03  2.4231938e-04 -1.4522801e-03\n",
      "  1.4685389e-01  9.1741765e-01 -2.8204580e-05  2.4350612e-04\n",
      "  4.5266050e-01 -2.1459313e-01 -2.4967033e-03 -1.4622728e-02\n",
      "  2.3188539e-02  7.5394489e-02  1.6347097e-01  2.7253738e-04\n",
      "  2.4067054e-03]\n",
      "sigma=[0.1442189  0.06426968 0.0571559  0.11839471 0.3938818  0.01087282\n",
      " 0.00380463 0.14397644 0.05275042 0.07066219 0.0043408  0.00442865\n",
      " 0.52634203 0.6870441  0.05980573 0.03933082 0.04752899 0.72487074\n",
      " 0.66487616 0.00779825 0.0070394 ]\n",
      "2023-05-14 12:33:02.158 | DEBUG    | __main__:<module>:139 - Action scale: [ 5.70903864  5.70903864  5.70903864 41.66081198 41.66081198 41.66081198\n",
      "  1.00296452]\n",
      "2023-05-14 12:33:02.158 | DEBUG    | __main__:<module>:147 - Chunk 0 -> 5000...\n",
      "2023-05-14 12:33:26.522 | DEBUG    | __main__:<module>:147 - Chunk 5000 -> 10000...\n",
      "2023-05-14 12:33:51.183 | DEBUG    | __main__:<module>:147 - Chunk 10000 -> 15000...\n",
      "2023-05-14 12:34:15.837 | DEBUG    | __main__:<module>:147 - Chunk 15000 -> 20000...\n",
      "2023-05-14 12:34:40.349 | DEBUG    | __main__:<module>:147 - Chunk 20000 -> 25000...\n",
      "2023-05-14 12:35:04.875 | DEBUG    | __main__:<module>:147 - Chunk 25000 -> 30000...\n",
      "2023-05-14 12:35:29.319 | DEBUG    | __main__:<module>:147 - Chunk 30000 -> 35000...\n",
      "2023-05-14 12:35:54.256 | DEBUG    | __main__:<module>:147 - Chunk 35000 -> 40000...\n",
      "2023-05-14 12:36:18.790 | DEBUG    | __main__:<module>:147 - Chunk 40000 -> 45000...\n",
      "2023-05-14 12:36:43.256 | DEBUG    | __main__:<module>:147 - Chunk 45000 -> 50000...\n",
      "2023-05-14 12:36:53.019 | DEBUG    | __main__:<module>:151 - Merging dist mats...\n",
      "2023-05-14 12:37:03.782 | DEBUG    | __main__:<module>:174 - -----------------------------------------------------------\n",
      "2023-05-14 12:37:03.782 | DEBUG    | __main__:<module>:176 - Files = ['data/hvs/scripted_rm_lpn0_005_square_200ep.npz']\n",
      "2023-05-14 12:37:03.783 | DEBUG    | __main__:<module>:178 - Var[0] = 0.0003823717604506322\n",
      "2023-05-14 12:37:03.784 | DEBUG    | __main__:<module>:178 - Var[1] = 0.0003316588336558354\n",
      "2023-05-14 12:37:03.784 | DEBUG    | __main__:<module>:178 - Var[2] = 0.001441599113073468\n",
      "2023-05-14 12:37:03.785 | DEBUG    | __main__:<module>:178 - Var[3] = 1.86111823246711e-08\n",
      "2023-05-14 12:37:03.785 | DEBUG    | __main__:<module>:178 - Var[4] = 3.858095397250353e-08\n",
      "2023-05-14 12:37:03.786 | DEBUG    | __main__:<module>:178 - Var[5] = 0.0007808622593666126\n"
     ]
    },
    {
     "name": "stderr",
     "output_type": "stream",
     "text": [
      "2023-05-14 12:37:03.786 | DEBUG    | __main__:<module>:178 - Var[6] = 0.01711128671273348\n",
      "2023-05-14 12:37:03.787 | DEBUG    | __main__:<module>:179 - Total Var = 0.020047835871416324\n",
      "2023-05-14 12:37:03.787 | DEBUG    | __main__:<module>:180 - Total Weighted Var = 0.062002325107673145\n",
      "2023-05-14 12:37:03.789 | DEBUG    | __main__:<module>:182 - Bin size, avg=2.0489995742869307, med=1.0, range=[1, 58]\n",
      "2023-05-14 12:37:03.797 | DEBUG    | __main__:<module>:185 - Normalized bin size, avg=4.3614294897550674e-05, med=2.1285653469561517e-05, range=[2.1285653469561517e-05, 0.0012345679012345679]\n",
      "2023-05-14 12:37:03.798 | DEBUG    | __main__:<module>:188 - -----------------------------------------------------------\n"
     ]
    }
   ],
   "source": []
  },
  {
   "cell_type": "code",
   "execution_count": null,
   "metadata": {},
   "outputs": [],
   "source": []
  },
  {
   "cell_type": "code",
   "execution_count": 2,
   "metadata": {
    "scrolled": true
   },
   "outputs": [
    {
     "name": "stderr",
     "output_type": "stream",
     "text": [
      "2023-05-14 17:33:12.158 | DEBUG    | __main__:<module>:62 - File Path: data/hvs/human_can_25k.npz\n",
      "2023-05-14 17:33:12.215 | DEBUG    | __main__:<module>:71 - ['object', 'robot0_eef_pos', 'robot0_eef_quat', 'robot0_eef_eul', 'robot0_eef_vel_ang', 'robot0_eef_vel_lin', 'robot0_gripper_qpos', 'robot0_gripper_qvel', 'robot0_joint_pos', 'robot0_joint_pos_cos', 'robot0_joint_pos_sin', 'robot0_joint_vel', 'action', 'policy_type', 'policy_name', 'policy_switch', 'reward', 'done', 'rollout_timestep']\n",
      "2023-05-14 17:33:12.216 | DEBUG    | __main__:<module>:87 - Key Name: robot0_eef_pos, raw shape: (23207, 3)\n",
      "2023-05-14 17:33:12.216 | DEBUG    | __main__:<module>:87 - Key Name: robot0_eef_quat, raw shape: (23207, 4)\n",
      "2023-05-14 17:33:12.218 | DEBUG    | __main__:<module>:87 - Key Name: object, raw shape: (23207, 14)\n",
      "2023-05-14 17:33:12.219 | DEBUG    | __main__:<module>:88 - Action Key Name: action, raw shape: (23207, 7)\n",
      "2023-05-14 17:33:12.220 | DEBUG    | __main__:<module>:89 - Episode Done Name: done\n",
      "2023-05-14 17:33:12.229 | DEBUG    | __main__:<module>:123 - New Data shape: (23207, 21)\n",
      "2023-05-14 17:33:12.230 | DEBUG    | __main__:<module>:124 - New Action shape: (23207, 7)\n",
      "2023-05-14 17:33:12.235 | DEBUG    | __main__:<module>:134 - Using normalized state data: \n",
      "mu=[ 0.10789825 -0.07529953  0.9834947   0.9626342  -0.01928422  0.0055165\n",
      " -0.05819027  0.12079547 -0.09394874  0.9294035   0.02634832 -0.03636193\n",
      "  0.59351075  0.04856733  0.00991739  0.02163181  0.05544182 -0.03500266\n",
      "  0.42640728  0.00445072  0.033735  ]\n",
      "sigma=[0.07641463 0.21731521 0.07679079 0.05066627 0.23662685 0.04937783\n",
      " 0.09254781 0.06906408 0.23760258 0.08912392 0.08384357 0.08896383\n",
      " 0.35731682 0.70763415 0.04519879 0.05506019 0.05888201 0.70919555\n",
      " 0.5554968  0.05321492 0.03775885]\n",
      "2023-05-14 17:33:12.238 | DEBUG    | __main__:<module>:145 - Action scale: [ 2.39619692  2.39619692  2.39619692 32.91069549 32.91069549 32.91069549\n",
      "  1.01450331]\n",
      "2023-05-14 17:33:12.239 | DEBUG    | __main__:<module>:153 - Chunk 0 -> 5000...\n",
      "2023-05-14 17:33:24.314 | DEBUG    | __main__:<module>:153 - Chunk 5000 -> 10000...\n",
      "2023-05-14 17:33:36.444 | DEBUG    | __main__:<module>:153 - Chunk 10000 -> 15000...\n",
      "2023-05-14 17:33:48.898 | DEBUG    | __main__:<module>:153 - Chunk 15000 -> 20000...\n",
      "2023-05-14 17:34:01.242 | DEBUG    | __main__:<module>:153 - Chunk 20000 -> 25000...\n",
      "2023-05-14 17:34:09.069 | DEBUG    | __main__:<module>:157 - Merging dist mats...\n",
      "2023-05-14 17:34:11.887 | DEBUG    | __main__:<module>:196 - -----------------------------------------------------------\n",
      "2023-05-14 17:34:11.888 | DEBUG    | __main__:<module>:198 - Files = ['data/hvs/human_can_25k.npz']\n",
      "2023-05-14 17:34:11.889 | DEBUG    | __main__:<module>:200 - Var[0] = 0.0034325182895175244\n",
      "2023-05-14 17:34:11.890 | DEBUG    | __main__:<module>:200 - Var[1] = 0.0037118435548348194\n",
      "2023-05-14 17:34:11.891 | DEBUG    | __main__:<module>:200 - Var[2] = 0.00296639651159064\n",
      "2023-05-14 17:34:11.893 | DEBUG    | __main__:<module>:200 - Var[3] = 1.0408058313204818e-05\n",
      "2023-05-14 17:34:11.894 | DEBUG    | __main__:<module>:200 - Var[4] = 1.2299207246157109e-05\n",
      "2023-05-14 17:34:11.895 | DEBUG    | __main__:<module>:200 - Var[5] = 2.844612241366956e-05\n",
      "2023-05-14 17:34:11.896 | DEBUG    | __main__:<module>:200 - Var[6] = 0.024340523532955148\n",
      "2023-05-14 17:34:11.897 | DEBUG    | __main__:<module>:201 - Total Var = 0.03450243527687116\n",
      "2023-05-14 17:34:11.897 | DEBUG    | __main__:<module>:202 - Total Weighted Var = 0.05060440327428119\n",
      "2023-05-14 17:34:11.898 | DEBUG    | __main__:<module>:204 - Bin size, avg=2.3914767096134786, med=2.0, range=[1, 18]\n",
      "2023-05-14 17:34:11.902 | DEBUG    | __main__:<module>:207 - Normalized bin size, avg=0.00010304980004367124, med=8.618089369586763e-05, range=[4.309044684793381e-05, 0.0007756280432628086]\n",
      "2023-05-14 17:34:11.903 | DEBUG    | __main__:<module>:210 - -----------------------------------------------------------\n",
      "2023-05-14 17:34:11.913 | DEBUG    | __main__:<module>:62 - File Path: data/hvs/multihuman-better_can_15k.npz\n",
      "2023-05-14 17:34:11.947 | DEBUG    | __main__:<module>:71 - ['object', 'robot0_eef_pos', 'robot0_eef_quat', 'robot0_eef_eul', 'robot0_eef_vel_ang', 'robot0_eef_vel_lin', 'robot0_gripper_qpos', 'robot0_gripper_qvel', 'robot0_joint_pos', 'robot0_joint_pos_cos', 'robot0_joint_pos_sin', 'robot0_joint_vel', 'action', 'policy_type', 'policy_name', 'policy_switch', 'reward', 'done', 'rollout_timestep']\n",
      "2023-05-14 17:34:11.948 | DEBUG    | __main__:<module>:87 - Key Name: robot0_eef_pos, raw shape: (14264, 3)\n",
      "2023-05-14 17:34:11.948 | DEBUG    | __main__:<module>:87 - Key Name: robot0_eef_quat, raw shape: (14264, 4)\n",
      "2023-05-14 17:34:11.949 | DEBUG    | __main__:<module>:87 - Key Name: object, raw shape: (14264, 14)\n",
      "2023-05-14 17:34:11.949 | DEBUG    | __main__:<module>:88 - Action Key Name: action, raw shape: (14264, 7)\n",
      "2023-05-14 17:34:11.950 | DEBUG    | __main__:<module>:89 - Episode Done Name: done\n",
      "2023-05-14 17:34:11.956 | DEBUG    | __main__:<module>:123 - New Data shape: (14264, 21)\n",
      "2023-05-14 17:34:11.957 | DEBUG    | __main__:<module>:124 - New Action shape: (14264, 7)\n",
      "2023-05-14 17:34:11.961 | DEBUG    | __main__:<module>:134 - Using normalized state data: \n",
      "mu=[ 0.0961124  -0.08451675  0.9754479   0.98263395 -0.00360332  0.01488036\n",
      " -0.02413456  0.10838754 -0.10654894  0.91648453  0.0095121  -0.01932597\n",
      "  0.675739   -0.07864815  0.00920218  0.02228851  0.06017916 -0.05062149\n",
      "  0.40255117  0.00146751  0.02891839]\n",
      "sigma=[0.07555222 0.2207379  0.06687365 0.03180498 0.16466315 0.04025586\n",
      " 0.06228106 0.0687597  0.23914494 0.07759573 0.05188639 0.05640639\n",
      " 0.3058349  0.66130346 0.04770682 0.05979002 0.05718999 0.66179454\n",
      " 0.6275981  0.04305069 0.02910399]\n",
      "2023-05-14 17:34:11.964 | DEBUG    | __main__:<module>:145 - Action scale: [ 2.39619692  2.39619692  2.39619692 32.91069549 32.91069549 32.91069549\n",
      "  1.01450331]\n",
      "2023-05-14 17:34:11.964 | DEBUG    | __main__:<module>:153 - Chunk 0 -> 5000...\n",
      "2023-05-14 17:34:19.426 | DEBUG    | __main__:<module>:153 - Chunk 5000 -> 10000...\n",
      "2023-05-14 17:34:26.903 | DEBUG    | __main__:<module>:153 - Chunk 10000 -> 15000...\n",
      "2023-05-14 17:34:33.281 | DEBUG    | __main__:<module>:157 - Merging dist mats...\n",
      "2023-05-14 17:34:34.418 | DEBUG    | __main__:<module>:196 - -----------------------------------------------------------\n",
      "2023-05-14 17:34:34.419 | DEBUG    | __main__:<module>:198 - Files = ['data/hvs/multihuman-better_can_15k.npz']\n",
      "2023-05-14 17:34:34.420 | DEBUG    | __main__:<module>:200 - Var[0] = 0.0024038049502656143\n",
      "2023-05-14 17:34:34.420 | DEBUG    | __main__:<module>:200 - Var[1] = 0.0026036233612718807\n",
      "2023-05-14 17:34:34.421 | DEBUG    | __main__:<module>:200 - Var[2] = 0.0023438039501996414\n",
      "2023-05-14 17:34:34.421 | DEBUG    | __main__:<module>:200 - Var[3] = 8.966828228159287e-06\n",
      "2023-05-14 17:34:34.422 | DEBUG    | __main__:<module>:200 - Var[4] = 7.339119134779392e-06\n",
      "2023-05-14 17:34:34.422 | DEBUG    | __main__:<module>:200 - Var[5] = 3.4713966405932334e-05\n",
      "2023-05-14 17:34:34.423 | DEBUG    | __main__:<module>:200 - Var[6] = 0.03110616399924335\n",
      "2023-05-14 17:34:34.423 | DEBUG    | __main__:<module>:201 - Total Var = 0.03850841617474936\n",
      "2023-05-14 17:34:34.424 | DEBUG    | __main__:<module>:202 - Total Weighted Var = 0.05085140728157283\n",
      "2023-05-14 17:34:34.426 | DEBUG    | __main__:<module>:204 - Bin size, avg=3.045989904655076, med=3.0, range=[1, 18]\n",
      "2023-05-14 17:34:34.427 | DEBUG    | __main__:<module>:207 - Normalized bin size, avg=0.00021354388002349102, med=0.00021031968592260234, range=[7.010656197420079e-05, 0.0012619181155356142]\n",
      "2023-05-14 17:34:34.427 | DEBUG    | __main__:<module>:210 - -----------------------------------------------------------\n",
      "2023-05-14 17:34:34.455 | DEBUG    | __main__:<module>:62 - File Path: data/hvs/multihuman-okay_can_20k.npz\n",
      "2023-05-14 17:34:34.495 | DEBUG    | __main__:<module>:71 - ['object', 'robot0_eef_pos', 'robot0_eef_quat', 'robot0_eef_eul', 'robot0_eef_vel_ang', 'robot0_eef_vel_lin', 'robot0_gripper_qpos', 'robot0_gripper_qvel', 'robot0_joint_pos', 'robot0_joint_pos_cos', 'robot0_joint_pos_sin', 'robot0_joint_vel', 'action', 'policy_type', 'policy_name', 'policy_switch', 'reward', 'done', 'rollout_timestep']\n"
     ]
    },
    {
     "name": "stderr",
     "output_type": "stream",
     "text": [
      "2023-05-14 17:34:34.496 | DEBUG    | __main__:<module>:87 - Key Name: robot0_eef_pos, raw shape: (18053, 3)\n",
      "2023-05-14 17:34:34.496 | DEBUG    | __main__:<module>:87 - Key Name: robot0_eef_quat, raw shape: (18053, 4)\n",
      "2023-05-14 17:34:34.497 | DEBUG    | __main__:<module>:87 - Key Name: object, raw shape: (18053, 14)\n",
      "2023-05-14 17:34:34.497 | DEBUG    | __main__:<module>:88 - Action Key Name: action, raw shape: (18053, 7)\n",
      "2023-05-14 17:34:34.498 | DEBUG    | __main__:<module>:89 - Episode Done Name: done\n",
      "2023-05-14 17:34:34.505 | DEBUG    | __main__:<module>:123 - New Data shape: (18053, 21)\n",
      "2023-05-14 17:34:34.506 | DEBUG    | __main__:<module>:124 - New Action shape: (18053, 7)\n",
      "2023-05-14 17:34:34.510 | DEBUG    | __main__:<module>:134 - Using normalized state data: \n",
      "mu=[ 0.09393011 -0.092972    0.9687039   0.98052025 -0.01076507  0.01754672\n",
      " -0.02118039  0.11129861 -0.11440343  0.910844    0.00977481 -0.01723072\n",
      "  0.6113461   0.17010272  0.01455457  0.02297751  0.05893321  0.05571983\n",
      "  0.17295918  0.00510471  0.0344391 ]\n",
      "sigma=[0.08232111 0.2272144  0.06302915 0.02984231 0.17933184 0.05325336\n",
      " 0.04280606 0.07412661 0.24316573 0.07241831 0.05131195 0.07572009\n",
      " 0.38095245 0.6659044  0.05047182 0.05947577 0.05159688 0.6846589\n",
      " 0.6991151  0.07651823 0.04884837]\n",
      "2023-05-14 17:34:34.513 | DEBUG    | __main__:<module>:145 - Action scale: [ 2.39619692  2.39619692  2.39619692 32.91069549 32.91069549 32.91069549\n",
      "  1.01450331]\n",
      "2023-05-14 17:34:34.513 | DEBUG    | __main__:<module>:153 - Chunk 0 -> 5000...\n",
      "2023-05-14 17:34:44.047 | DEBUG    | __main__:<module>:153 - Chunk 5000 -> 10000...\n",
      "2023-05-14 17:34:53.789 | DEBUG    | __main__:<module>:153 - Chunk 10000 -> 15000...\n",
      "2023-05-14 17:35:03.453 | DEBUG    | __main__:<module>:153 - Chunk 15000 -> 20000...\n",
      "2023-05-14 17:35:09.382 | DEBUG    | __main__:<module>:157 - Merging dist mats...\n",
      "2023-05-14 17:35:11.186 | DEBUG    | __main__:<module>:196 - -----------------------------------------------------------\n",
      "2023-05-14 17:35:11.186 | DEBUG    | __main__:<module>:198 - Files = ['data/hvs/multihuman-okay_can_20k.npz']\n",
      "2023-05-14 17:35:11.187 | DEBUG    | __main__:<module>:200 - Var[0] = 0.004957507128177195\n",
      "2023-05-14 17:35:11.189 | DEBUG    | __main__:<module>:200 - Var[1] = 0.005511124098093615\n",
      "2023-05-14 17:35:11.190 | DEBUG    | __main__:<module>:200 - Var[2] = 0.0035649638760745076\n",
      "2023-05-14 17:35:11.191 | DEBUG    | __main__:<module>:200 - Var[3] = 1.01076848777931e-05\n",
      "2023-05-14 17:35:11.192 | DEBUG    | __main__:<module>:200 - Var[4] = 1.1245053880707889e-05\n",
      "2023-05-14 17:35:11.194 | DEBUG    | __main__:<module>:200 - Var[5] = 4.052430761662071e-05\n",
      "2023-05-14 17:35:11.195 | DEBUG    | __main__:<module>:200 - Var[6] = 0.03960925322312845\n",
      "2023-05-14 17:35:11.195 | DEBUG    | __main__:<module>:201 - Total Var = 0.053704725371848894\n",
      "2023-05-14 17:35:11.196 | DEBUG    | __main__:<module>:202 - Total Weighted Var = 0.07584739246536482\n",
      "2023-05-14 17:35:11.200 | DEBUG    | __main__:<module>:204 - Bin size, avg=4.320445355342603, med=3.0, range=[1, 38]\n",
      "2023-05-14 17:35:11.201 | DEBUG    | __main__:<module>:207 - Normalized bin size, avg=0.0002393200772914531, med=0.00016617736664266327, range=[5.5392455547554426e-05, 0.002104913310807068]\n",
      "2023-05-14 17:35:11.201 | DEBUG    | __main__:<module>:210 - -----------------------------------------------------------\n",
      "2023-05-14 17:35:11.221 | DEBUG    | __main__:<module>:62 - File Path: data/hvs/multihuman-worse_can_30k.npz\n",
      "2023-05-14 17:35:11.286 | DEBUG    | __main__:<module>:71 - ['object', 'robot0_eef_pos', 'robot0_eef_quat', 'robot0_eef_eul', 'robot0_eef_vel_ang', 'robot0_eef_vel_lin', 'robot0_gripper_qpos', 'robot0_gripper_qvel', 'robot0_joint_pos', 'robot0_joint_pos_cos', 'robot0_joint_pos_sin', 'robot0_joint_vel', 'action', 'policy_type', 'policy_name', 'policy_switch', 'reward', 'done', 'rollout_timestep']\n",
      "2023-05-14 17:35:11.286 | DEBUG    | __main__:<module>:87 - Key Name: robot0_eef_pos, raw shape: (30439, 3)\n",
      "2023-05-14 17:35:11.287 | DEBUG    | __main__:<module>:87 - Key Name: robot0_eef_quat, raw shape: (30439, 4)\n",
      "2023-05-14 17:35:11.287 | DEBUG    | __main__:<module>:87 - Key Name: object, raw shape: (30439, 14)\n",
      "2023-05-14 17:35:11.288 | DEBUG    | __main__:<module>:88 - Action Key Name: action, raw shape: (30439, 7)\n",
      "2023-05-14 17:35:11.288 | DEBUG    | __main__:<module>:89 - Episode Done Name: done\n",
      "2023-05-14 17:35:11.297 | DEBUG    | __main__:<module>:123 - New Data shape: (30439, 21)\n",
      "2023-05-14 17:35:11.298 | DEBUG    | __main__:<module>:124 - New Action shape: (30439, 7)\n",
      "2023-05-14 17:35:11.305 | DEBUG    | __main__:<module>:134 - Using normalized state data: \n",
      "mu=[ 8.47104639e-02 -5.91985621e-02  9.52096820e-01  9.69829261e-01\n",
      " -2.38377228e-02  4.07382436e-02  4.59073111e-04  1.11430436e-01\n",
      " -8.10443163e-02  9.00222719e-01  2.93669850e-02 -1.14914002e-02\n",
      "  5.45020282e-01  8.33274052e-02  2.28339545e-02  2.24982630e-02\n",
      "  5.27633168e-02 -1.73035443e-01  3.13092321e-01 -3.40115686e-04\n",
      "  1.07356116e-01]\n",
      "sigma=[0.08695069 0.23896997 0.06036581 0.04528603 0.21686211 0.07857009\n",
      " 0.04440837 0.07653762 0.2495438  0.06393982 0.1976298  0.16619943\n",
      " 0.35735315 0.70755035 0.05892786 0.063439   0.0543246  0.6922726\n",
      " 0.55889773 0.18604155 0.18515731]\n",
      "2023-05-14 17:35:11.308 | DEBUG    | __main__:<module>:145 - Action scale: [ 2.39619692  2.39619692  2.39619692 32.91069549 32.91069549 32.91069549\n",
      "  1.01450331]\n",
      "2023-05-14 17:35:11.309 | DEBUG    | __main__:<module>:153 - Chunk 0 -> 5000...\n",
      "2023-05-14 17:35:28.104 | DEBUG    | __main__:<module>:153 - Chunk 5000 -> 10000...\n",
      "2023-05-14 17:35:44.947 | DEBUG    | __main__:<module>:153 - Chunk 10000 -> 15000...\n",
      "2023-05-14 17:36:01.528 | DEBUG    | __main__:<module>:153 - Chunk 15000 -> 20000...\n",
      "2023-05-14 17:36:18.039 | DEBUG    | __main__:<module>:153 - Chunk 20000 -> 25000...\n",
      "2023-05-14 17:36:34.538 | DEBUG    | __main__:<module>:153 - Chunk 25000 -> 30000...\n",
      "2023-05-14 17:36:51.208 | DEBUG    | __main__:<module>:153 - Chunk 30000 -> 35000...\n",
      "2023-05-14 17:36:52.730 | DEBUG    | __main__:<module>:157 - Merging dist mats...\n",
      "2023-05-14 17:36:57.635 | DEBUG    | __main__:<module>:196 - -----------------------------------------------------------\n",
      "2023-05-14 17:36:57.636 | DEBUG    | __main__:<module>:198 - Files = ['data/hvs/multihuman-worse_can_30k.npz']\n",
      "2023-05-14 17:36:57.637 | DEBUG    | __main__:<module>:200 - Var[0] = 0.0037514785189075995\n",
      "2023-05-14 17:36:57.637 | DEBUG    | __main__:<module>:200 - Var[1] = 0.005853703432212369\n",
      "2023-05-14 17:36:57.638 | DEBUG    | __main__:<module>:200 - Var[2] = 0.005317754678745142\n",
      "2023-05-14 17:36:57.638 | DEBUG    | __main__:<module>:200 - Var[3] = 1.1659207504934659e-05\n",
      "2023-05-14 17:36:57.642 | DEBUG    | __main__:<module>:200 - Var[4] = 2.3143811068234376e-05\n",
      "2023-05-14 17:36:57.643 | DEBUG    | __main__:<module>:200 - Var[5] = 4.534691999744433e-05\n",
      "2023-05-14 17:36:57.643 | DEBUG    | __main__:<module>:200 - Var[6] = 0.041636107042736875\n",
      "2023-05-14 17:36:57.644 | DEBUG    | __main__:<module>:201 - Total Var = 0.056639193611172596\n",
      "2023-05-14 17:36:57.644 | DEBUG    | __main__:<module>:202 - Total Weighted Var = 0.08063605339199985\n",
      "2023-05-14 17:36:57.647 | DEBUG    | __main__:<module>:204 - Bin size, avg=6.1861099247675675, med=5.0, range=[1, 49]\n",
      "2023-05-14 17:36:57.648 | DEBUG    | __main__:<module>:207 - Normalized bin size, avg=0.00020322973569327402, med=0.00016426295213377575, range=[3.285259042675515e-05, 0.0016097769309110024]\n",
      "2023-05-14 17:36:57.648 | DEBUG    | __main__:<module>:210 - -----------------------------------------------------------\n"
     ]
    }
   ],
   "source": [
    "# some fixed normalization (1/sig^2)\n",
    "action = np.load('data/hvs/human_can_25k.npz', allow_pickle=True)['action']\n",
    "sigma = action.std(axis=0)\n",
    "# sigma=[0.33783787, 0.64600927, 0.4043406,  0.0595378,  0.07067125, 0.17431368, 0.9928263]\n",
    "sigma=[1 / max(sigma[:3])**2] * 3 + [1 / max(sigma[3:6])**2] * 3 + [1 / sigma[6]**2]\n",
    "sigma_str = sweep_from_arr(sigma)[3:-3]\n",
    "\n",
    "# CAN\n",
    "dsets = [\n",
    "    'human_can_25k',\n",
    "    'multihuman-better_can_15k',\n",
    "    'multihuman-okay_can_20k',\n",
    "    'multihuman-worse_can_30k',\n",
    "]\n",
    "for dset in dsets:\n",
    "\n",
    "    dataset = f\"data/hvs/{dset}.npz\"\n",
    "    %run scripts/hvs/plot_action_variance.py --file {dataset} --key robot0_eef_pos robot0_eef_quat object --use_state_norm --action_scale {sigma_str} --action_key action --cluster_eps 0.2\n",
    "        "
   ]
  },
  {
   "cell_type": "code",
   "execution_count": 5,
   "metadata": {
    "scrolled": true
   },
   "outputs": [
    {
     "name": "stderr",
     "output_type": "stream",
     "text": [
      "2023-05-14 17:19:21.088 | DEBUG    | __main__:<module>:62 - File Path: data/hvs/human_can_25k.npz\n",
      "2023-05-14 17:19:21.139 | DEBUG    | __main__:<module>:71 - ['object', 'robot0_eef_pos', 'robot0_eef_quat', 'robot0_eef_eul', 'robot0_eef_vel_ang', 'robot0_eef_vel_lin', 'robot0_gripper_qpos', 'robot0_gripper_qvel', 'robot0_joint_pos', 'robot0_joint_pos_cos', 'robot0_joint_pos_sin', 'robot0_joint_vel', 'action', 'policy_type', 'policy_name', 'policy_switch', 'reward', 'done', 'rollout_timestep']\n",
      "2023-05-14 17:19:21.139 | DEBUG    | __main__:<module>:87 - Key Name: robot0_eef_pos, raw shape: (23207, 3)\n",
      "2023-05-14 17:19:21.140 | DEBUG    | __main__:<module>:87 - Key Name: robot0_eef_quat, raw shape: (23207, 4)\n",
      "2023-05-14 17:19:21.141 | DEBUG    | __main__:<module>:87 - Key Name: object, raw shape: (23207, 14)\n",
      "2023-05-14 17:19:21.141 | DEBUG    | __main__:<module>:88 - Action Key Name: action, raw shape: (23207, 7)\n",
      "2023-05-14 17:19:21.142 | DEBUG    | __main__:<module>:89 - Episode Done Name: done\n",
      "2023-05-14 17:19:21.152 | DEBUG    | __main__:<module>:123 - New Data shape: (23207, 21)\n",
      "2023-05-14 17:19:21.153 | DEBUG    | __main__:<module>:124 - New Action shape: (23207, 7)\n",
      "2023-05-14 17:19:21.153 | DEBUG    | __main__:<module>:129 - Loading data/hvs/human_can_25k.npz for normalizing states...\n",
      "2023-05-14 17:19:21.174 | DEBUG    | __main__:<module>:134 - Using normalized state data: \n",
      "mu=[ 0.10789825 -0.07529953  0.9834947   0.9626342  -0.01928422  0.0055165\n",
      " -0.05819027  0.12079547 -0.09394874  0.9294035   0.02634832 -0.03636193\n",
      "  0.59351075  0.04856733  0.00991739  0.02163181  0.05544182 -0.03500266\n",
      "  0.42640728  0.00445072  0.033735  ]\n",
      "sigma=[0.07641463 0.21731521 0.07679079 0.05066627 0.23662685 0.04937783\n",
      " 0.09254781 0.06906408 0.23760258 0.08912392 0.08384357 0.08896383\n",
      " 0.35731682 0.70763415 0.04519879 0.05506019 0.05888201 0.70919555\n",
      " 0.5554968  0.05321492 0.03775885]\n",
      "2023-05-14 17:19:21.178 | DEBUG    | __main__:<module>:145 - Action scale: [ 2.39619692  2.39619692  2.39619692 32.91069549 32.91069549 32.91069549\n",
      "  1.01450331]\n",
      "2023-05-14 17:19:21.179 | DEBUG    | __main__:<module>:153 - Chunk 0 -> 5000...\n",
      "2023-05-14 17:19:33.869 | DEBUG    | __main__:<module>:153 - Chunk 5000 -> 10000...\n",
      "2023-05-14 17:19:46.527 | DEBUG    | __main__:<module>:153 - Chunk 10000 -> 15000...\n",
      "2023-05-14 17:19:59.174 | DEBUG    | __main__:<module>:153 - Chunk 15000 -> 20000...\n",
      "2023-05-14 17:20:11.822 | DEBUG    | __main__:<module>:153 - Chunk 20000 -> 25000...\n",
      "2023-05-14 17:20:19.951 | DEBUG    | __main__:<module>:157 - Merging dist mats...\n",
      "2023-05-14 17:20:22.780 | DEBUG    | __main__:<module>:196 - -----------------------------------------------------------\n",
      "2023-05-14 17:20:22.781 | DEBUG    | __main__:<module>:198 - Files = ['data/hvs/human_can_25k.npz']\n",
      "2023-05-14 17:20:22.782 | DEBUG    | __main__:<module>:200 - Var[0] = 0.0034325182895175244\n",
      "2023-05-14 17:20:22.783 | DEBUG    | __main__:<module>:200 - Var[1] = 0.0037118435548348194\n",
      "2023-05-14 17:20:22.784 | DEBUG    | __main__:<module>:200 - Var[2] = 0.00296639651159064\n",
      "2023-05-14 17:20:22.784 | DEBUG    | __main__:<module>:200 - Var[3] = 1.0408058313204818e-05\n",
      "2023-05-14 17:20:22.785 | DEBUG    | __main__:<module>:200 - Var[4] = 1.2299207246157109e-05\n",
      "2023-05-14 17:20:22.786 | DEBUG    | __main__:<module>:200 - Var[5] = 2.844612241366956e-05\n",
      "2023-05-14 17:20:22.789 | DEBUG    | __main__:<module>:200 - Var[6] = 0.024340523532955148\n",
      "2023-05-14 17:20:22.790 | DEBUG    | __main__:<module>:201 - Total Var = 0.03450243527687116\n",
      "2023-05-14 17:20:22.791 | DEBUG    | __main__:<module>:202 - Total Weighted Var = 0.05060440327428119\n",
      "2023-05-14 17:20:22.793 | DEBUG    | __main__:<module>:204 - Bin size, avg=2.3914767096134786, med=2.0, range=[1, 18]\n",
      "2023-05-14 17:20:22.794 | DEBUG    | __main__:<module>:207 - Normalized bin size, avg=0.00010304980004367124, med=8.618089369586763e-05, range=[4.309044684793381e-05, 0.0007756280432628086]\n",
      "2023-05-14 17:20:22.794 | DEBUG    | __main__:<module>:210 - -----------------------------------------------------------\n",
      "2023-05-14 17:20:22.819 | DEBUG    | __main__:<module>:62 - File Path: data/hvs/multihuman-better_can_15k.npz\n",
      "2023-05-14 17:20:22.854 | DEBUG    | __main__:<module>:71 - ['object', 'robot0_eef_pos', 'robot0_eef_quat', 'robot0_eef_eul', 'robot0_eef_vel_ang', 'robot0_eef_vel_lin', 'robot0_gripper_qpos', 'robot0_gripper_qvel', 'robot0_joint_pos', 'robot0_joint_pos_cos', 'robot0_joint_pos_sin', 'robot0_joint_vel', 'action', 'policy_type', 'policy_name', 'policy_switch', 'reward', 'done', 'rollout_timestep']\n",
      "2023-05-14 17:20:22.855 | DEBUG    | __main__:<module>:87 - Key Name: robot0_eef_pos, raw shape: (14264, 3)\n",
      "2023-05-14 17:20:22.855 | DEBUG    | __main__:<module>:87 - Key Name: robot0_eef_quat, raw shape: (14264, 4)\n",
      "2023-05-14 17:20:22.856 | DEBUG    | __main__:<module>:87 - Key Name: object, raw shape: (14264, 14)\n",
      "2023-05-14 17:20:22.856 | DEBUG    | __main__:<module>:88 - Action Key Name: action, raw shape: (14264, 7)\n",
      "2023-05-14 17:20:22.857 | DEBUG    | __main__:<module>:89 - Episode Done Name: done\n",
      "2023-05-14 17:20:22.864 | DEBUG    | __main__:<module>:123 - New Data shape: (14264, 21)\n",
      "2023-05-14 17:20:22.865 | DEBUG    | __main__:<module>:124 - New Action shape: (14264, 7)\n",
      "2023-05-14 17:20:22.865 | DEBUG    | __main__:<module>:129 - Loading data/hvs/human_can_25k.npz for normalizing states...\n",
      "2023-05-14 17:20:22.885 | DEBUG    | __main__:<module>:134 - Using normalized state data: \n",
      "mu=[ 0.10789825 -0.07529953  0.9834947   0.9626342  -0.01928422  0.0055165\n",
      " -0.05819027  0.12079547 -0.09394874  0.9294035   0.02634832 -0.03636193\n",
      "  0.59351075  0.04856733  0.00991739  0.02163181  0.05544182 -0.03500266\n",
      "  0.42640728  0.00445072  0.033735  ]\n",
      "sigma=[0.07641463 0.21731521 0.07679079 0.05066627 0.23662685 0.04937783\n",
      " 0.09254781 0.06906408 0.23760258 0.08912392 0.08384357 0.08896383\n",
      " 0.35731682 0.70763415 0.04519879 0.05506019 0.05888201 0.70919555\n",
      " 0.5554968  0.05321492 0.03775885]\n",
      "2023-05-14 17:20:22.887 | DEBUG    | __main__:<module>:145 - Action scale: [ 2.39619692  2.39619692  2.39619692 32.91069549 32.91069549 32.91069549\n",
      "  1.01450331]\n",
      "2023-05-14 17:20:22.888 | DEBUG    | __main__:<module>:153 - Chunk 0 -> 5000...\n",
      "2023-05-14 17:20:30.542 | DEBUG    | __main__:<module>:153 - Chunk 5000 -> 10000...\n",
      "2023-05-14 17:20:38.087 | DEBUG    | __main__:<module>:153 - Chunk 10000 -> 15000...\n",
      "2023-05-14 17:20:44.462 | DEBUG    | __main__:<module>:157 - Merging dist mats...\n",
      "2023-05-14 17:20:45.572 | DEBUG    | __main__:<module>:196 - -----------------------------------------------------------\n",
      "2023-05-14 17:20:45.572 | DEBUG    | __main__:<module>:198 - Files = ['data/hvs/multihuman-better_can_15k.npz']\n",
      "2023-05-14 17:20:45.573 | DEBUG    | __main__:<module>:200 - Var[0] = 0.0031499935763412384\n",
      "2023-05-14 17:20:45.575 | DEBUG    | __main__:<module>:200 - Var[1] = 0.0032966728119155973\n",
      "2023-05-14 17:20:45.575 | DEBUG    | __main__:<module>:200 - Var[2] = 0.0032021415422053526\n",
      "2023-05-14 17:20:45.576 | DEBUG    | __main__:<module>:200 - Var[3] = 1.369601272032124e-05\n",
      "2023-05-14 17:20:45.576 | DEBUG    | __main__:<module>:200 - Var[4] = 1.054621777190809e-05\n",
      "2023-05-14 17:20:45.579 | DEBUG    | __main__:<module>:200 - Var[5] = 5.9555709675676435e-05\n",
      "2023-05-14 17:20:45.580 | DEBUG    | __main__:<module>:200 - Var[6] = 0.039103087519133065\n",
      "2023-05-14 17:20:45.580 | DEBUG    | __main__:<module>:201 - Total Var = 0.04883569338976316\n",
      "2023-05-14 17:20:45.581 | DEBUG    | __main__:<module>:202 - Total Weighted Var = 0.06554850404540341\n",
      "2023-05-14 17:20:45.582 | DEBUG    | __main__:<module>:204 - Bin size, avg=3.5256590016825573, med=3.0, range=[1, 21]\n",
      "2023-05-14 17:20:45.583 | DEBUG    | __main__:<module>:207 - Normalized bin size, avg=0.0002471718313013571, med=0.00021031968592260234, range=[7.010656197420079e-05, 0.0014722378014582166]\n",
      "2023-05-14 17:20:45.584 | DEBUG    | __main__:<module>:210 - -----------------------------------------------------------\n",
      "2023-05-14 17:20:45.610 | DEBUG    | __main__:<module>:62 - File Path: data/hvs/multihuman-okay_can_20k.npz\n",
      "2023-05-14 17:20:45.650 | DEBUG    | __main__:<module>:71 - ['object', 'robot0_eef_pos', 'robot0_eef_quat', 'robot0_eef_eul', 'robot0_eef_vel_ang', 'robot0_eef_vel_lin', 'robot0_gripper_qpos', 'robot0_gripper_qvel', 'robot0_joint_pos', 'robot0_joint_pos_cos', 'robot0_joint_pos_sin', 'robot0_joint_vel', 'action', 'policy_type', 'policy_name', 'policy_switch', 'reward', 'done', 'rollout_timestep']\n"
     ]
    },
    {
     "name": "stderr",
     "output_type": "stream",
     "text": [
      "2023-05-14 17:20:45.650 | DEBUG    | __main__:<module>:87 - Key Name: robot0_eef_pos, raw shape: (18053, 3)\n",
      "2023-05-14 17:20:45.651 | DEBUG    | __main__:<module>:87 - Key Name: robot0_eef_quat, raw shape: (18053, 4)\n",
      "2023-05-14 17:20:45.651 | DEBUG    | __main__:<module>:87 - Key Name: object, raw shape: (18053, 14)\n",
      "2023-05-14 17:20:45.652 | DEBUG    | __main__:<module>:88 - Action Key Name: action, raw shape: (18053, 7)\n",
      "2023-05-14 17:20:45.652 | DEBUG    | __main__:<module>:89 - Episode Done Name: done\n",
      "2023-05-14 17:20:45.660 | DEBUG    | __main__:<module>:123 - New Data shape: (18053, 21)\n",
      "2023-05-14 17:20:45.660 | DEBUG    | __main__:<module>:124 - New Action shape: (18053, 7)\n",
      "2023-05-14 17:20:45.661 | DEBUG    | __main__:<module>:129 - Loading data/hvs/human_can_25k.npz for normalizing states...\n",
      "2023-05-14 17:20:45.680 | DEBUG    | __main__:<module>:134 - Using normalized state data: \n",
      "mu=[ 0.10789825 -0.07529953  0.9834947   0.9626342  -0.01928422  0.0055165\n",
      " -0.05819027  0.12079547 -0.09394874  0.9294035   0.02634832 -0.03636193\n",
      "  0.59351075  0.04856733  0.00991739  0.02163181  0.05544182 -0.03500266\n",
      "  0.42640728  0.00445072  0.033735  ]\n",
      "sigma=[0.07641463 0.21731521 0.07679079 0.05066627 0.23662685 0.04937783\n",
      " 0.09254781 0.06906408 0.23760258 0.08912392 0.08384357 0.08896383\n",
      " 0.35731682 0.70763415 0.04519879 0.05506019 0.05888201 0.70919555\n",
      " 0.5554968  0.05321492 0.03775885]\n",
      "2023-05-14 17:20:45.682 | DEBUG    | __main__:<module>:145 - Action scale: [ 2.39619692  2.39619692  2.39619692 32.91069549 32.91069549 32.91069549\n",
      "  1.01450331]\n",
      "2023-05-14 17:20:45.683 | DEBUG    | __main__:<module>:153 - Chunk 0 -> 5000...\n",
      "2023-05-14 17:20:55.117 | DEBUG    | __main__:<module>:153 - Chunk 5000 -> 10000...\n",
      "2023-05-14 17:21:04.562 | DEBUG    | __main__:<module>:153 - Chunk 10000 -> 15000...\n",
      "2023-05-14 17:21:14.018 | DEBUG    | __main__:<module>:153 - Chunk 15000 -> 20000...\n",
      "2023-05-14 17:21:19.798 | DEBUG    | __main__:<module>:157 - Merging dist mats...\n",
      "2023-05-14 17:21:21.576 | DEBUG    | __main__:<module>:196 - -----------------------------------------------------------\n",
      "2023-05-14 17:21:21.576 | DEBUG    | __main__:<module>:198 - Files = ['data/hvs/multihuman-okay_can_20k.npz']\n",
      "2023-05-14 17:21:21.577 | DEBUG    | __main__:<module>:200 - Var[0] = 0.004937863981999617\n",
      "2023-05-14 17:21:21.579 | DEBUG    | __main__:<module>:200 - Var[1] = 0.005454916628453901\n",
      "2023-05-14 17:21:21.579 | DEBUG    | __main__:<module>:200 - Var[2] = 0.004084530007512892\n",
      "2023-05-14 17:21:21.580 | DEBUG    | __main__:<module>:200 - Var[3] = 1.1622448621664164e-05\n",
      "2023-05-14 17:21:21.580 | DEBUG    | __main__:<module>:200 - Var[4] = 1.1679707651601728e-05\n",
      "2023-05-14 17:21:21.581 | DEBUG    | __main__:<module>:200 - Var[5] = 5.558336127621082e-05\n",
      "2023-05-14 17:21:21.585 | DEBUG    | __main__:<module>:200 - Var[6] = 0.041493124155036615\n",
      "2023-05-14 17:21:21.585 | DEBUG    | __main__:<module>:201 - Total Var = 0.0560493202905525\n",
      "2023-05-14 17:21:21.586 | DEBUG    | __main__:<module>:202 - Total Weighted Var = 0.07938157612849978\n",
      "2023-05-14 17:21:21.588 | DEBUG    | __main__:<module>:204 - Bin size, avg=4.527723924001551, med=3.0, range=[1, 37]\n",
      "2023-05-14 17:21:21.589 | DEBUG    | __main__:<module>:207 - Normalized bin size, avg=0.0002508017461918546, med=0.00016617736664266327, range=[5.5392455547554426e-05, 0.002049520855259514]\n",
      "2023-05-14 17:21:21.590 | DEBUG    | __main__:<module>:210 - -----------------------------------------------------------\n",
      "2023-05-14 17:21:21.612 | DEBUG    | __main__:<module>:62 - File Path: data/hvs/multihuman-worse_can_30k.npz\n",
      "2023-05-14 17:21:21.679 | DEBUG    | __main__:<module>:71 - ['object', 'robot0_eef_pos', 'robot0_eef_quat', 'robot0_eef_eul', 'robot0_eef_vel_ang', 'robot0_eef_vel_lin', 'robot0_gripper_qpos', 'robot0_gripper_qvel', 'robot0_joint_pos', 'robot0_joint_pos_cos', 'robot0_joint_pos_sin', 'robot0_joint_vel', 'action', 'policy_type', 'policy_name', 'policy_switch', 'reward', 'done', 'rollout_timestep']\n",
      "2023-05-14 17:21:21.680 | DEBUG    | __main__:<module>:87 - Key Name: robot0_eef_pos, raw shape: (30439, 3)\n",
      "2023-05-14 17:21:21.680 | DEBUG    | __main__:<module>:87 - Key Name: robot0_eef_quat, raw shape: (30439, 4)\n",
      "2023-05-14 17:21:21.681 | DEBUG    | __main__:<module>:87 - Key Name: object, raw shape: (30439, 14)\n",
      "2023-05-14 17:21:21.681 | DEBUG    | __main__:<module>:88 - Action Key Name: action, raw shape: (30439, 7)\n",
      "2023-05-14 17:21:21.682 | DEBUG    | __main__:<module>:89 - Episode Done Name: done\n",
      "2023-05-14 17:21:21.691 | DEBUG    | __main__:<module>:123 - New Data shape: (30439, 21)\n",
      "2023-05-14 17:21:21.691 | DEBUG    | __main__:<module>:124 - New Action shape: (30439, 7)\n",
      "2023-05-14 17:21:21.692 | DEBUG    | __main__:<module>:129 - Loading data/hvs/human_can_25k.npz for normalizing states...\n",
      "2023-05-14 17:21:21.713 | DEBUG    | __main__:<module>:134 - Using normalized state data: \n",
      "mu=[ 0.10789825 -0.07529953  0.9834947   0.9626342  -0.01928422  0.0055165\n",
      " -0.05819027  0.12079547 -0.09394874  0.9294035   0.02634832 -0.03636193\n",
      "  0.59351075  0.04856733  0.00991739  0.02163181  0.05544182 -0.03500266\n",
      "  0.42640728  0.00445072  0.033735  ]\n",
      "sigma=[0.07641463 0.21731521 0.07679079 0.05066627 0.23662685 0.04937783\n",
      " 0.09254781 0.06906408 0.23760258 0.08912392 0.08384357 0.08896383\n",
      " 0.35731682 0.70763415 0.04519879 0.05506019 0.05888201 0.70919555\n",
      " 0.5554968  0.05321492 0.03775885]\n",
      "2023-05-14 17:21:21.717 | DEBUG    | __main__:<module>:145 - Action scale: [ 2.39619692  2.39619692  2.39619692 32.91069549 32.91069549 32.91069549\n",
      "  1.01450331]\n",
      "2023-05-14 17:21:21.718 | DEBUG    | __main__:<module>:153 - Chunk 0 -> 5000...\n",
      "2023-05-14 17:21:38.116 | DEBUG    | __main__:<module>:153 - Chunk 5000 -> 10000...\n",
      "2023-05-14 17:21:54.489 | DEBUG    | __main__:<module>:153 - Chunk 10000 -> 15000...\n",
      "2023-05-14 17:22:10.872 | DEBUG    | __main__:<module>:153 - Chunk 15000 -> 20000...\n",
      "2023-05-14 17:22:26.930 | DEBUG    | __main__:<module>:153 - Chunk 20000 -> 25000...\n",
      "2023-05-14 17:22:42.800 | DEBUG    | __main__:<module>:153 - Chunk 25000 -> 30000...\n",
      "2023-05-14 17:22:58.653 | DEBUG    | __main__:<module>:153 - Chunk 30000 -> 35000...\n",
      "2023-05-14 17:23:00.072 | DEBUG    | __main__:<module>:157 - Merging dist mats...\n",
      "2023-05-14 17:23:04.699 | DEBUG    | __main__:<module>:196 - -----------------------------------------------------------\n",
      "2023-05-14 17:23:04.700 | DEBUG    | __main__:<module>:198 - Files = ['data/hvs/multihuman-worse_can_30k.npz']\n",
      "2023-05-14 17:23:04.700 | DEBUG    | __main__:<module>:200 - Var[0] = 0.002982158576150767\n",
      "2023-05-14 17:23:04.701 | DEBUG    | __main__:<module>:200 - Var[1] = 0.005104045316554716\n",
      "2023-05-14 17:23:04.701 | DEBUG    | __main__:<module>:200 - Var[2] = 0.004490412420231682\n",
      "2023-05-14 17:23:04.702 | DEBUG    | __main__:<module>:200 - Var[3] = 7.806297100451985e-06\n",
      "2023-05-14 17:23:04.702 | DEBUG    | __main__:<module>:200 - Var[4] = 1.550058262089204e-05\n",
      "2023-05-14 17:23:04.703 | DEBUG    | __main__:<module>:200 - Var[5] = 2.4137538718394322e-05\n",
      "2023-05-14 17:23:04.703 | DEBUG    | __main__:<module>:200 - Var[6] = 0.03045532448797869\n",
      "2023-05-14 17:23:04.704 | DEBUG    | __main__:<module>:201 - Total Var = 0.043079385219355594\n",
      "2023-05-14 17:23:04.704 | DEBUG    | __main__:<module>:202 - Total Weighted Var = 0.06259450555235796\n",
      "2023-05-14 17:23:04.707 | DEBUG    | __main__:<module>:204 - Bin size, avg=5.008475968330103, med=4.0, range=[1, 46]\n",
      "2023-05-14 17:23:04.708 | DEBUG    | __main__:<module>:207 - Normalized bin size, avg=0.00016454140964979478, med=0.0001314103617070206, range=[3.285259042675515e-05, 0.0015112191596307369]\n",
      "2023-05-14 17:23:04.709 | DEBUG    | __main__:<module>:210 - -----------------------------------------------------------\n"
     ]
    }
   ],
   "source": [
    "# FIXED OBS NORM\n",
    "\n",
    "# some fixed normalization (1/sig^2)\n",
    "norm_file = 'data/hvs/human_can_25k.npz'\n",
    "action = np.load(norm_file, allow_pickle=True)['action']\n",
    "sigma = action.std(axis=0)\n",
    "# sigma=[0.33783787, 0.64600927, 0.4043406,  0.0595378,  0.07067125, 0.17431368, 0.9928263]\n",
    "sigma=[1 / max(sigma[:3])**2] * 3 + [1 / max(sigma[3:6])**2] * 3 + [1 / sigma[6]**2]\n",
    "sigma_str = sweep_from_arr(sigma)[3:-3]\n",
    "\n",
    "# CAN\n",
    "dsets = [\n",
    "    'human_can_25k',\n",
    "    'multihuman-better_can_15k',\n",
    "    'multihuman-okay_can_20k',\n",
    "    'multihuman-worse_can_30k',\n",
    "]\n",
    "for dset in dsets:\n",
    "\n",
    "    dataset = f\"data/hvs/{dset}.npz\"\n",
    "    %run scripts/hvs/plot_action_variance.py --file {dataset} --key robot0_eef_pos robot0_eef_quat object --use_state_norm --state_norm_file {norm_file} --action_scale {sigma_str} --action_key action --cluster_eps 0.2\n",
    "        "
   ]
  },
  {
   "cell_type": "markdown",
   "metadata": {},
   "source": [
    "# action variance POSE only"
   ]
  },
  {
   "cell_type": "code",
   "execution_count": 4,
   "metadata": {},
   "outputs": [
    {
     "name": "stderr",
     "output_type": "stream",
     "text": [
      "2023-05-14 18:15:03.600 | DEBUG    | __main__:<module>:62 - File Path: data/hvs/human_square_30k.npz\n",
      "2023-05-14 18:15:03.660 | DEBUG    | __main__:<module>:71 - ['object', 'robot0_eef_pos', 'robot0_eef_quat', 'robot0_eef_eul', 'robot0_eef_vel_ang', 'robot0_eef_vel_lin', 'robot0_gripper_qpos', 'robot0_gripper_qvel', 'robot0_joint_pos', 'robot0_joint_pos_cos', 'robot0_joint_pos_sin', 'robot0_joint_vel', 'action', 'policy_type', 'policy_name', 'policy_switch', 'reward', 'done', 'rollout_timestep']\n",
      "2023-05-14 18:15:03.660 | DEBUG    | __main__:<module>:87 - Key Name: robot0_eef_pos, raw shape: (30154, 3)\n",
      "2023-05-14 18:15:03.661 | DEBUG    | __main__:<module>:87 - Key Name: robot0_eef_quat, raw shape: (30154, 4)\n",
      "2023-05-14 18:15:03.661 | DEBUG    | __main__:<module>:88 - Action Key Name: action, raw shape: (30154, 7)\n",
      "2023-05-14 18:15:03.662 | DEBUG    | __main__:<module>:89 - Episode Done Name: done\n",
      "2023-05-14 18:15:03.671 | DEBUG    | __main__:<module>:123 - New Data shape: (30154, 7)\n",
      "2023-05-14 18:15:03.671 | DEBUG    | __main__:<module>:124 - New Action shape: (30154, 7)\n",
      "2023-05-14 18:15:03.672 | DEBUG    | __main__:<module>:129 - Loading data/hvs/human_square_30k.npz for normalizing states...\n",
      "2023-05-14 18:15:03.684 | DEBUG    | __main__:<module>:134 - Using normalized state data: \n",
      "mu=[ 0.0221378   0.12769784  0.9233971   0.88738257 -0.00985888  0.02981661\n",
      " -0.00627095]\n",
      "sigma=[0.14880033 0.06730275 0.0598591  0.10894126 0.44433743 0.03811176\n",
      " 0.02802529]\n",
      "2023-05-14 18:15:03.686 | DEBUG    | __main__:<module>:145 - Action scale: [ 5.70903864  5.70903864  5.70903864 41.66081198 41.66081198 41.66081198\n",
      "  1.00296452]\n",
      "2023-05-14 18:15:03.687 | DEBUG    | __main__:<module>:153 - Chunk 0 -> 5000...\n",
      "2023-05-14 18:15:11.356 | DEBUG    | __main__:<module>:153 - Chunk 5000 -> 10000...\n",
      "2023-05-14 18:15:19.226 | DEBUG    | __main__:<module>:153 - Chunk 10000 -> 15000...\n",
      "2023-05-14 18:15:26.962 | DEBUG    | __main__:<module>:153 - Chunk 15000 -> 20000...\n",
      "2023-05-14 18:15:34.592 | DEBUG    | __main__:<module>:153 - Chunk 20000 -> 25000...\n",
      "2023-05-14 18:15:42.204 | DEBUG    | __main__:<module>:153 - Chunk 25000 -> 30000...\n",
      "2023-05-14 18:15:49.812 | DEBUG    | __main__:<module>:153 - Chunk 30000 -> 35000...\n",
      "2023-05-14 18:15:50.059 | DEBUG    | __main__:<module>:157 - Merging dist mats...\n",
      "2023-05-14 18:15:54.710 | DEBUG    | __main__:<module>:196 - -----------------------------------------------------------\n",
      "2023-05-14 18:15:54.711 | DEBUG    | __main__:<module>:198 - Files = ['data/hvs/human_square_30k.npz']\n",
      "2023-05-14 18:15:54.712 | DEBUG    | __main__:<module>:200 - Var[0] = 0.0005359966286479098\n",
      "2023-05-14 18:15:54.712 | DEBUG    | __main__:<module>:200 - Var[1] = 0.0004625720530123539\n",
      "2023-05-14 18:15:54.713 | DEBUG    | __main__:<module>:200 - Var[2] = 0.0005137033251328091\n",
      "2023-05-14 18:15:54.713 | DEBUG    | __main__:<module>:200 - Var[3] = 2.491333213435994e-06\n",
      "2023-05-14 18:15:54.714 | DEBUG    | __main__:<module>:200 - Var[4] = 2.2651323956766805e-05\n",
      "2023-05-14 18:15:54.714 | DEBUG    | __main__:<module>:200 - Var[5] = 1.8649848844527705e-05\n",
      "2023-05-14 18:15:54.715 | DEBUG    | __main__:<module>:200 - Var[6] = 0.002919641235610918\n",
      "2023-05-14 18:15:54.715 | DEBUG    | __main__:<module>:201 - Total Var = 0.004475705748418722\n",
      "2023-05-14 18:15:54.716 | DEBUG    | __main__:<module>:202 - Total Weighted Var = 0.01338634723479944\n",
      "2023-05-14 18:15:54.718 | DEBUG    | __main__:<module>:204 - Bin size, avg=1.1834582476620017, med=1.0, range=[1, 11]\n",
      "2023-05-14 18:15:54.726 | DEBUG    | __main__:<module>:207 - Normalized bin size, avg=3.924713960542554e-05, med=3.316309610665252e-05, range=[3.316309610665252e-05, 0.0003647940571731777]\n",
      "2023-05-14 18:15:54.727 | DEBUG    | __main__:<module>:210 - -----------------------------------------------------------\n",
      "2023-05-14 18:15:54.776 | DEBUG    | __main__:<module>:62 - File Path: data/hvs/multihuman-better_square_20k.npz\n",
      "2023-05-14 18:15:54.816 | DEBUG    | __main__:<module>:71 - ['object', 'robot0_eef_pos', 'robot0_eef_quat', 'robot0_eef_eul', 'robot0_eef_vel_ang', 'robot0_eef_vel_lin', 'robot0_gripper_qpos', 'robot0_gripper_qvel', 'robot0_joint_pos', 'robot0_joint_pos_cos', 'robot0_joint_pos_sin', 'robot0_joint_vel', 'action', 'policy_type', 'policy_name', 'policy_switch', 'reward', 'done', 'rollout_timestep']\n",
      "2023-05-14 18:15:54.817 | DEBUG    | __main__:<module>:87 - Key Name: robot0_eef_pos, raw shape: (18527, 3)\n",
      "2023-05-14 18:15:54.818 | DEBUG    | __main__:<module>:87 - Key Name: robot0_eef_quat, raw shape: (18527, 4)\n",
      "2023-05-14 18:15:54.818 | DEBUG    | __main__:<module>:88 - Action Key Name: action, raw shape: (18527, 7)\n",
      "2023-05-14 18:15:54.819 | DEBUG    | __main__:<module>:89 - Episode Done Name: done\n",
      "2023-05-14 18:15:54.824 | DEBUG    | __main__:<module>:123 - New Data shape: (18527, 7)\n",
      "2023-05-14 18:15:54.825 | DEBUG    | __main__:<module>:124 - New Action shape: (18527, 7)\n",
      "2023-05-14 18:15:54.825 | DEBUG    | __main__:<module>:129 - Loading data/hvs/human_square_30k.npz for normalizing states...\n",
      "2023-05-14 18:15:54.838 | DEBUG    | __main__:<module>:134 - Using normalized state data: \n",
      "mu=[ 0.0221378   0.12769784  0.9233971   0.88738257 -0.00985888  0.02981661\n",
      " -0.00627095]\n",
      "sigma=[0.14880033 0.06730275 0.0598591  0.10894126 0.44433743 0.03811176\n",
      " 0.02802529]\n",
      "2023-05-14 18:15:54.840 | DEBUG    | __main__:<module>:145 - Action scale: [ 5.70903864  5.70903864  5.70903864 41.66081198 41.66081198 41.66081198\n",
      "  1.00296452]\n",
      "2023-05-14 18:15:54.840 | DEBUG    | __main__:<module>:153 - Chunk 0 -> 5000...\n",
      "2023-05-14 18:15:59.514 | DEBUG    | __main__:<module>:153 - Chunk 5000 -> 10000...\n",
      "2023-05-14 18:16:04.196 | DEBUG    | __main__:<module>:153 - Chunk 10000 -> 15000...\n",
      "2023-05-14 18:16:08.882 | DEBUG    | __main__:<module>:153 - Chunk 15000 -> 20000...\n",
      "2023-05-14 18:16:12.301 | DEBUG    | __main__:<module>:157 - Merging dist mats...\n",
      "2023-05-14 18:16:14.202 | DEBUG    | __main__:<module>:196 - -----------------------------------------------------------\n",
      "2023-05-14 18:16:14.202 | DEBUG    | __main__:<module>:198 - Files = ['data/hvs/multihuman-better_square_20k.npz']\n",
      "2023-05-14 18:16:14.203 | DEBUG    | __main__:<module>:200 - Var[0] = 0.00033383828864365047\n",
      "2023-05-14 18:16:14.205 | DEBUG    | __main__:<module>:200 - Var[1] = 0.0002977895847339054\n",
      "2023-05-14 18:16:14.206 | DEBUG    | __main__:<module>:200 - Var[2] = 0.0005665131869891974\n",
      "2023-05-14 18:16:14.207 | DEBUG    | __main__:<module>:200 - Var[3] = 1.8100985410609099e-06\n",
      "2023-05-14 18:16:14.208 | DEBUG    | __main__:<module>:200 - Var[4] = 6.010278513158624e-06\n",
      "2023-05-14 18:16:14.208 | DEBUG    | __main__:<module>:200 - Var[5] = 2.632671262158541e-06\n",
      "2023-05-14 18:16:14.211 | DEBUG    | __main__:<module>:200 - Var[6] = 0.007763777724839958\n",
      "2023-05-14 18:16:14.211 | DEBUG    | __main__:<module>:201 - Total Var = 0.008972371833523089\n",
      "2023-05-14 18:16:14.212 | DEBUG    | __main__:<module>:202 - Total Weighted Var = 0.01506250965050117\n",
      "2023-05-14 18:16:14.214 | DEBUG    | __main__:<module>:204 - Bin size, avg=1.4746586063582878, med=1.0, range=[1, 12]\n",
      "2023-05-14 18:16:14.215 | DEBUG    | __main__:<module>:207 - Normalized bin size, avg=7.959511018288379e-05, med=5.397527932207049e-05, range=[5.397527932207049e-05, 0.0006477033518648459]\n",
      "2023-05-14 18:16:14.216 | DEBUG    | __main__:<module>:210 - -----------------------------------------------------------\n",
      "2023-05-14 18:16:14.238 | DEBUG    | __main__:<module>:62 - File Path: data/hvs/multihuman-okay_square_25k.npz\n",
      "2023-05-14 18:16:14.296 | DEBUG    | __main__:<module>:71 - ['object', 'robot0_eef_pos', 'robot0_eef_quat', 'robot0_eef_eul', 'robot0_eef_vel_ang', 'robot0_eef_vel_lin', 'robot0_gripper_qpos', 'robot0_gripper_qvel', 'robot0_joint_pos', 'robot0_joint_pos_cos', 'robot0_joint_pos_sin', 'robot0_joint_vel', 'action', 'policy_type', 'policy_name', 'policy_switch', 'reward', 'done', 'rollout_timestep']\n",
      "2023-05-14 18:16:14.297 | DEBUG    | __main__:<module>:87 - Key Name: robot0_eef_pos, raw shape: (26456, 3)\n",
      "2023-05-14 18:16:14.297 | DEBUG    | __main__:<module>:87 - Key Name: robot0_eef_quat, raw shape: (26456, 4)\n",
      "2023-05-14 18:16:14.298 | DEBUG    | __main__:<module>:88 - Action Key Name: action, raw shape: (26456, 7)\n"
     ]
    },
    {
     "name": "stderr",
     "output_type": "stream",
     "text": [
      "2023-05-14 18:16:14.298 | DEBUG    | __main__:<module>:89 - Episode Done Name: done\n",
      "2023-05-14 18:16:14.305 | DEBUG    | __main__:<module>:123 - New Data shape: (26456, 7)\n",
      "2023-05-14 18:16:14.305 | DEBUG    | __main__:<module>:124 - New Action shape: (26456, 7)\n",
      "2023-05-14 18:16:14.306 | DEBUG    | __main__:<module>:129 - Loading data/hvs/human_square_30k.npz for normalizing states...\n",
      "2023-05-14 18:16:14.319 | DEBUG    | __main__:<module>:134 - Using normalized state data: \n",
      "mu=[ 0.0221378   0.12769784  0.9233971   0.88738257 -0.00985888  0.02981661\n",
      " -0.00627095]\n",
      "sigma=[0.14880033 0.06730275 0.0598591  0.10894126 0.44433743 0.03811176\n",
      " 0.02802529]\n",
      "2023-05-14 18:16:14.321 | DEBUG    | __main__:<module>:145 - Action scale: [ 5.70903864  5.70903864  5.70903864 41.66081198 41.66081198 41.66081198\n",
      "  1.00296452]\n",
      "2023-05-14 18:16:14.322 | DEBUG    | __main__:<module>:153 - Chunk 0 -> 5000...\n",
      "2023-05-14 18:16:21.243 | DEBUG    | __main__:<module>:153 - Chunk 5000 -> 10000...\n",
      "2023-05-14 18:16:28.174 | DEBUG    | __main__:<module>:153 - Chunk 10000 -> 15000...\n",
      "2023-05-14 18:16:35.098 | DEBUG    | __main__:<module>:153 - Chunk 15000 -> 20000...\n",
      "2023-05-14 18:16:42.024 | DEBUG    | __main__:<module>:153 - Chunk 20000 -> 25000...\n",
      "2023-05-14 18:16:48.960 | DEBUG    | __main__:<module>:153 - Chunk 25000 -> 30000...\n",
      "2023-05-14 18:16:50.983 | DEBUG    | __main__:<module>:157 - Merging dist mats...\n",
      "2023-05-14 18:16:54.692 | DEBUG    | __main__:<module>:196 - -----------------------------------------------------------\n",
      "2023-05-14 18:16:54.694 | DEBUG    | __main__:<module>:198 - Files = ['data/hvs/multihuman-okay_square_25k.npz']\n",
      "2023-05-14 18:16:54.694 | DEBUG    | __main__:<module>:200 - Var[0] = 0.00078295906555821\n",
      "2023-05-14 18:16:54.695 | DEBUG    | __main__:<module>:200 - Var[1] = 0.0006932481373987506\n",
      "2023-05-14 18:16:54.695 | DEBUG    | __main__:<module>:200 - Var[2] = 0.000916799828696316\n",
      "2023-05-14 18:16:54.696 | DEBUG    | __main__:<module>:200 - Var[3] = 1.8293417445011477e-06\n",
      "2023-05-14 18:16:54.700 | DEBUG    | __main__:<module>:200 - Var[4] = 2.198387225873921e-06\n",
      "2023-05-14 18:16:54.700 | DEBUG    | __main__:<module>:200 - Var[5] = 2.7696393800667e-06\n",
      "2023-05-14 18:16:54.701 | DEBUG    | __main__:<module>:200 - Var[6] = 0.010949273882350693\n",
      "2023-05-14 18:16:54.701 | DEBUG    | __main__:<module>:201 - Total Var = 0.013349078282354411\n",
      "2023-05-14 18:16:54.702 | DEBUG    | __main__:<module>:202 - Total Weighted Var = 0.02492668666244522\n",
      "2023-05-14 18:16:54.704 | DEBUG    | __main__:<module>:204 - Bin size, avg=1.9024795887511339, med=1.0, range=[1, 23]\n",
      "2023-05-14 18:16:54.705 | DEBUG    | __main__:<module>:207 - Normalized bin size, avg=7.191108212697059e-05, med=3.779860901118839e-05, range=[3.779860901118839e-05, 0.0008693680072573329]\n",
      "2023-05-14 18:16:54.706 | DEBUG    | __main__:<module>:210 - -----------------------------------------------------------\n",
      "2023-05-14 18:16:54.725 | DEBUG    | __main__:<module>:62 - File Path: data/hvs/multihuman-worse_square_35k.npz\n",
      "2023-05-14 18:16:54.801 | DEBUG    | __main__:<module>:71 - ['object', 'robot0_eef_pos', 'robot0_eef_quat', 'robot0_eef_eul', 'robot0_eef_vel_ang', 'robot0_eef_vel_lin', 'robot0_gripper_qpos', 'robot0_gripper_qvel', 'robot0_joint_pos', 'robot0_joint_pos_cos', 'robot0_joint_pos_sin', 'robot0_joint_vel', 'action', 'policy_type', 'policy_name', 'policy_switch', 'reward', 'done', 'rollout_timestep']\n",
      "2023-05-14 18:16:54.801 | DEBUG    | __main__:<module>:87 - Key Name: robot0_eef_pos, raw shape: (35748, 3)\n",
      "2023-05-14 18:16:54.802 | DEBUG    | __main__:<module>:87 - Key Name: robot0_eef_quat, raw shape: (35748, 4)\n",
      "2023-05-14 18:16:54.802 | DEBUG    | __main__:<module>:88 - Action Key Name: action, raw shape: (35748, 7)\n",
      "2023-05-14 18:16:54.803 | DEBUG    | __main__:<module>:89 - Episode Done Name: done\n",
      "2023-05-14 18:16:54.810 | DEBUG    | __main__:<module>:123 - New Data shape: (35748, 7)\n",
      "2023-05-14 18:16:54.811 | DEBUG    | __main__:<module>:124 - New Action shape: (35748, 7)\n",
      "2023-05-14 18:16:54.811 | DEBUG    | __main__:<module>:129 - Loading data/hvs/human_square_30k.npz for normalizing states...\n",
      "2023-05-14 18:16:54.825 | DEBUG    | __main__:<module>:134 - Using normalized state data: \n",
      "mu=[ 0.0221378   0.12769784  0.9233971   0.88738257 -0.00985888  0.02981661\n",
      " -0.00627095]\n",
      "sigma=[0.14880033 0.06730275 0.0598591  0.10894126 0.44433743 0.03811176\n",
      " 0.02802529]\n",
      "2023-05-14 18:16:54.828 | DEBUG    | __main__:<module>:145 - Action scale: [ 5.70903864  5.70903864  5.70903864 41.66081198 41.66081198 41.66081198\n",
      "  1.00296452]\n",
      "2023-05-14 18:16:54.829 | DEBUG    | __main__:<module>:153 - Chunk 0 -> 5000...\n",
      "2023-05-14 18:17:04.164 | DEBUG    | __main__:<module>:153 - Chunk 5000 -> 10000...\n",
      "2023-05-14 18:17:13.517 | DEBUG    | __main__:<module>:153 - Chunk 10000 -> 15000...\n",
      "2023-05-14 18:17:22.879 | DEBUG    | __main__:<module>:153 - Chunk 15000 -> 20000...\n",
      "2023-05-14 18:17:32.240 | DEBUG    | __main__:<module>:153 - Chunk 20000 -> 25000...\n",
      "2023-05-14 18:17:41.604 | DEBUG    | __main__:<module>:153 - Chunk 25000 -> 30000...\n",
      "2023-05-14 18:17:50.957 | DEBUG    | __main__:<module>:153 - Chunk 30000 -> 35000...\n",
      "2023-05-14 18:18:00.311 | DEBUG    | __main__:<module>:153 - Chunk 35000 -> 40000...\n",
      "2023-05-14 18:18:01.723 | DEBUG    | __main__:<module>:157 - Merging dist mats...\n",
      "2023-05-14 18:18:08.332 | DEBUG    | __main__:<module>:196 - -----------------------------------------------------------\n",
      "2023-05-14 18:18:08.333 | DEBUG    | __main__:<module>:198 - Files = ['data/hvs/multihuman-worse_square_35k.npz']\n",
      "2023-05-14 18:18:08.334 | DEBUG    | __main__:<module>:200 - Var[0] = 0.00031811938197889427\n",
      "2023-05-14 18:18:08.335 | DEBUG    | __main__:<module>:200 - Var[1] = 0.00028818037461838023\n",
      "2023-05-14 18:18:08.337 | DEBUG    | __main__:<module>:200 - Var[2] = 0.0007222382710007434\n",
      "2023-05-14 18:18:08.338 | DEBUG    | __main__:<module>:200 - Var[3] = 1.065187793713992e-06\n",
      "2023-05-14 18:18:08.339 | DEBUG    | __main__:<module>:200 - Var[4] = 2.6346775072302746e-06\n",
      "2023-05-14 18:18:08.341 | DEBUG    | __main__:<module>:200 - Var[5] = 2.0495419228067195e-06\n",
      "2023-05-14 18:18:08.342 | DEBUG    | __main__:<module>:200 - Var[6] = 0.008751930585816749\n",
      "2023-05-14 18:18:08.343 | DEBUG    | __main__:<module>:201 - Total Var = 0.010086218020638518\n",
      "2023-05-14 18:18:08.344 | DEBUG    | __main__:<module>:202 - Total Weighted Var = 0.016602075722762042\n",
      "2023-05-14 18:18:08.347 | DEBUG    | __main__:<module>:204 - Bin size, avg=1.876412666442878, med=1.0, range=[1, 19]\n",
      "2023-05-14 18:18:08.349 | DEBUG    | __main__:<module>:207 - Normalized bin size, avg=5.2490004096533456e-05, med=2.7973592928275707e-05, range=[2.7973592928275707e-05, 0.0005314982656372385]\n",
      "2023-05-14 18:18:08.350 | DEBUG    | __main__:<module>:210 - -----------------------------------------------------------\n",
      "2023-05-14 18:18:08.371 | DEBUG    | __main__:<module>:62 - File Path: data/hvs/scripted_rm_lsn0_05_square_200ep.npz\n",
      "2023-05-14 18:18:08.476 | DEBUG    | __main__:<module>:71 - ['object', 'robot0_eef_pos', 'robot0_eef_eul', 'robot0_eef_quat', 'robot0_eef_vel_ang', 'robot0_eef_vel_lin', 'robot0_gripper_qpos', 'robot0_gripper_qvel', 'robot0_joint_pos', 'robot0_joint_pos_cos', 'robot0_joint_pos_sin', 'robot0_joint_vel', 'action', 'policy_type', 'policy_name', 'policy_switch', 'reward', 'done', 'rollout_timestep']\n",
      "2023-05-14 18:18:08.476 | DEBUG    | __main__:<module>:87 - Key Name: robot0_eef_pos, raw shape: (46909, 3)\n",
      "2023-05-14 18:18:08.477 | DEBUG    | __main__:<module>:87 - Key Name: robot0_eef_quat, raw shape: (46909, 4)\n",
      "2023-05-14 18:18:08.478 | DEBUG    | __main__:<module>:88 - Action Key Name: action, raw shape: (46909, 7)\n",
      "2023-05-14 18:18:08.478 | DEBUG    | __main__:<module>:89 - Episode Done Name: done\n",
      "2023-05-14 18:18:08.489 | DEBUG    | __main__:<module>:123 - New Data shape: (46909, 7)\n",
      "2023-05-14 18:18:08.489 | DEBUG    | __main__:<module>:124 - New Action shape: (46909, 7)\n",
      "2023-05-14 18:18:08.490 | DEBUG    | __main__:<module>:129 - Loading data/hvs/human_square_30k.npz for normalizing states...\n",
      "2023-05-14 18:18:08.502 | DEBUG    | __main__:<module>:134 - Using normalized state data: \n",
      "mu=[ 0.0221378   0.12769784  0.9233971   0.88738257 -0.00985888  0.02981661\n",
      " -0.00627095]\n",
      "sigma=[0.14880033 0.06730275 0.0598591  0.10894126 0.44433743 0.03811176\n",
      " 0.02802529]\n"
     ]
    },
    {
     "name": "stderr",
     "output_type": "stream",
     "text": [
      "2023-05-14 18:18:08.506 | DEBUG    | __main__:<module>:145 - Action scale: [ 5.70903864  5.70903864  5.70903864 41.66081198 41.66081198 41.66081198\n",
      "  1.00296452]\n",
      "2023-05-14 18:18:08.507 | DEBUG    | __main__:<module>:153 - Chunk 0 -> 5000...\n",
      "2023-05-14 18:18:20.732 | DEBUG    | __main__:<module>:153 - Chunk 5000 -> 10000...\n",
      "2023-05-14 18:18:32.919 | DEBUG    | __main__:<module>:153 - Chunk 10000 -> 15000...\n",
      "2023-05-14 18:18:45.121 | DEBUG    | __main__:<module>:153 - Chunk 15000 -> 20000...\n",
      "2023-05-14 18:18:57.318 | DEBUG    | __main__:<module>:153 - Chunk 20000 -> 25000...\n",
      "2023-05-14 18:19:09.524 | DEBUG    | __main__:<module>:153 - Chunk 25000 -> 30000...\n",
      "2023-05-14 18:19:21.608 | DEBUG    | __main__:<module>:153 - Chunk 30000 -> 35000...\n",
      "2023-05-14 18:19:33.426 | DEBUG    | __main__:<module>:153 - Chunk 35000 -> 40000...\n",
      "2023-05-14 18:19:45.258 | DEBUG    | __main__:<module>:153 - Chunk 40000 -> 45000...\n",
      "2023-05-14 18:19:57.039 | DEBUG    | __main__:<module>:153 - Chunk 45000 -> 50000...\n",
      "2023-05-14 18:20:01.554 | DEBUG    | __main__:<module>:157 - Merging dist mats...\n",
      "2023-05-14 18:20:12.402 | DEBUG    | __main__:<module>:196 - -----------------------------------------------------------\n",
      "2023-05-14 18:20:12.404 | DEBUG    | __main__:<module>:198 - Files = ['data/hvs/scripted_rm_lsn0_05_square_200ep.npz']\n",
      "2023-05-14 18:20:12.405 | DEBUG    | __main__:<module>:200 - Var[0] = 0.000507277139734253\n",
      "2023-05-14 18:20:12.406 | DEBUG    | __main__:<module>:200 - Var[1] = 0.00037744580725979657\n",
      "2023-05-14 18:20:12.407 | DEBUG    | __main__:<module>:200 - Var[2] = 0.002178198589648922\n",
      "2023-05-14 18:20:12.409 | DEBUG    | __main__:<module>:200 - Var[3] = 5.029471345876176e-07\n",
      "2023-05-14 18:20:12.410 | DEBUG    | __main__:<module>:200 - Var[4] = 2.734451996163797e-06\n",
      "2023-05-14 18:20:12.411 | DEBUG    | __main__:<module>:200 - Var[5] = 0.001051071880912968\n",
      "2023-05-14 18:20:12.412 | DEBUG    | __main__:<module>:200 - Var[6] = 0.0625148530199367\n",
      "2023-05-14 18:20:12.413 | DEBUG    | __main__:<module>:201 - Total Var = 0.06663208383662339\n",
      "2023-05-14 18:20:12.414 | DEBUG    | __main__:<module>:202 - Total Weighted Var = 0.12410989732793712\n",
      "2023-05-14 18:20:12.417 | DEBUG    | __main__:<module>:204 - Bin size, avg=14.650941183994542, med=3.0, range=[1, 244]\n",
      "2023-05-14 18:20:12.420 | DEBUG    | __main__:<module>:207 - Normalized bin size, avg=0.00031232687083490465, med=6.395361231320215e-05, range=[2.1317870771067386e-05, 0.005201560468140442]\n",
      "2023-05-14 18:20:12.420 | DEBUG    | __main__:<module>:210 - -----------------------------------------------------------\n",
      "2023-05-14 18:20:12.446 | DEBUG    | __main__:<module>:62 - File Path: data/hvs/scripted_rm_lpn0_005_square_200ep.npz\n",
      "2023-05-14 18:20:12.543 | DEBUG    | __main__:<module>:71 - ['object', 'robot0_eef_pos', 'robot0_eef_eul', 'robot0_eef_quat', 'robot0_eef_vel_ang', 'robot0_eef_vel_lin', 'robot0_gripper_qpos', 'robot0_gripper_qvel', 'robot0_joint_pos', 'robot0_joint_pos_cos', 'robot0_joint_pos_sin', 'robot0_joint_vel', 'action', 'policy_type', 'policy_name', 'policy_switch', 'reward', 'done', 'rollout_timestep']\n",
      "2023-05-14 18:20:12.544 | DEBUG    | __main__:<module>:87 - Key Name: robot0_eef_pos, raw shape: (46980, 3)\n",
      "2023-05-14 18:20:12.545 | DEBUG    | __main__:<module>:87 - Key Name: robot0_eef_quat, raw shape: (46980, 4)\n",
      "2023-05-14 18:20:12.545 | DEBUG    | __main__:<module>:88 - Action Key Name: action, raw shape: (46980, 7)\n",
      "2023-05-14 18:20:12.546 | DEBUG    | __main__:<module>:89 - Episode Done Name: done\n",
      "2023-05-14 18:20:12.555 | DEBUG    | __main__:<module>:123 - New Data shape: (46980, 7)\n",
      "2023-05-14 18:20:12.556 | DEBUG    | __main__:<module>:124 - New Action shape: (46980, 7)\n",
      "2023-05-14 18:20:12.556 | DEBUG    | __main__:<module>:129 - Loading data/hvs/human_square_30k.npz for normalizing states...\n",
      "2023-05-14 18:20:12.567 | DEBUG    | __main__:<module>:134 - Using normalized state data: \n",
      "mu=[ 0.0221378   0.12769784  0.9233971   0.88738257 -0.00985888  0.02981661\n",
      " -0.00627095]\n",
      "sigma=[0.14880033 0.06730275 0.0598591  0.10894126 0.44433743 0.03811176\n",
      " 0.02802529]\n",
      "2023-05-14 18:20:12.571 | DEBUG    | __main__:<module>:145 - Action scale: [ 5.70903864  5.70903864  5.70903864 41.66081198 41.66081198 41.66081198\n",
      "  1.00296452]\n",
      "2023-05-14 18:20:12.571 | DEBUG    | __main__:<module>:153 - Chunk 0 -> 5000...\n",
      "2023-05-14 18:20:24.452 | DEBUG    | __main__:<module>:153 - Chunk 5000 -> 10000...\n",
      "2023-05-14 18:20:36.606 | DEBUG    | __main__:<module>:153 - Chunk 10000 -> 15000...\n",
      "2023-05-14 18:20:48.788 | DEBUG    | __main__:<module>:153 - Chunk 15000 -> 20000...\n",
      "2023-05-14 18:21:00.751 | DEBUG    | __main__:<module>:153 - Chunk 20000 -> 25000...\n",
      "2023-05-14 18:21:12.511 | DEBUG    | __main__:<module>:153 - Chunk 25000 -> 30000...\n",
      "2023-05-14 18:21:24.245 | DEBUG    | __main__:<module>:153 - Chunk 30000 -> 35000...\n",
      "2023-05-14 18:21:35.970 | DEBUG    | __main__:<module>:153 - Chunk 35000 -> 40000...\n",
      "2023-05-14 18:21:47.743 | DEBUG    | __main__:<module>:153 - Chunk 40000 -> 45000...\n",
      "2023-05-14 18:21:59.578 | DEBUG    | __main__:<module>:153 - Chunk 45000 -> 50000...\n",
      "2023-05-14 18:22:04.355 | DEBUG    | __main__:<module>:157 - Merging dist mats...\n",
      "2023-05-14 18:22:15.644 | DEBUG    | __main__:<module>:196 - -----------------------------------------------------------\n",
      "2023-05-14 18:22:15.646 | DEBUG    | __main__:<module>:198 - Files = ['data/hvs/scripted_rm_lpn0_005_square_200ep.npz']\n",
      "2023-05-14 18:22:15.647 | DEBUG    | __main__:<module>:200 - Var[0] = 0.00265868707080374\n",
      "2023-05-14 18:22:15.649 | DEBUG    | __main__:<module>:200 - Var[1] = 0.0022753308567946525\n",
      "2023-05-14 18:22:15.650 | DEBUG    | __main__:<module>:200 - Var[2] = 0.004249882186173668\n",
      "2023-05-14 18:22:15.651 | DEBUG    | __main__:<module>:200 - Var[3] = 5.007239753120024e-07\n",
      "2023-05-14 18:22:15.652 | DEBUG    | __main__:<module>:200 - Var[4] = 3.557933413016579e-06\n",
      "2023-05-14 18:22:15.654 | DEBUG    | __main__:<module>:200 - Var[5] = 0.00110641334732752\n",
      "2023-05-14 18:22:15.655 | DEBUG    | __main__:<module>:200 - Var[6] = 0.06185735554113898\n",
      "2023-05-14 18:22:15.656 | DEBUG    | __main__:<module>:201 - Total Var = 0.07215172765962688\n",
      "2023-05-14 18:22:15.657 | DEBUG    | __main__:<module>:202 - Total Weighted Var = 0.16073513860634445\n",
      "2023-05-14 18:22:15.661 | DEBUG    | __main__:<module>:204 - Bin size, avg=21.059897828863345, med=2.0, range=[1, 382]\n",
      "2023-05-14 18:22:15.662 | DEBUG    | __main__:<module>:207 - Normalized bin size, avg=0.0004482736872895561, med=4.257130693912303e-05, range=[2.1285653469561517e-05, 0.0081311196253725]\n",
      "2023-05-14 18:22:15.662 | DEBUG    | __main__:<module>:210 - -----------------------------------------------------------\n"
     ]
    }
   ],
   "source": [
    "#SQUARE pose only\n",
    "\n",
    "# some fixed normalization (1/sig^2)\n",
    "norm_file = 'data/hvs/human_square_30k.npz'\n",
    "data = np.load(norm_file, allow_pickle=True)\n",
    "action = data['action']\n",
    "\n",
    "sigma = action.std(axis=0)\n",
    "# sigma=[0.33783787, 0.64600927, 0.4043406,  0.0595378,  0.07067125, 0.17431368, 0.9928263]\n",
    "sigma=[1 / max(sigma[:3])**2] * 3 + [1 / max(sigma[3:6])**2] * 3 + [1 / sigma[6]**2]\n",
    "sigma_str = sweep_from_arr(sigma)[3:-3]\n",
    "dsets = [\n",
    "    'human_square_30k',\n",
    "#     'multihuman_square_80k',\n",
    "    'multihuman-better_square_20k',\n",
    "    'multihuman-okay_square_25k',\n",
    "    'multihuman-worse_square_35k',\n",
    "    'scripted_rm_lsn0_05_square_200ep',\n",
    "    'scripted_rm_lpn0_005_square_200ep'\n",
    "]\n",
    "for dset in dsets:\n",
    "\n",
    "    dataset = f\"data/hvs/{dset}.npz\"\n",
    "    %run scripts/hvs/plot_action_variance.py --file {dataset} --key robot0_eef_pos robot0_eef_quat --use_state_norm --state_norm_file {norm_file} --action_key action --action_scale {sigma_str} --cluster_eps 0.05\n",
    "        "
   ]
  },
  {
   "cell_type": "code",
   "execution_count": 5,
   "metadata": {},
   "outputs": [
    {
     "name": "stderr",
     "output_type": "stream",
     "text": [
      "2023-05-14 18:22:15.722 | DEBUG    | __main__:<module>:62 - File Path: data/hvs/human_can_25k.npz\n",
      "2023-05-14 18:22:15.773 | DEBUG    | __main__:<module>:71 - ['object', 'robot0_eef_pos', 'robot0_eef_quat', 'robot0_eef_eul', 'robot0_eef_vel_ang', 'robot0_eef_vel_lin', 'robot0_gripper_qpos', 'robot0_gripper_qvel', 'robot0_joint_pos', 'robot0_joint_pos_cos', 'robot0_joint_pos_sin', 'robot0_joint_vel', 'action', 'policy_type', 'policy_name', 'policy_switch', 'reward', 'done', 'rollout_timestep']\n",
      "2023-05-14 18:22:15.774 | DEBUG    | __main__:<module>:87 - Key Name: robot0_eef_pos, raw shape: (23207, 3)\n",
      "2023-05-14 18:22:15.774 | DEBUG    | __main__:<module>:87 - Key Name: robot0_eef_quat, raw shape: (23207, 4)\n",
      "2023-05-14 18:22:15.775 | DEBUG    | __main__:<module>:88 - Action Key Name: action, raw shape: (23207, 7)\n",
      "2023-05-14 18:22:15.775 | DEBUG    | __main__:<module>:89 - Episode Done Name: done\n",
      "2023-05-14 18:22:15.784 | DEBUG    | __main__:<module>:123 - New Data shape: (23207, 7)\n",
      "2023-05-14 18:22:15.785 | DEBUG    | __main__:<module>:124 - New Action shape: (23207, 7)\n",
      "2023-05-14 18:22:15.789 | DEBUG    | __main__:<module>:134 - Using normalized state data: \n",
      "mu=[ 0.10789825 -0.07529953  0.9834947   0.9626342  -0.01928422  0.0055165\n",
      " -0.05819027]\n",
      "sigma=[0.07641463 0.21731521 0.07679079 0.05066627 0.23662685 0.04937783\n",
      " 0.09254781]\n",
      "2023-05-14 18:22:15.791 | DEBUG    | __main__:<module>:145 - Action scale: [ 2.39619692  2.39619692  2.39619692 32.91069549 32.91069549 32.91069549\n",
      "  1.01450331]\n",
      "2023-05-14 18:22:15.792 | DEBUG    | __main__:<module>:153 - Chunk 0 -> 5000...\n",
      "2023-05-14 18:22:21.850 | DEBUG    | __main__:<module>:153 - Chunk 5000 -> 10000...\n",
      "2023-05-14 18:22:27.926 | DEBUG    | __main__:<module>:153 - Chunk 10000 -> 15000...\n",
      "2023-05-14 18:22:33.989 | DEBUG    | __main__:<module>:153 - Chunk 15000 -> 20000...\n",
      "2023-05-14 18:22:40.074 | DEBUG    | __main__:<module>:153 - Chunk 20000 -> 25000...\n",
      "2023-05-14 18:22:43.965 | DEBUG    | __main__:<module>:157 - Merging dist mats...\n",
      "2023-05-14 18:22:46.868 | DEBUG    | __main__:<module>:196 - -----------------------------------------------------------\n",
      "2023-05-14 18:22:46.870 | DEBUG    | __main__:<module>:198 - Files = ['data/hvs/human_can_25k.npz']\n",
      "2023-05-14 18:22:46.870 | DEBUG    | __main__:<module>:200 - Var[0] = 0.0007350847019104398\n",
      "2023-05-14 18:22:46.872 | DEBUG    | __main__:<module>:200 - Var[1] = 0.0010574917566760242\n",
      "2023-05-14 18:22:46.873 | DEBUG    | __main__:<module>:200 - Var[2] = 0.0008054870627960036\n",
      "2023-05-14 18:22:46.873 | DEBUG    | __main__:<module>:200 - Var[3] = 2.3204655765624138e-05\n",
      "2023-05-14 18:22:46.876 | DEBUG    | __main__:<module>:200 - Var[4] = 3.4386501253956506e-05\n",
      "2023-05-14 18:22:46.876 | DEBUG    | __main__:<module>:200 - Var[5] = 6.976648427536523e-05\n",
      "2023-05-14 18:22:46.877 | DEBUG    | __main__:<module>:200 - Var[6] = 0.0075119535447184076\n",
      "2023-05-14 18:22:46.877 | DEBUG    | __main__:<module>:201 - Total Var = 0.010237374707395821\n",
      "2023-05-14 18:22:46.878 | DEBUG    | __main__:<module>:202 - Total Weighted Var = 0.01803780208994642\n",
      "2023-05-14 18:22:46.880 | DEBUG    | __main__:<module>:204 - Bin size, avg=1.3237816176153747, med=1.0, range=[1, 11]\n",
      "2023-05-14 18:22:46.881 | DEBUG    | __main__:<module>:207 - Normalized bin size, avg=5.7042341432127146e-05, med=4.309044684793381e-05, range=[4.309044684793381e-05, 0.0004739949153272719]\n",
      "2023-05-14 18:22:46.882 | DEBUG    | __main__:<module>:210 - -----------------------------------------------------------\n",
      "2023-05-14 18:22:46.922 | DEBUG    | __main__:<module>:62 - File Path: data/hvs/multihuman-better_can_15k.npz\n",
      "2023-05-14 18:22:46.959 | DEBUG    | __main__:<module>:71 - ['object', 'robot0_eef_pos', 'robot0_eef_quat', 'robot0_eef_eul', 'robot0_eef_vel_ang', 'robot0_eef_vel_lin', 'robot0_gripper_qpos', 'robot0_gripper_qvel', 'robot0_joint_pos', 'robot0_joint_pos_cos', 'robot0_joint_pos_sin', 'robot0_joint_vel', 'action', 'policy_type', 'policy_name', 'policy_switch', 'reward', 'done', 'rollout_timestep']\n",
      "2023-05-14 18:22:46.960 | DEBUG    | __main__:<module>:87 - Key Name: robot0_eef_pos, raw shape: (14264, 3)\n",
      "2023-05-14 18:22:46.961 | DEBUG    | __main__:<module>:87 - Key Name: robot0_eef_quat, raw shape: (14264, 4)\n",
      "2023-05-14 18:22:46.961 | DEBUG    | __main__:<module>:88 - Action Key Name: action, raw shape: (14264, 7)\n",
      "2023-05-14 18:22:46.962 | DEBUG    | __main__:<module>:89 - Episode Done Name: done\n",
      "2023-05-14 18:22:46.968 | DEBUG    | __main__:<module>:123 - New Data shape: (14264, 7)\n",
      "2023-05-14 18:22:46.968 | DEBUG    | __main__:<module>:124 - New Action shape: (14264, 7)\n",
      "2023-05-14 18:22:46.972 | DEBUG    | __main__:<module>:134 - Using normalized state data: \n",
      "mu=[ 0.0961124  -0.08451675  0.9754479   0.98263395 -0.00360332  0.01488036\n",
      " -0.02413456]\n",
      "sigma=[0.07555222 0.2207379  0.06687365 0.03180498 0.16466315 0.04025586\n",
      " 0.06228106]\n",
      "2023-05-14 18:22:46.974 | DEBUG    | __main__:<module>:145 - Action scale: [ 2.39619692  2.39619692  2.39619692 32.91069549 32.91069549 32.91069549\n",
      "  1.01450331]\n",
      "2023-05-14 18:22:46.974 | DEBUG    | __main__:<module>:153 - Chunk 0 -> 5000...\n",
      "2023-05-14 18:22:50.708 | DEBUG    | __main__:<module>:153 - Chunk 5000 -> 10000...\n",
      "2023-05-14 18:22:54.452 | DEBUG    | __main__:<module>:153 - Chunk 10000 -> 15000...\n",
      "2023-05-14 18:22:57.644 | DEBUG    | __main__:<module>:157 - Merging dist mats...\n",
      "2023-05-14 18:22:58.813 | DEBUG    | __main__:<module>:196 - -----------------------------------------------------------\n",
      "2023-05-14 18:22:58.814 | DEBUG    | __main__:<module>:198 - Files = ['data/hvs/multihuman-better_can_15k.npz']\n",
      "2023-05-14 18:22:58.814 | DEBUG    | __main__:<module>:200 - Var[0] = 0.0003996044570196438\n",
      "2023-05-14 18:22:58.815 | DEBUG    | __main__:<module>:200 - Var[1] = 0.0004779852593070355\n",
      "2023-05-14 18:22:58.816 | DEBUG    | __main__:<module>:200 - Var[2] = 0.0005917193286072483\n",
      "2023-05-14 18:22:58.816 | DEBUG    | __main__:<module>:200 - Var[3] = 1.0792938610935053e-06\n",
      "2023-05-14 18:22:58.817 | DEBUG    | __main__:<module>:200 - Var[4] = 1.2374542800564695e-06\n",
      "2023-05-14 18:22:58.817 | DEBUG    | __main__:<module>:200 - Var[5] = 2.4509671768430043e-06\n",
      "2023-05-14 18:22:58.818 | DEBUG    | __main__:<module>:200 - Var[6] = 0.00997836514758975\n",
      "2023-05-14 18:22:58.818 | DEBUG    | __main__:<module>:201 - Total Var = 0.01145244190784167\n",
      "2023-05-14 18:22:58.819 | DEBUG    | __main__:<module>:202 - Total Weighted Var = 0.013800747107069126\n",
      "2023-05-14 18:22:58.821 | DEBUG    | __main__:<module>:204 - Bin size, avg=1.552019068984857, med=1.0, range=[1, 15]\n",
      "2023-05-14 18:22:58.822 | DEBUG    | __main__:<module>:207 - Normalized bin size, avg=0.00010880672104492827, med=7.010656197420079e-05, range=[7.010656197420079e-05, 0.0010515984296130118]\n",
      "2023-05-14 18:22:58.822 | DEBUG    | __main__:<module>:210 - -----------------------------------------------------------\n",
      "2023-05-14 18:22:58.842 | DEBUG    | __main__:<module>:62 - File Path: data/hvs/multihuman-okay_can_20k.npz\n",
      "2023-05-14 18:22:58.883 | DEBUG    | __main__:<module>:71 - ['object', 'robot0_eef_pos', 'robot0_eef_quat', 'robot0_eef_eul', 'robot0_eef_vel_ang', 'robot0_eef_vel_lin', 'robot0_gripper_qpos', 'robot0_gripper_qvel', 'robot0_joint_pos', 'robot0_joint_pos_cos', 'robot0_joint_pos_sin', 'robot0_joint_vel', 'action', 'policy_type', 'policy_name', 'policy_switch', 'reward', 'done', 'rollout_timestep']\n",
      "2023-05-14 18:22:58.884 | DEBUG    | __main__:<module>:87 - Key Name: robot0_eef_pos, raw shape: (18053, 3)\n",
      "2023-05-14 18:22:58.885 | DEBUG    | __main__:<module>:87 - Key Name: robot0_eef_quat, raw shape: (18053, 4)\n",
      "2023-05-14 18:22:58.885 | DEBUG    | __main__:<module>:88 - Action Key Name: action, raw shape: (18053, 7)\n",
      "2023-05-14 18:22:58.886 | DEBUG    | __main__:<module>:89 - Episode Done Name: done\n",
      "2023-05-14 18:22:58.892 | DEBUG    | __main__:<module>:123 - New Data shape: (18053, 7)\n",
      "2023-05-14 18:22:58.892 | DEBUG    | __main__:<module>:124 - New Action shape: (18053, 7)\n",
      "2023-05-14 18:22:58.897 | DEBUG    | __main__:<module>:134 - Using normalized state data: \n",
      "mu=[ 0.09393011 -0.092972    0.9687039   0.98052025 -0.01076507  0.01754672\n",
      " -0.02118039]\n",
      "sigma=[0.08232111 0.2272144  0.06302915 0.02984231 0.17933184 0.05325336\n",
      " 0.04280606]\n"
     ]
    },
    {
     "name": "stderr",
     "output_type": "stream",
     "text": [
      "2023-05-14 18:22:58.899 | DEBUG    | __main__:<module>:145 - Action scale: [ 2.39619692  2.39619692  2.39619692 32.91069549 32.91069549 32.91069549\n",
      "  1.01450331]\n",
      "2023-05-14 18:22:58.899 | DEBUG    | __main__:<module>:153 - Chunk 0 -> 5000...\n",
      "2023-05-14 18:23:03.620 | DEBUG    | __main__:<module>:153 - Chunk 5000 -> 10000...\n",
      "2023-05-14 18:23:08.342 | DEBUG    | __main__:<module>:153 - Chunk 10000 -> 15000...\n",
      "2023-05-14 18:23:13.066 | DEBUG    | __main__:<module>:153 - Chunk 15000 -> 20000...\n",
      "2023-05-14 18:23:15.956 | DEBUG    | __main__:<module>:157 - Merging dist mats...\n",
      "2023-05-14 18:23:17.772 | DEBUG    | __main__:<module>:196 - -----------------------------------------------------------\n",
      "2023-05-14 18:23:17.773 | DEBUG    | __main__:<module>:198 - Files = ['data/hvs/multihuman-okay_can_20k.npz']\n",
      "2023-05-14 18:23:17.774 | DEBUG    | __main__:<module>:200 - Var[0] = 0.0008999435815491415\n",
      "2023-05-14 18:23:17.774 | DEBUG    | __main__:<module>:200 - Var[1] = 0.0010667903602790056\n",
      "2023-05-14 18:23:17.775 | DEBUG    | __main__:<module>:200 - Var[2] = 0.0008194496189773984\n",
      "2023-05-14 18:23:17.775 | DEBUG    | __main__:<module>:200 - Var[3] = 2.949450385941429e-06\n",
      "2023-05-14 18:23:17.776 | DEBUG    | __main__:<module>:200 - Var[4] = 2.420978144410274e-06\n",
      "2023-05-14 18:23:17.780 | DEBUG    | __main__:<module>:200 - Var[5] = 2.178191283918065e-05\n",
      "2023-05-14 18:23:17.781 | DEBUG    | __main__:<module>:200 - Var[6] = 0.015335153565209014\n",
      "2023-05-14 18:23:17.781 | DEBUG    | __main__:<module>:201 - Total Var = 0.018148489467384094\n",
      "2023-05-14 18:23:17.782 | DEBUG    | __main__:<module>:202 - Total Weighted Var = 0.02312741095697729\n",
      "2023-05-14 18:23:17.784 | DEBUG    | __main__:<module>:204 - Bin size, avg=1.9218412452224007, med=1.0, range=[1, 25]\n",
      "2023-05-14 18:23:17.785 | DEBUG    | __main__:<module>:207 - Normalized bin size, avg=0.00010645550574543847, med=5.5392455547554426e-05, range=[5.5392455547554426e-05, 0.0013848113886888605]\n",
      "2023-05-14 18:23:17.785 | DEBUG    | __main__:<module>:210 - -----------------------------------------------------------\n",
      "2023-05-14 18:23:17.802 | DEBUG    | __main__:<module>:62 - File Path: data/hvs/multihuman-worse_can_30k.npz\n",
      "2023-05-14 18:23:17.869 | DEBUG    | __main__:<module>:71 - ['object', 'robot0_eef_pos', 'robot0_eef_quat', 'robot0_eef_eul', 'robot0_eef_vel_ang', 'robot0_eef_vel_lin', 'robot0_gripper_qpos', 'robot0_gripper_qvel', 'robot0_joint_pos', 'robot0_joint_pos_cos', 'robot0_joint_pos_sin', 'robot0_joint_vel', 'action', 'policy_type', 'policy_name', 'policy_switch', 'reward', 'done', 'rollout_timestep']\n",
      "2023-05-14 18:23:17.869 | DEBUG    | __main__:<module>:87 - Key Name: robot0_eef_pos, raw shape: (30439, 3)\n",
      "2023-05-14 18:23:17.870 | DEBUG    | __main__:<module>:87 - Key Name: robot0_eef_quat, raw shape: (30439, 4)\n",
      "2023-05-14 18:23:17.870 | DEBUG    | __main__:<module>:88 - Action Key Name: action, raw shape: (30439, 7)\n",
      "2023-05-14 18:23:17.871 | DEBUG    | __main__:<module>:89 - Episode Done Name: done\n",
      "2023-05-14 18:23:17.878 | DEBUG    | __main__:<module>:123 - New Data shape: (30439, 7)\n",
      "2023-05-14 18:23:17.879 | DEBUG    | __main__:<module>:124 - New Action shape: (30439, 7)\n",
      "2023-05-14 18:23:17.884 | DEBUG    | __main__:<module>:134 - Using normalized state data: \n",
      "mu=[ 8.4710464e-02 -5.9198562e-02  9.5209682e-01  9.6982926e-01\n",
      " -2.3837723e-02  4.0738244e-02  4.5907311e-04]\n",
      "sigma=[0.08695069 0.23896997 0.06036581 0.04528603 0.21686211 0.07857009\n",
      " 0.04440837]\n",
      "2023-05-14 18:23:17.886 | DEBUG    | __main__:<module>:145 - Action scale: [ 2.39619692  2.39619692  2.39619692 32.91069549 32.91069549 32.91069549\n",
      "  1.01450331]\n",
      "2023-05-14 18:23:17.887 | DEBUG    | __main__:<module>:153 - Chunk 0 -> 5000...\n",
      "2023-05-14 18:23:25.858 | DEBUG    | __main__:<module>:153 - Chunk 5000 -> 10000...\n",
      "2023-05-14 18:23:33.834 | DEBUG    | __main__:<module>:153 - Chunk 10000 -> 15000...\n",
      "2023-05-14 18:23:41.824 | DEBUG    | __main__:<module>:153 - Chunk 15000 -> 20000...\n",
      "2023-05-14 18:23:49.805 | DEBUG    | __main__:<module>:153 - Chunk 20000 -> 25000...\n",
      "2023-05-14 18:23:57.783 | DEBUG    | __main__:<module>:153 - Chunk 25000 -> 30000...\n",
      "2023-05-14 18:24:05.753 | DEBUG    | __main__:<module>:153 - Chunk 30000 -> 35000...\n",
      "2023-05-14 18:24:06.478 | DEBUG    | __main__:<module>:157 - Merging dist mats...\n",
      "2023-05-14 18:24:11.384 | DEBUG    | __main__:<module>:196 - -----------------------------------------------------------\n",
      "2023-05-14 18:24:11.385 | DEBUG    | __main__:<module>:198 - Files = ['data/hvs/multihuman-worse_can_30k.npz']\n",
      "2023-05-14 18:24:11.387 | DEBUG    | __main__:<module>:200 - Var[0] = 0.0007902154670463066\n",
      "2023-05-14 18:24:11.389 | DEBUG    | __main__:<module>:200 - Var[1] = 0.0013578864005620122\n",
      "2023-05-14 18:24:11.390 | DEBUG    | __main__:<module>:200 - Var[2] = 0.0011965838253945827\n",
      "2023-05-14 18:24:11.391 | DEBUG    | __main__:<module>:200 - Var[3] = 1.758082255790102e-06\n",
      "2023-05-14 18:24:11.392 | DEBUG    | __main__:<module>:200 - Var[4] = 4.655516770353067e-06\n",
      "2023-05-14 18:24:11.393 | DEBUG    | __main__:<module>:200 - Var[5] = 3.5034368357370835e-06\n",
      "2023-05-14 18:24:11.394 | DEBUG    | __main__:<module>:200 - Var[6] = 0.0114760314948112\n",
      "2023-05-14 18:24:11.395 | DEBUG    | __main__:<module>:201 - Total Var = 0.014830634223675983\n",
      "2023-05-14 18:24:11.396 | DEBUG    | __main__:<module>:202 - Total Weighted Var = 0.019983374035349194\n",
      "2023-05-14 18:24:11.398 | DEBUG    | __main__:<module>:204 - Bin size, avg=2.381320017083347, med=1.0, range=[1, 29]\n",
      "2023-05-14 18:24:11.399 | DEBUG    | __main__:<module>:207 - Normalized bin size, avg=7.823253119627277e-05, med=3.285259042675515e-05, range=[3.285259042675515e-05, 0.0009527251223758993]\n",
      "2023-05-14 18:24:11.400 | DEBUG    | __main__:<module>:210 - -----------------------------------------------------------\n"
     ]
    }
   ],
   "source": [
    "# CAN pose only\n",
    "\n",
    "# some fixed normalization (1/sig^2)\n",
    "action = np.load('data/hvs/human_can_25k.npz', allow_pickle=True)['action']\n",
    "sigma = action.std(axis=0)\n",
    "# sigma=[0.33783787, 0.64600927, 0.4043406,  0.0595378,  0.07067125, 0.17431368, 0.9928263]\n",
    "sigma=[1 / max(sigma[:3])**2] * 3 + [1 / max(sigma[3:6])**2] * 3 + [1 / sigma[6]**2]\n",
    "sigma_str = sweep_from_arr(sigma)[3:-3]\n",
    "\n",
    "# CAN\n",
    "dsets = [\n",
    "    'human_can_25k',\n",
    "    'multihuman-better_can_15k',\n",
    "    'multihuman-okay_can_20k',\n",
    "    'multihuman-worse_can_30k',\n",
    "]\n",
    "for dset in dsets:\n",
    "\n",
    "    dataset = f\"data/hvs/{dset}.npz\"\n",
    "    %run scripts/hvs/plot_action_variance.py --file {dataset} --key robot0_eef_pos robot0_eef_quat --use_state_norm --action_scale {sigma_str} --action_key action --cluster_eps 0.05\n",
    "    \n"
   ]
  },
  {
   "cell_type": "markdown",
   "metadata": {},
   "source": [
    "# seeds"
   ]
  },
  {
   "cell_type": "code",
   "execution_count": 20,
   "metadata": {},
   "outputs": [],
   "source": [
    "# extract success rates for each set of rollouts\n",
    "import os\n",
    "from configs.utils import hr_name\n",
    "import subprocess\n",
    "\n",
    "\n",
    "def sweep_from_arr(arr):\n",
    "    s = \"[[[ \"\n",
    "    for a in arr:\n",
    "        s = s + str(a) + \" \"\n",
    "    s = s + \"]]]\"\n",
    "    return s\n",
    "\n",
    "\n",
    "def print_success(noise_type='s', noise_values=[0.05, 0.1, 0.2], s_noises = [0.05, 0.1, 0.2], prefix=\"best_\", num_rollouts=100, \n",
    "                  fn=compute_success_rate, run_cmd=True, run_compute=False, \n",
    "                  batch_sizes = [256, 256],\n",
    "                  dset_suffs = ['', '-first100'], data_seed=''):\n",
    "\n",
    "    if run_cmd:\n",
    "        for suff, bs in zip(dset_suffs, batch_sizes):\n",
    "            for i, s in enumerate(noise_values):\n",
    "                noise = f\"_l{noise_type}n{hr_name(s)}\"\n",
    "                \n",
    "                assert isinstance(data_seed, str)\n",
    "\n",
    "                dset = f\"scripted{data_seed}_rm{noise}_square_200ep{suff}\"\n",
    "                exp_name = f'experiments/hvs/velact_b{bs}_h10_{dset}_bc-l2_mlp400-d2'\n",
    "                \n",
    "                files = [f\"{prefix}eval{num_rollouts}_lsn{hr_name(es)}.npz\" for es in s_noises]\n",
    "                sweep_files = sweep_from_arr(files)\n",
    "\n",
    "                noise_sweep = sweep_from_arr(s_noises)\n",
    "\n",
    "                command = f\"python scripts/slurm.py -sp -c iliad --exclude iliad[1-4] --cpus {2*len(s_noises)} --job-name sqeval{noise}{suff} --- \" \\\n",
    "                          f\"python scripts/collect.py --max_eps {num_rollouts} --save_file {sweep_files} \" \\\n",
    "                          f\"--save_every_n_episodes {num_rollouts} --model_file {prefix}model.pt --track_returns exp={exp_name} \" \\\n",
    "                          f\"%env_train --pos_noise_std {noise_sweep}\"\n",
    "                subprocess.run(command, shell=True)\n",
    "    if run_compute:\n",
    "        for suff, bs in zip(dset_suffs, batch_sizes):\n",
    "            if isinstance(data_seed, str):\n",
    "                data_seed = [data_seed]\n",
    "            success = np.empty((len(data_seed), len(noise_values), len(s_noises)), dtype=np.float32)\n",
    "            for i, s in enumerate(noise_values):\n",
    "\n",
    "                for l, ds in enumerate(data_seed):\n",
    "                    noise = f\"_l{noise_type}n{hr_name(s)}\"\n",
    "                    dset = f\"scripted{ds}_rm{noise}_square_200ep{suff}\"\n",
    "                    exp_name = f'experiments/hvs/velact_b{bs}_h10_{dset}_bc-l2_mlp400-d2'\n",
    "                \n",
    "                    for j, es in enumerate(s_noises):\n",
    "                        file = f\"{prefix}eval{num_rollouts}_lsn{hr_name(es)}.npz\"\n",
    "                        \n",
    "                        path = f\"{exp_name}/{file}\"\n",
    "                        assert os.path.exists(path), path\n",
    "                        success[l, i, j] = fn(path, num_rollouts)\n",
    "\n",
    "            print(f\"suff='{suff}'...\")\n",
    "            print(format_normal_mat_for_latex(success))\n",
    "            print('------------------------------')\n",
    "\n",
    "def format_normal_mat_for_latex(success):\n",
    "    assert len(success.shape) == 3\n",
    "    \n",
    "    if success.shape[0] == 1:\n",
    "        return str(success[0])\n",
    "\n",
    "    mean = success.mean(0)\n",
    "    stderr = success.std(0) / np.sqrt(success.shape[0])\n",
    "    string = \"\"\n",
    "    for i in range(success.shape[1]):\n",
    "        row = \"\"\n",
    "        for j in range(success.shape[2]):\n",
    "            row += \"$%.1f(%.1f)$\" % (mean[i,j] * 100, stderr[i,j] * 100)\n",
    "            if j + 1 < success.shape[2]:\n",
    "                row += \" & \"\n",
    "        string += row + \"\\\\\\\\ \\n\"\n",
    "    return string\n",
    "        \n"
   ]
  },
  {
   "cell_type": "code",
   "execution_count": 12,
   "metadata": {
    "collapsed": true
   },
   "outputs": [
    {
     "name": "stderr",
     "output_type": "stream",
     "text": [
      "2023-05-13 17:23:10.194 | DEBUG    | __main__:<module>:161 - Launching job 0 with slurm file: /tmp/belkhale/job[sqeval_lsn0_05]h68x492u.sh\n"
     ]
    },
    {
     "name": "stdout",
     "output_type": "stream",
     "text": [
      "Submitted batch job 6093938\n"
     ]
    },
    {
     "name": "stderr",
     "output_type": "stream",
     "text": [
      "2023-05-13 17:23:11.596 | DEBUG    | __main__:<module>:161 - Launching job 0 with slurm file: /tmp/belkhale/job[sqeval_lsn0_1]66gauog0.sh\n"
     ]
    },
    {
     "name": "stdout",
     "output_type": "stream",
     "text": [
      "Submitted batch job 6093939\n"
     ]
    },
    {
     "name": "stderr",
     "output_type": "stream",
     "text": [
      "2023-05-13 17:23:12.998 | DEBUG    | __main__:<module>:161 - Launching job 0 with slurm file: /tmp/belkhale/job[sqeval_lsn0_2]2i63pe4k.sh\n"
     ]
    },
    {
     "name": "stdout",
     "output_type": "stream",
     "text": [
      "Submitted batch job 6093940\n"
     ]
    },
    {
     "name": "stderr",
     "output_type": "stream",
     "text": [
      "2023-05-13 17:23:14.387 | DEBUG    | __main__:<module>:161 - Launching job 0 with slurm file: /tmp/belkhale/job[sqeval_lsn0_05-first100]9hh04r_b.sh\n"
     ]
    },
    {
     "name": "stdout",
     "output_type": "stream",
     "text": [
      "Submitted batch job 6093941\n"
     ]
    },
    {
     "name": "stderr",
     "output_type": "stream",
     "text": [
      "2023-05-13 17:23:15.714 | DEBUG    | __main__:<module>:161 - Launching job 0 with slurm file: /tmp/belkhale/job[sqeval_lsn0_1-first100]e46gryki.sh\n"
     ]
    },
    {
     "name": "stdout",
     "output_type": "stream",
     "text": [
      "Submitted batch job 6093942\n"
     ]
    },
    {
     "name": "stderr",
     "output_type": "stream",
     "text": [
      "2023-05-13 17:23:17.096 | DEBUG    | __main__:<module>:161 - Launching job 0 with slurm file: /tmp/belkhale/job[sqeval_lsn0_2-first100]w5qjnc2m.sh\n"
     ]
    },
    {
     "name": "stdout",
     "output_type": "stream",
     "text": [
      "Submitted batch job 6093943\n"
     ]
    }
   ],
   "source": [
    "print_success(noise_type='s', data_seed=\"\", run_cmd=True, run_compute=False)"
   ]
  },
  {
   "cell_type": "code",
   "execution_count": 17,
   "metadata": {
    "collapsed": true
   },
   "outputs": [
    {
     "name": "stderr",
     "output_type": "stream",
     "text": [
      "2023-05-13 19:42:34.252 | DEBUG    | __main__:<module>:161 - Launching job 0 with slurm file: /tmp/belkhale/job[sqeval_lsn0_05]mwlpcpi8.sh\n"
     ]
    },
    {
     "name": "stdout",
     "output_type": "stream",
     "text": [
      "Submitted batch job 6094234\n"
     ]
    },
    {
     "name": "stderr",
     "output_type": "stream",
     "text": [
      "2023-05-13 19:42:35.648 | DEBUG    | __main__:<module>:161 - Launching job 0 with slurm file: /tmp/belkhale/job[sqeval_lsn0_1]5z54hsbe.sh\n"
     ]
    },
    {
     "name": "stdout",
     "output_type": "stream",
     "text": [
      "Submitted batch job 6094235\n"
     ]
    },
    {
     "name": "stderr",
     "output_type": "stream",
     "text": [
      "2023-05-13 19:42:37.221 | DEBUG    | __main__:<module>:161 - Launching job 0 with slurm file: /tmp/belkhale/job[sqeval_lsn0_2]zfk7qwo_.sh\n"
     ]
    },
    {
     "name": "stdout",
     "output_type": "stream",
     "text": [
      "Submitted batch job 6094236\n"
     ]
    },
    {
     "name": "stderr",
     "output_type": "stream",
     "text": [
      "2023-05-13 19:42:38.639 | DEBUG    | __main__:<module>:161 - Launching job 0 with slurm file: /tmp/belkhale/job[sqeval_lsn0_05-first100]px4ehoo6.sh\n"
     ]
    },
    {
     "name": "stdout",
     "output_type": "stream",
     "text": [
      "Submitted batch job 6094237\n"
     ]
    },
    {
     "name": "stderr",
     "output_type": "stream",
     "text": [
      "2023-05-13 19:42:40.106 | DEBUG    | __main__:<module>:161 - Launching job 0 with slurm file: /tmp/belkhale/job[sqeval_lsn0_1-first100]ef1jsigu.sh\n"
     ]
    },
    {
     "name": "stdout",
     "output_type": "stream",
     "text": [
      "Submitted batch job 6094238\n"
     ]
    },
    {
     "name": "stderr",
     "output_type": "stream",
     "text": [
      "2023-05-13 19:42:41.582 | DEBUG    | __main__:<module>:161 - Launching job 0 with slurm file: /tmp/belkhale/job[sqeval_lsn0_2-first100]n39zwapl.sh\n"
     ]
    },
    {
     "name": "stdout",
     "output_type": "stream",
     "text": [
      "Submitted batch job 6094239\n"
     ]
    }
   ],
   "source": [
    "print_success(noise_type='s', data_seed=\"_s1\", run_cmd=True, run_compute=False)"
   ]
  },
  {
   "cell_type": "code",
   "execution_count": 18,
   "metadata": {
    "collapsed": true
   },
   "outputs": [
    {
     "name": "stderr",
     "output_type": "stream",
     "text": [
      "2023-05-13 19:42:43.051 | DEBUG    | __main__:<module>:161 - Launching job 0 with slurm file: /tmp/belkhale/job[sqeval_lsn0_05]5vbvhz56.sh\n"
     ]
    },
    {
     "name": "stdout",
     "output_type": "stream",
     "text": [
      "Submitted batch job 6094240\n"
     ]
    },
    {
     "name": "stderr",
     "output_type": "stream",
     "text": [
      "2023-05-13 19:42:44.533 | DEBUG    | __main__:<module>:161 - Launching job 0 with slurm file: /tmp/belkhale/job[sqeval_lsn0_1]dm1nyqus.sh\n"
     ]
    },
    {
     "name": "stdout",
     "output_type": "stream",
     "text": [
      "Submitted batch job 6094241\n"
     ]
    },
    {
     "name": "stderr",
     "output_type": "stream",
     "text": [
      "2023-05-13 19:42:46.049 | DEBUG    | __main__:<module>:161 - Launching job 0 with slurm file: /tmp/belkhale/job[sqeval_lsn0_2]xf212v9z.sh\n"
     ]
    },
    {
     "name": "stdout",
     "output_type": "stream",
     "text": [
      "Submitted batch job 6094242\n"
     ]
    },
    {
     "name": "stderr",
     "output_type": "stream",
     "text": [
      "2023-05-13 19:42:47.527 | DEBUG    | __main__:<module>:161 - Launching job 0 with slurm file: /tmp/belkhale/job[sqeval_lsn0_05-first100]_0z82kju.sh\n"
     ]
    },
    {
     "name": "stdout",
     "output_type": "stream",
     "text": [
      "Submitted batch job 6094243\n"
     ]
    },
    {
     "name": "stderr",
     "output_type": "stream",
     "text": [
      "2023-05-13 19:42:48.994 | DEBUG    | __main__:<module>:161 - Launching job 0 with slurm file: /tmp/belkhale/job[sqeval_lsn0_1-first100]3vi0oi1i.sh\n"
     ]
    },
    {
     "name": "stdout",
     "output_type": "stream",
     "text": [
      "Submitted batch job 6094244\n"
     ]
    },
    {
     "name": "stderr",
     "output_type": "stream",
     "text": [
      "2023-05-13 19:42:50.444 | DEBUG    | __main__:<module>:161 - Launching job 0 with slurm file: /tmp/belkhale/job[sqeval_lsn0_2-first100]frb2tmaa.sh\n"
     ]
    },
    {
     "name": "stdout",
     "output_type": "stream",
     "text": [
      "Submitted batch job 6094245\n"
     ]
    }
   ],
   "source": [
    "print_success(noise_type='s', data_seed=\"_s2\", run_cmd=True, run_compute=False)"
   ]
  },
  {
   "cell_type": "code",
   "execution_count": 19,
   "metadata": {
    "collapsed": true
   },
   "outputs": [
    {
     "name": "stderr",
     "output_type": "stream",
     "text": [
      "2023-05-13 19:43:54.512 | DEBUG    | __main__:<module>:161 - Launching job 0 with slurm file: /tmp/belkhale/job[sqeval_lpn0_005]dusddcvl.sh\n"
     ]
    },
    {
     "name": "stdout",
     "output_type": "stream",
     "text": [
      "Submitted batch job 6094246\n"
     ]
    },
    {
     "name": "stderr",
     "output_type": "stream",
     "text": [
      "2023-05-13 19:43:55.954 | DEBUG    | __main__:<module>:161 - Launching job 0 with slurm file: /tmp/belkhale/job[sqeval_lpn0_01]2gabao43.sh\n"
     ]
    },
    {
     "name": "stdout",
     "output_type": "stream",
     "text": [
      "Submitted batch job 6094247\n"
     ]
    },
    {
     "name": "stderr",
     "output_type": "stream",
     "text": [
      "2023-05-13 19:43:57.454 | DEBUG    | __main__:<module>:161 - Launching job 0 with slurm file: /tmp/belkhale/job[sqeval_lpn0_02]isowffhc.sh\n"
     ]
    },
    {
     "name": "stdout",
     "output_type": "stream",
     "text": [
      "Submitted batch job 6094248\n"
     ]
    },
    {
     "name": "stderr",
     "output_type": "stream",
     "text": [
      "2023-05-13 19:43:58.924 | DEBUG    | __main__:<module>:161 - Launching job 0 with slurm file: /tmp/belkhale/job[sqeval_lpn0_005-first100]r87tz4v4.sh\n"
     ]
    },
    {
     "name": "stdout",
     "output_type": "stream",
     "text": [
      "Submitted batch job 6094249\n"
     ]
    },
    {
     "name": "stderr",
     "output_type": "stream",
     "text": [
      "2023-05-13 19:44:00.441 | DEBUG    | __main__:<module>:161 - Launching job 0 with slurm file: /tmp/belkhale/job[sqeval_lpn0_01-first100]dmnovzl4.sh\n"
     ]
    },
    {
     "name": "stdout",
     "output_type": "stream",
     "text": [
      "Submitted batch job 6094250\n"
     ]
    },
    {
     "name": "stderr",
     "output_type": "stream",
     "text": [
      "2023-05-13 19:44:01.903 | DEBUG    | __main__:<module>:161 - Launching job 0 with slurm file: /tmp/belkhale/job[sqeval_lpn0_02-first100]xwp4o2pm.sh\n"
     ]
    },
    {
     "name": "stdout",
     "output_type": "stream",
     "text": [
      "Submitted batch job 6094252\n"
     ]
    }
   ],
   "source": [
    "print_success(noise_type='p', data_seed=\"_s1\", noise_values=[0.005, 0.01, 0.02], run_cmd=True, run_compute=False)"
   ]
  },
  {
   "cell_type": "code",
   "execution_count": 20,
   "metadata": {
    "collapsed": true
   },
   "outputs": [
    {
     "name": "stderr",
     "output_type": "stream",
     "text": [
      "2023-05-13 19:44:19.310 | DEBUG    | __main__:<module>:161 - Launching job 0 with slurm file: /tmp/belkhale/job[sqeval_lpn0_005]45g7t9e5.sh\n"
     ]
    },
    {
     "name": "stdout",
     "output_type": "stream",
     "text": [
      "Submitted batch job 6094253\n"
     ]
    },
    {
     "name": "stderr",
     "output_type": "stream",
     "text": [
      "2023-05-13 19:44:20.847 | DEBUG    | __main__:<module>:161 - Launching job 0 with slurm file: /tmp/belkhale/job[sqeval_lpn0_01]kuwvv9vv.sh\n"
     ]
    },
    {
     "name": "stdout",
     "output_type": "stream",
     "text": [
      "Submitted batch job 6094254\n"
     ]
    },
    {
     "name": "stderr",
     "output_type": "stream",
     "text": [
      "2023-05-13 19:44:22.413 | DEBUG    | __main__:<module>:161 - Launching job 0 with slurm file: /tmp/belkhale/job[sqeval_lpn0_02]i1jd1dwt.sh\n"
     ]
    },
    {
     "name": "stdout",
     "output_type": "stream",
     "text": [
      "Submitted batch job 6094255\n"
     ]
    },
    {
     "name": "stderr",
     "output_type": "stream",
     "text": [
      "2023-05-13 19:44:23.962 | DEBUG    | __main__:<module>:161 - Launching job 0 with slurm file: /tmp/belkhale/job[sqeval_lpn0_005-first100]m1x152k_.sh\n"
     ]
    },
    {
     "name": "stdout",
     "output_type": "stream",
     "text": [
      "Submitted batch job 6094256\n"
     ]
    },
    {
     "name": "stderr",
     "output_type": "stream",
     "text": [
      "2023-05-13 19:44:25.423 | DEBUG    | __main__:<module>:161 - Launching job 0 with slurm file: /tmp/belkhale/job[sqeval_lpn0_01-first100]zjal14ab.sh\n"
     ]
    },
    {
     "name": "stdout",
     "output_type": "stream",
     "text": [
      "Submitted batch job 6094257\n"
     ]
    },
    {
     "name": "stderr",
     "output_type": "stream",
     "text": [
      "2023-05-13 19:44:26.863 | DEBUG    | __main__:<module>:161 - Launching job 0 with slurm file: /tmp/belkhale/job[sqeval_lpn0_02-first100]9154da3g.sh\n"
     ]
    },
    {
     "name": "stdout",
     "output_type": "stream",
     "text": [
      "Submitted batch job 6094258\n"
     ]
    }
   ],
   "source": [
    "print_success(noise_type='p', data_seed=\"_s2\", noise_values=[0.005, 0.01, 0.02], run_cmd=True, run_compute=False)"
   ]
  },
  {
   "cell_type": "code",
   "execution_count": 28,
   "metadata": {},
   "outputs": [
    {
     "name": "stdout",
     "output_type": "stream",
     "text": [
      "suff=''...\n",
      "$55.7(5.3)$ & $50.0(5.4)$ & $27.0(3.9)$\\\\ \n",
      "$69.7(5.5)$ & $69.0(3.7)$ & $57.3(6.0)$\\\\ \n",
      "$67.7(9.6)$ & $68.7(12.6)$ & $82.0(3.4)$\\\\ \n",
      "\n",
      "------------------------------\n",
      "suff='-first100'...\n",
      "$65.7(5.0)$ & $53.0(5.3)$ & $36.3(4.3)$\\\\ \n",
      "$70.0(2.6)$ & $67.7(6.1)$ & $57.3(6.6)$\\\\ \n",
      "$80.3(3.3)$ & $87.3(1.2)$ & $85.3(4.7)$\\\\ \n",
      "\n",
      "------------------------------\n",
      "suff=''...\n",
      "$69.0(3.7)$ & $59.0(3.7)$ & $34.0(1.7)$\\\\ \n",
      "$80.7(3.7)$ & $78.0(4.2)$ & $57.7(2.4)$\\\\ \n",
      "$62.3(7.8)$ & $71.7(6.1)$ & $73.0(3.9)$\\\\ \n",
      "\n",
      "------------------------------\n",
      "suff='-first100'...\n",
      "$66.3(7.0)$ & $61.7(5.4)$ & $37.0(1.7)$\\\\ \n",
      "$89.0(4.1)$ & $86.0(6.5)$ & $69.0(6.5)$\\\\ \n",
      "$66.7(3.1)$ & $69.7(5.5)$ & $66.7(8.0)$\\\\ \n",
      "\n",
      "------------------------------\n"
     ]
    }
   ],
   "source": [
    "# TODO\n",
    "print_success(noise_type='s', data_seed=[\"\", \"_s1\", \"_s2\"], run_cmd=False, run_compute=True)\n",
    "\n",
    "print_success(noise_type='p', data_seed=[\"\", \"_s1\", \"_s2\"], noise_values=[0.005, 0.01, 0.02], run_cmd=False, run_compute=True)\n",
    "\n"
   ]
  },
  {
   "cell_type": "code",
   "execution_count": 7,
   "metadata": {},
   "outputs": [
    {
     "name": "stderr",
     "output_type": "stream",
     "text": [
      "2023-05-15 18:35:50.666 | DEBUG    | __main__:<module>:161 - Launching job 0 with slurm file: /tmp/belkhale/job[sqeval_lsn0_3]sci_sz2k.sh\n"
     ]
    },
    {
     "name": "stdout",
     "output_type": "stream",
     "text": [
      "Submitted batch job 6098923\n"
     ]
    },
    {
     "name": "stderr",
     "output_type": "stream",
     "text": [
      "2023-05-15 18:35:51.984 | DEBUG    | __main__:<module>:161 - Launching job 0 with slurm file: /tmp/belkhale/job[sqeval_lsn0_4]5iev85_d.sh\n"
     ]
    },
    {
     "name": "stdout",
     "output_type": "stream",
     "text": [
      "Submitted batch job 6098924\n"
     ]
    },
    {
     "name": "stderr",
     "output_type": "stream",
     "text": [
      "2023-05-15 18:35:53.308 | DEBUG    | __main__:<module>:161 - Launching job 0 with slurm file: /tmp/belkhale/job[sqeval_lsn0_3-first100]wyv9xyc1.sh\n"
     ]
    },
    {
     "name": "stdout",
     "output_type": "stream",
     "text": [
      "Submitted batch job 6098925\n"
     ]
    },
    {
     "name": "stderr",
     "output_type": "stream",
     "text": [
      "2023-05-15 18:35:54.741 | DEBUG    | __main__:<module>:161 - Launching job 0 with slurm file: /tmp/belkhale/job[sqeval_lsn0_4-first100]df4mfcs4.sh\n"
     ]
    },
    {
     "name": "stdout",
     "output_type": "stream",
     "text": [
      "Submitted batch job 6098926\n"
     ]
    },
    {
     "name": "stderr",
     "output_type": "stream",
     "text": [
      "2023-05-15 18:35:56.281 | DEBUG    | __main__:<module>:161 - Launching job 0 with slurm file: /tmp/belkhale/job[sqeval_lsn0_3-first50]2j9xnv2m.sh\n"
     ]
    },
    {
     "name": "stdout",
     "output_type": "stream",
     "text": [
      "Submitted batch job 6098927\n"
     ]
    },
    {
     "name": "stderr",
     "output_type": "stream",
     "text": [
      "2023-05-15 18:35:57.583 | DEBUG    | __main__:<module>:161 - Launching job 0 with slurm file: /tmp/belkhale/job[sqeval_lsn0_4-first50]lh0qik_1.sh\n"
     ]
    },
    {
     "name": "stdout",
     "output_type": "stream",
     "text": [
      "Submitted batch job 6098928\n"
     ]
    },
    {
     "name": "stderr",
     "output_type": "stream",
     "text": [
      "2023-05-15 18:35:58.886 | DEBUG    | __main__:<module>:161 - Launching job 0 with slurm file: /tmp/belkhale/job[sqeval_lsn0_3-first10]rf90tog2.sh\n"
     ]
    },
    {
     "name": "stdout",
     "output_type": "stream",
     "text": [
      "Submitted batch job 6098929\n"
     ]
    },
    {
     "name": "stderr",
     "output_type": "stream",
     "text": [
      "2023-05-15 18:36:00.195 | DEBUG    | __main__:<module>:161 - Launching job 0 with slurm file: /tmp/belkhale/job[sqeval_lsn0_4-first10]pw0i6yvv.sh\n"
     ]
    },
    {
     "name": "stdout",
     "output_type": "stream",
     "text": [
      "Submitted batch job 6098930\n"
     ]
    },
    {
     "name": "stderr",
     "output_type": "stream",
     "text": [
      "2023-05-15 18:36:01.878 | DEBUG    | __main__:<module>:161 - Launching job 0 with slurm file: /tmp/belkhale/job[sqeval_lsn0_3]gmzu8hx2.sh\n"
     ]
    },
    {
     "name": "stdout",
     "output_type": "stream",
     "text": [
      "Submitted batch job 6098931\n"
     ]
    },
    {
     "name": "stderr",
     "output_type": "stream",
     "text": [
      "2023-05-15 18:36:03.189 | DEBUG    | __main__:<module>:161 - Launching job 0 with slurm file: /tmp/belkhale/job[sqeval_lsn0_4]ewfwiei0.sh\n"
     ]
    },
    {
     "name": "stdout",
     "output_type": "stream",
     "text": [
      "Submitted batch job 6098932\n"
     ]
    },
    {
     "name": "stderr",
     "output_type": "stream",
     "text": [
      "2023-05-15 18:36:04.547 | DEBUG    | __main__:<module>:161 - Launching job 0 with slurm file: /tmp/belkhale/job[sqeval_lsn0_3-first100]tbdjowl_.sh\n"
     ]
    },
    {
     "name": "stdout",
     "output_type": "stream",
     "text": [
      "Submitted batch job 6098933\n"
     ]
    },
    {
     "name": "stderr",
     "output_type": "stream",
     "text": [
      "2023-05-15 18:36:05.853 | DEBUG    | __main__:<module>:161 - Launching job 0 with slurm file: /tmp/belkhale/job[sqeval_lsn0_4-first100]l942iu1p.sh\n"
     ]
    },
    {
     "name": "stdout",
     "output_type": "stream",
     "text": [
      "Submitted batch job 6098934\n"
     ]
    },
    {
     "name": "stderr",
     "output_type": "stream",
     "text": [
      "2023-05-15 18:36:07.430 | DEBUG    | __main__:<module>:161 - Launching job 0 with slurm file: /tmp/belkhale/job[sqeval_lsn0_3-first50]cs96ah_b.sh\n"
     ]
    },
    {
     "name": "stdout",
     "output_type": "stream",
     "text": [
      "Submitted batch job 6098935\n"
     ]
    },
    {
     "name": "stderr",
     "output_type": "stream",
     "text": [
      "2023-05-15 18:36:08.826 | DEBUG    | __main__:<module>:161 - Launching job 0 with slurm file: /tmp/belkhale/job[sqeval_lsn0_4-first50]5o4afzj7.sh\n"
     ]
    },
    {
     "name": "stdout",
     "output_type": "stream",
     "text": [
      "Submitted batch job 6098936\n"
     ]
    },
    {
     "name": "stderr",
     "output_type": "stream",
     "text": [
      "2023-05-15 18:36:10.158 | DEBUG    | __main__:<module>:161 - Launching job 0 with slurm file: /tmp/belkhale/job[sqeval_lsn0_3-first10]spw_9045.sh\n"
     ]
    },
    {
     "name": "stdout",
     "output_type": "stream",
     "text": [
      "Submitted batch job 6098937\n"
     ]
    },
    {
     "name": "stderr",
     "output_type": "stream",
     "text": [
      "2023-05-15 18:36:11.486 | DEBUG    | __main__:<module>:161 - Launching job 0 with slurm file: /tmp/belkhale/job[sqeval_lsn0_4-first10]5vete8qs.sh\n"
     ]
    },
    {
     "name": "stdout",
     "output_type": "stream",
     "text": [
      "Submitted batch job 6098938\n"
     ]
    },
    {
     "name": "stderr",
     "output_type": "stream",
     "text": [
      "2023-05-15 18:36:12.927 | DEBUG    | __main__:<module>:161 - Launching job 0 with slurm file: /tmp/belkhale/job[sqeval_lsn0_3]984j762e.sh\n"
     ]
    },
    {
     "name": "stdout",
     "output_type": "stream",
     "text": [
      "Submitted batch job 6098939\n"
     ]
    },
    {
     "name": "stderr",
     "output_type": "stream",
     "text": [
      "2023-05-15 18:36:14.494 | DEBUG    | __main__:<module>:161 - Launching job 0 with slurm file: /tmp/belkhale/job[sqeval_lsn0_4]7usvt8lm.sh\n"
     ]
    },
    {
     "name": "stdout",
     "output_type": "stream",
     "text": [
      "Submitted batch job 6098940\n"
     ]
    },
    {
     "name": "stderr",
     "output_type": "stream",
     "text": [
      "2023-05-15 18:36:15.817 | DEBUG    | __main__:<module>:161 - Launching job 0 with slurm file: /tmp/belkhale/job[sqeval_lsn0_3-first100]rnai44py.sh\n"
     ]
    },
    {
     "name": "stdout",
     "output_type": "stream",
     "text": [
      "Submitted batch job 6098941\n"
     ]
    },
    {
     "name": "stderr",
     "output_type": "stream",
     "text": [
      "2023-05-15 18:36:17.155 | DEBUG    | __main__:<module>:161 - Launching job 0 with slurm file: /tmp/belkhale/job[sqeval_lsn0_4-first100]tcut3qvm.sh\n"
     ]
    },
    {
     "name": "stdout",
     "output_type": "stream",
     "text": [
      "Submitted batch job 6098942\n"
     ]
    },
    {
     "name": "stderr",
     "output_type": "stream",
     "text": [
      "2023-05-15 18:36:18.465 | DEBUG    | __main__:<module>:161 - Launching job 0 with slurm file: /tmp/belkhale/job[sqeval_lsn0_3-first50]bowfahib.sh\n"
     ]
    },
    {
     "name": "stdout",
     "output_type": "stream",
     "text": [
      "Submitted batch job 6098943\n"
     ]
    },
    {
     "name": "stderr",
     "output_type": "stream",
     "text": [
      "2023-05-15 18:36:20.153 | DEBUG    | __main__:<module>:161 - Launching job 0 with slurm file: /tmp/belkhale/job[sqeval_lsn0_4-first50]ubj232hz.sh\n"
     ]
    },
    {
     "name": "stdout",
     "output_type": "stream",
     "text": [
      "Submitted batch job 6098944\n"
     ]
    },
    {
     "name": "stderr",
     "output_type": "stream",
     "text": [
      "2023-05-15 18:36:21.475 | DEBUG    | __main__:<module>:161 - Launching job 0 with slurm file: /tmp/belkhale/job[sqeval_lsn0_3-first10]93nkzrek.sh\n"
     ]
    },
    {
     "name": "stdout",
     "output_type": "stream",
     "text": [
      "Submitted batch job 6098945\n"
     ]
    },
    {
     "name": "stderr",
     "output_type": "stream",
     "text": [
      "2023-05-15 18:36:22.806 | DEBUG    | __main__:<module>:161 - Launching job 0 with slurm file: /tmp/belkhale/job[sqeval_lsn0_4-first10]07isu3jw.sh\n"
     ]
    },
    {
     "name": "stdout",
     "output_type": "stream",
     "text": [
      "Submitted batch job 6098946\n"
     ]
    }
   ],
   "source": [
    "# TODO new noises\n",
    "print_success(noise_type='s', data_seed=\"\", noise_values=[0.3,0.4], s_noises=[0.05,0.1,0.2,0.3,0.4],batch_sizes = [256, 256, 256, 256],\n",
    "                  dset_suffs = ['', '-first100', '-first50', '-first10'], run_cmd=True, run_compute=False)\n",
    "print_success(noise_type='s', data_seed=\"_s1\", noise_values=[0.3,0.4], s_noises=[0.05,0.1,0.2,0.3,0.4],batch_sizes = [256, 256, 256, 256],\n",
    "                  dset_suffs = ['', '-first100', '-first50', '-first10'], run_cmd=True, run_compute=False)\n",
    "print_success(noise_type='s', data_seed=\"_s2\", noise_values=[0.3,0.4], s_noises=[0.05,0.1,0.2,0.3,0.4],batch_sizes = [256, 256, 256, 256],\n",
    "                  dset_suffs = ['', '-first100', '-first50', '-first10'], run_cmd=True, run_compute=False)\n",
    "\n"
   ]
  },
  {
   "cell_type": "code",
   "execution_count": 9,
   "metadata": {},
   "outputs": [
    {
     "name": "stdout",
     "output_type": "stream",
     "text": [
      "suff=''...\n",
      "$47.0(4.9)$ & $53.3(5.9)$ & $54.3(3.0)$ & $50.7(4.3)$ & $38.7(7.3)$\\\\ \n",
      "$31.3(5.0)$ & $37.7(8.2)$ & $48.3(9.7)$ & $49.0(8.7)$ & $44.0(5.3)$\\\\ \n",
      "\n",
      "------------------------------\n",
      "suff='-first100'...\n",
      "$48.3(11.6)$ & $52.0(13.3)$ & $58.0(12.9)$ & $54.0(11.6)$ & $48.7(11.4)$\\\\ \n",
      "$24.7(6.3)$ & $36.7(1.9)$ & $48.0(3.6)$ & $58.3(2.6)$ & $53.0(4.2)$\\\\ \n",
      "\n",
      "------------------------------\n",
      "suff='-first50'...\n",
      "$50.3(5.0)$ & $56.0(8.0)$ & $61.0(6.8)$ & $58.3(6.7)$ & $49.7(1.5)$\\\\ \n",
      "$26.7(6.9)$ & $30.7(9.7)$ & $48.7(8.8)$ & $55.3(10.4)$ & $57.7(9.1)$\\\\ \n",
      "\n",
      "------------------------------\n",
      "suff='-first10'...\n",
      "$44.0(4.2)$ & $51.3(5.2)$ & $56.0(9.8)$ & $62.7(6.3)$ & $56.0(3.3)$\\\\ \n",
      "$28.0(8.0)$ & $36.0(7.5)$ & $44.0(5.1)$ & $45.3(4.1)$ & $45.0(8.4)$\\\\ \n",
      "\n",
      "------------------------------\n"
     ]
    }
   ],
   "source": [
    "print_success(noise_type='s', data_seed=[\"\",\"_s1\",\"_s2\"], noise_values=[0.3,0.4], s_noises=[0.05,0.1,0.2,0.3,0.4],batch_sizes = [256, 256, 256, 256],\n",
    "                  dset_suffs = ['', '-first100', '-first50', '-first10'], run_cmd=False, run_compute=True)\n"
   ]
  },
  {
   "cell_type": "code",
   "execution_count": 10,
   "metadata": {
    "collapsed": true
   },
   "outputs": [
    {
     "name": "stderr",
     "output_type": "stream",
     "text": [
      "2023-05-15 21:39:41.214 | DEBUG    | __main__:<module>:161 - Launching job 0 with slurm file: /tmp/belkhale/job[sqeval_lsn0_05-first50]4z3h1jmk.sh\n"
     ]
    },
    {
     "name": "stdout",
     "output_type": "stream",
     "text": [
      "Submitted batch job 6099255\n"
     ]
    },
    {
     "name": "stderr",
     "output_type": "stream",
     "text": [
      "2023-05-15 21:39:42.360 | DEBUG    | __main__:<module>:161 - Launching job 0 with slurm file: /tmp/belkhale/job[sqeval_lsn0_1-first50]cjbluya2.sh\n"
     ]
    },
    {
     "name": "stdout",
     "output_type": "stream",
     "text": [
      "Submitted batch job 6099256\n"
     ]
    },
    {
     "name": "stderr",
     "output_type": "stream",
     "text": [
      "2023-05-15 21:39:43.516 | DEBUG    | __main__:<module>:161 - Launching job 0 with slurm file: /tmp/belkhale/job[sqeval_lsn0_2-first50]3htgyl85.sh\n"
     ]
    },
    {
     "name": "stdout",
     "output_type": "stream",
     "text": [
      "Submitted batch job 6099257\n"
     ]
    },
    {
     "name": "stderr",
     "output_type": "stream",
     "text": [
      "2023-05-15 21:39:44.661 | DEBUG    | __main__:<module>:161 - Launching job 0 with slurm file: /tmp/belkhale/job[sqeval_lsn0_05-first10]mr_w31et.sh\n"
     ]
    },
    {
     "name": "stdout",
     "output_type": "stream",
     "text": [
      "Submitted batch job 6099258\n"
     ]
    },
    {
     "name": "stderr",
     "output_type": "stream",
     "text": [
      "2023-05-15 21:39:45.802 | DEBUG    | __main__:<module>:161 - Launching job 0 with slurm file: /tmp/belkhale/job[sqeval_lsn0_1-first10]g48c_33s.sh\n"
     ]
    },
    {
     "name": "stdout",
     "output_type": "stream",
     "text": [
      "Submitted batch job 6099259\n"
     ]
    },
    {
     "name": "stderr",
     "output_type": "stream",
     "text": [
      "2023-05-15 21:39:46.960 | DEBUG    | __main__:<module>:161 - Launching job 0 with slurm file: /tmp/belkhale/job[sqeval_lsn0_2-first10]1_b125x4.sh\n"
     ]
    },
    {
     "name": "stdout",
     "output_type": "stream",
     "text": [
      "Submitted batch job 6099260\n"
     ]
    }
   ],
   "source": [
    "# TODO new suffixes for the existing stuff\n",
    "print_success(noise_type='s', data_seed=\"\", s_noises=[0.05,0.1,0.2,0.3,0.4], batch_sizes = [256, 256],\n",
    "                  dset_suffs = ['-first50', '-first10'], run_cmd=True, run_compute=False)"
   ]
  },
  {
   "cell_type": "code",
   "execution_count": 11,
   "metadata": {
    "collapsed": true
   },
   "outputs": [
    {
     "name": "stderr",
     "output_type": "stream",
     "text": [
      "2023-05-15 21:40:19.585 | DEBUG    | __main__:<module>:161 - Launching job 0 with slurm file: /tmp/belkhale/job[sqeval_lsn0_05-first50]qc21odwm.sh\n"
     ]
    },
    {
     "name": "stdout",
     "output_type": "stream",
     "text": [
      "Submitted batch job 6099261\n"
     ]
    },
    {
     "name": "stderr",
     "output_type": "stream",
     "text": [
      "2023-05-15 21:40:20.682 | DEBUG    | __main__:<module>:161 - Launching job 0 with slurm file: /tmp/belkhale/job[sqeval_lsn0_1-first50]rj0p45f5.sh\n"
     ]
    },
    {
     "name": "stdout",
     "output_type": "stream",
     "text": [
      "Submitted batch job 6099262\n"
     ]
    },
    {
     "name": "stderr",
     "output_type": "stream",
     "text": [
      "2023-05-15 21:40:21.780 | DEBUG    | __main__:<module>:161 - Launching job 0 with slurm file: /tmp/belkhale/job[sqeval_lsn0_2-first50]5honhrs7.sh\n"
     ]
    },
    {
     "name": "stdout",
     "output_type": "stream",
     "text": [
      "Submitted batch job 6099263\n"
     ]
    },
    {
     "name": "stderr",
     "output_type": "stream",
     "text": [
      "2023-05-15 21:40:22.882 | DEBUG    | __main__:<module>:161 - Launching job 0 with slurm file: /tmp/belkhale/job[sqeval_lsn0_05-first10]w9u2ew99.sh\n"
     ]
    },
    {
     "name": "stdout",
     "output_type": "stream",
     "text": [
      "Submitted batch job 6099264\n"
     ]
    },
    {
     "name": "stderr",
     "output_type": "stream",
     "text": [
      "2023-05-15 21:40:23.958 | DEBUG    | __main__:<module>:161 - Launching job 0 with slurm file: /tmp/belkhale/job[sqeval_lsn0_1-first10]fp7tm7_f.sh\n"
     ]
    },
    {
     "name": "stdout",
     "output_type": "stream",
     "text": [
      "Submitted batch job 6099265\n"
     ]
    },
    {
     "name": "stderr",
     "output_type": "stream",
     "text": [
      "2023-05-15 21:40:25.061 | DEBUG    | __main__:<module>:161 - Launching job 0 with slurm file: /tmp/belkhale/job[sqeval_lsn0_2-first10]ningk39k.sh\n"
     ]
    },
    {
     "name": "stdout",
     "output_type": "stream",
     "text": [
      "Submitted batch job 6099266\n"
     ]
    },
    {
     "name": "stderr",
     "output_type": "stream",
     "text": [
      "2023-05-15 21:40:26.224 | DEBUG    | __main__:<module>:161 - Launching job 0 with slurm file: /tmp/belkhale/job[sqeval_lsn0_05-first50]hwo1k4_0.sh\n"
     ]
    },
    {
     "name": "stdout",
     "output_type": "stream",
     "text": [
      "Submitted batch job 6099267\n"
     ]
    },
    {
     "name": "stderr",
     "output_type": "stream",
     "text": [
      "2023-05-15 21:40:27.418 | DEBUG    | __main__:<module>:161 - Launching job 0 with slurm file: /tmp/belkhale/job[sqeval_lsn0_1-first50]fn5odsuu.sh\n"
     ]
    },
    {
     "name": "stdout",
     "output_type": "stream",
     "text": [
      "Submitted batch job 6099268\n"
     ]
    },
    {
     "name": "stderr",
     "output_type": "stream",
     "text": [
      "2023-05-15 21:40:28.596 | DEBUG    | __main__:<module>:161 - Launching job 0 with slurm file: /tmp/belkhale/job[sqeval_lsn0_2-first50]pjr0u95q.sh\n"
     ]
    },
    {
     "name": "stdout",
     "output_type": "stream",
     "text": [
      "Submitted batch job 6099269\n"
     ]
    },
    {
     "name": "stderr",
     "output_type": "stream",
     "text": [
      "2023-05-15 21:40:29.775 | DEBUG    | __main__:<module>:161 - Launching job 0 with slurm file: /tmp/belkhale/job[sqeval_lsn0_05-first10]_6d5b1f6.sh\n"
     ]
    },
    {
     "name": "stdout",
     "output_type": "stream",
     "text": [
      "Submitted batch job 6099270\n"
     ]
    },
    {
     "name": "stderr",
     "output_type": "stream",
     "text": [
      "2023-05-15 21:40:30.966 | DEBUG    | __main__:<module>:161 - Launching job 0 with slurm file: /tmp/belkhale/job[sqeval_lsn0_1-first10]gfl27ued.sh\n"
     ]
    },
    {
     "name": "stdout",
     "output_type": "stream",
     "text": [
      "Submitted batch job 6099271\n"
     ]
    },
    {
     "name": "stderr",
     "output_type": "stream",
     "text": [
      "2023-05-15 21:40:32.171 | DEBUG    | __main__:<module>:161 - Launching job 0 with slurm file: /tmp/belkhale/job[sqeval_lsn0_2-first10]cxhd9o4d.sh\n"
     ]
    },
    {
     "name": "stdout",
     "output_type": "stream",
     "text": [
      "Submitted batch job 6099272\n"
     ]
    }
   ],
   "source": [
    "# TODO new suffixes for the existing stuff\n",
    "print_success(noise_type='s', data_seed=\"_s1\", s_noises=[0.05,0.1,0.2,0.3,0.4], batch_sizes = [256, 256],\n",
    "                  dset_suffs = ['-first50', '-first10'], run_cmd=True, run_compute=False)\n",
    "# TODO new suffixes for the existing stuff\n",
    "print_success(noise_type='s', data_seed=\"_s2\", s_noises=[0.05,0.1,0.2,0.3,0.4], batch_sizes = [256, 256],\n",
    "                  dset_suffs = ['-first50', '-first10'], run_cmd=True, run_compute=False)"
   ]
  },
  {
   "cell_type": "code",
   "execution_count": 13,
   "metadata": {
    "collapsed": true
   },
   "outputs": [
    {
     "name": "stderr",
     "output_type": "stream",
     "text": [
      "2023-05-15 21:42:39.241 | DEBUG    | __main__:<module>:161 - Launching job 0 with slurm file: /tmp/belkhale/job[sqeval_lsn0_05]4i05nisk.sh\n"
     ]
    },
    {
     "name": "stdout",
     "output_type": "stream",
     "text": [
      "Submitted batch job 6099288\n"
     ]
    },
    {
     "name": "stderr",
     "output_type": "stream",
     "text": [
      "2023-05-15 21:42:40.514 | DEBUG    | __main__:<module>:161 - Launching job 0 with slurm file: /tmp/belkhale/job[sqeval_lsn0_1]hixvg4eb.sh\n"
     ]
    },
    {
     "name": "stdout",
     "output_type": "stream",
     "text": [
      "Submitted batch job 6099289\n"
     ]
    },
    {
     "name": "stderr",
     "output_type": "stream",
     "text": [
      "2023-05-15 21:42:41.766 | DEBUG    | __main__:<module>:161 - Launching job 0 with slurm file: /tmp/belkhale/job[sqeval_lsn0_2]92e7by69.sh\n"
     ]
    },
    {
     "name": "stdout",
     "output_type": "stream",
     "text": [
      "Submitted batch job 6099290\n"
     ]
    },
    {
     "name": "stderr",
     "output_type": "stream",
     "text": [
      "2023-05-15 21:42:43.001 | DEBUG    | __main__:<module>:161 - Launching job 0 with slurm file: /tmp/belkhale/job[sqeval_lsn0_05-first100]921ep73j.sh\n"
     ]
    },
    {
     "name": "stdout",
     "output_type": "stream",
     "text": [
      "Submitted batch job 6099291\n"
     ]
    },
    {
     "name": "stderr",
     "output_type": "stream",
     "text": [
      "2023-05-15 21:42:44.244 | DEBUG    | __main__:<module>:161 - Launching job 0 with slurm file: /tmp/belkhale/job[sqeval_lsn0_1-first100]vx07w7_n.sh\n"
     ]
    },
    {
     "name": "stdout",
     "output_type": "stream",
     "text": [
      "Submitted batch job 6099292\n"
     ]
    },
    {
     "name": "stderr",
     "output_type": "stream",
     "text": [
      "2023-05-15 21:42:45.497 | DEBUG    | __main__:<module>:161 - Launching job 0 with slurm file: /tmp/belkhale/job[sqeval_lsn0_2-first100]i2jd7rdx.sh\n"
     ]
    },
    {
     "name": "stdout",
     "output_type": "stream",
     "text": [
      "Submitted batch job 6099293\n"
     ]
    }
   ],
   "source": [
    "# TODO new suffixes for the existing stuff\n",
    "print_success(noise_type='s', data_seed=\"\", s_noises=[0.3,0.4], batch_sizes = [256, 256],\n",
    "                  dset_suffs = ['', '-first100'], run_cmd=True, run_compute=False)"
   ]
  },
  {
   "cell_type": "code",
   "execution_count": 12,
   "metadata": {
    "collapsed": true
   },
   "outputs": [
    {
     "name": "stderr",
     "output_type": "stream",
     "text": [
      "2023-05-15 21:42:07.867 | DEBUG    | __main__:<module>:161 - Launching job 0 with slurm file: /tmp/belkhale/job[sqeval_lsn0_05]6u8ytg_1.sh\n"
     ]
    },
    {
     "name": "stdout",
     "output_type": "stream",
     "text": [
      "Submitted batch job 6099274\n"
     ]
    },
    {
     "name": "stderr",
     "output_type": "stream",
     "text": [
      "2023-05-15 21:42:09.086 | DEBUG    | __main__:<module>:161 - Launching job 0 with slurm file: /tmp/belkhale/job[sqeval_lsn0_1]hg6rdcka.sh\n"
     ]
    },
    {
     "name": "stdout",
     "output_type": "stream",
     "text": [
      "Submitted batch job 6099275\n"
     ]
    },
    {
     "name": "stderr",
     "output_type": "stream",
     "text": [
      "2023-05-15 21:42:10.341 | DEBUG    | __main__:<module>:161 - Launching job 0 with slurm file: /tmp/belkhale/job[sqeval_lsn0_2]nsnryw7a.sh\n"
     ]
    },
    {
     "name": "stdout",
     "output_type": "stream",
     "text": [
      "Submitted batch job 6099276\n"
     ]
    },
    {
     "name": "stderr",
     "output_type": "stream",
     "text": [
      "2023-05-15 21:42:11.602 | DEBUG    | __main__:<module>:161 - Launching job 0 with slurm file: /tmp/belkhale/job[sqeval_lsn0_05-first100]d70forhy.sh\n"
     ]
    },
    {
     "name": "stdout",
     "output_type": "stream",
     "text": [
      "Submitted batch job 6099277\n"
     ]
    },
    {
     "name": "stderr",
     "output_type": "stream",
     "text": [
      "2023-05-15 21:42:12.855 | DEBUG    | __main__:<module>:161 - Launching job 0 with slurm file: /tmp/belkhale/job[sqeval_lsn0_1-first100]53ah8092.sh\n"
     ]
    },
    {
     "name": "stdout",
     "output_type": "stream",
     "text": [
      "Submitted batch job 6099279\n"
     ]
    },
    {
     "name": "stderr",
     "output_type": "stream",
     "text": [
      "2023-05-15 21:42:14.125 | DEBUG    | __main__:<module>:161 - Launching job 0 with slurm file: /tmp/belkhale/job[sqeval_lsn0_2-first100]shc3rnj6.sh\n"
     ]
    },
    {
     "name": "stdout",
     "output_type": "stream",
     "text": [
      "Submitted batch job 6099280\n"
     ]
    },
    {
     "name": "stderr",
     "output_type": "stream",
     "text": [
      "2023-05-15 21:42:15.420 | DEBUG    | __main__:<module>:161 - Launching job 0 with slurm file: /tmp/belkhale/job[sqeval_lsn0_05]fp74qsas.sh\n"
     ]
    },
    {
     "name": "stdout",
     "output_type": "stream",
     "text": [
      "Submitted batch job 6099281\n"
     ]
    },
    {
     "name": "stderr",
     "output_type": "stream",
     "text": [
      "2023-05-15 21:42:16.720 | DEBUG    | __main__:<module>:161 - Launching job 0 with slurm file: /tmp/belkhale/job[sqeval_lsn0_1]np84d7bg.sh\n"
     ]
    },
    {
     "name": "stdout",
     "output_type": "stream",
     "text": [
      "Submitted batch job 6099282\n"
     ]
    },
    {
     "name": "stderr",
     "output_type": "stream",
     "text": [
      "2023-05-15 21:42:18.011 | DEBUG    | __main__:<module>:161 - Launching job 0 with slurm file: /tmp/belkhale/job[sqeval_lsn0_2]r7ka_4sy.sh\n"
     ]
    },
    {
     "name": "stdout",
     "output_type": "stream",
     "text": [
      "Submitted batch job 6099283\n"
     ]
    },
    {
     "name": "stderr",
     "output_type": "stream",
     "text": [
      "2023-05-15 21:42:19.278 | DEBUG    | __main__:<module>:161 - Launching job 0 with slurm file: /tmp/belkhale/job[sqeval_lsn0_05-first100]hiitzeo4.sh\n"
     ]
    },
    {
     "name": "stdout",
     "output_type": "stream",
     "text": [
      "Submitted batch job 6099284\n"
     ]
    },
    {
     "name": "stderr",
     "output_type": "stream",
     "text": [
      "2023-05-15 21:42:20.556 | DEBUG    | __main__:<module>:161 - Launching job 0 with slurm file: /tmp/belkhale/job[sqeval_lsn0_1-first100]w0f4s3g5.sh\n"
     ]
    },
    {
     "name": "stdout",
     "output_type": "stream",
     "text": [
      "Submitted batch job 6099285\n"
     ]
    },
    {
     "name": "stderr",
     "output_type": "stream",
     "text": [
      "2023-05-15 21:42:21.836 | DEBUG    | __main__:<module>:161 - Launching job 0 with slurm file: /tmp/belkhale/job[sqeval_lsn0_2-first100]692m05hq.sh\n"
     ]
    },
    {
     "name": "stdout",
     "output_type": "stream",
     "text": [
      "Submitted batch job 6099286\n"
     ]
    }
   ],
   "source": [
    "# TODO new suffixes for the existing stuff\n",
    "print_success(noise_type='s', data_seed=\"_s1\", s_noises=[0.3,0.4], batch_sizes = [256, 256],\n",
    "                  dset_suffs = ['', '-first100'], run_cmd=True, run_compute=False)\n",
    "# TODO new suffixes for the existing stuff\n",
    "print_success(noise_type='s', data_seed=\"_s2\", s_noises=[0.3,0.4], batch_sizes = [256, 256],\n",
    "                  dset_suffs = ['', '-first100'], run_cmd=True, run_compute=False)"
   ]
  },
  {
   "cell_type": "code",
   "execution_count": 16,
   "metadata": {
    "collapsed": true
   },
   "outputs": [
    {
     "name": "stderr",
     "output_type": "stream",
     "text": [
      "2023-05-16 12:49:24.405 | DEBUG    | __main__:<module>:161 - Launching job 0 with slurm file: /tmp/belkhale/job[sqeval_lpn0_005]9n8qis0v.sh\n"
     ]
    },
    {
     "name": "stdout",
     "output_type": "stream",
     "text": [
      "Submitted batch job 6100855\n"
     ]
    },
    {
     "name": "stderr",
     "output_type": "stream",
     "text": [
      "2023-05-16 12:49:25.532 | DEBUG    | __main__:<module>:161 - Launching job 0 with slurm file: /tmp/belkhale/job[sqeval_lpn0_01]f1n4r8mu.sh\n"
     ]
    },
    {
     "name": "stdout",
     "output_type": "stream",
     "text": [
      "Submitted batch job 6100856\n"
     ]
    },
    {
     "name": "stderr",
     "output_type": "stream",
     "text": [
      "2023-05-16 12:49:26.682 | DEBUG    | __main__:<module>:161 - Launching job 0 with slurm file: /tmp/belkhale/job[sqeval_lpn0_02]vj_blrd6.sh\n"
     ]
    },
    {
     "name": "stdout",
     "output_type": "stream",
     "text": [
      "Submitted batch job 6100857\n"
     ]
    },
    {
     "name": "stderr",
     "output_type": "stream",
     "text": [
      "2023-05-16 12:49:27.795 | DEBUG    | __main__:<module>:161 - Launching job 0 with slurm file: /tmp/belkhale/job[sqeval_lpn0_005-first100]0th94bqh.sh\n"
     ]
    },
    {
     "name": "stdout",
     "output_type": "stream",
     "text": [
      "Submitted batch job 6100858\n"
     ]
    },
    {
     "name": "stderr",
     "output_type": "stream",
     "text": [
      "2023-05-16 12:49:28.922 | DEBUG    | __main__:<module>:161 - Launching job 0 with slurm file: /tmp/belkhale/job[sqeval_lpn0_01-first100]a_9qehdr.sh\n"
     ]
    },
    {
     "name": "stdout",
     "output_type": "stream",
     "text": [
      "Submitted batch job 6100859\n"
     ]
    },
    {
     "name": "stderr",
     "output_type": "stream",
     "text": [
      "2023-05-16 12:49:30.021 | DEBUG    | __main__:<module>:161 - Launching job 0 with slurm file: /tmp/belkhale/job[sqeval_lpn0_02-first100]n2w29nnn.sh\n"
     ]
    },
    {
     "name": "stdout",
     "output_type": "stream",
     "text": [
      "Submitted batch job 6100860\n"
     ]
    },
    {
     "name": "stderr",
     "output_type": "stream",
     "text": [
      "2023-05-16 12:49:31.127 | DEBUG    | __main__:<module>:161 - Launching job 0 with slurm file: /tmp/belkhale/job[sqeval_lpn0_005]r61rhooh.sh\n"
     ]
    },
    {
     "name": "stdout",
     "output_type": "stream",
     "text": [
      "Submitted batch job 6100861\n"
     ]
    },
    {
     "name": "stderr",
     "output_type": "stream",
     "text": [
      "2023-05-16 12:49:32.281 | DEBUG    | __main__:<module>:161 - Launching job 0 with slurm file: /tmp/belkhale/job[sqeval_lpn0_01]zzdxbxn4.sh\n"
     ]
    },
    {
     "name": "stdout",
     "output_type": "stream",
     "text": [
      "Submitted batch job 6100862\n"
     ]
    },
    {
     "name": "stderr",
     "output_type": "stream",
     "text": [
      "2023-05-16 12:49:33.427 | DEBUG    | __main__:<module>:161 - Launching job 0 with slurm file: /tmp/belkhale/job[sqeval_lpn0_02]qsfus62i.sh\n"
     ]
    },
    {
     "name": "stdout",
     "output_type": "stream",
     "text": [
      "Submitted batch job 6100864\n"
     ]
    },
    {
     "name": "stderr",
     "output_type": "stream",
     "text": [
      "2023-05-16 12:49:34.602 | DEBUG    | __main__:<module>:161 - Launching job 0 with slurm file: /tmp/belkhale/job[sqeval_lpn0_005-first100]ty769lc8.sh\n"
     ]
    },
    {
     "name": "stdout",
     "output_type": "stream",
     "text": [
      "Submitted batch job 6100865\n"
     ]
    },
    {
     "name": "stderr",
     "output_type": "stream",
     "text": [
      "2023-05-16 12:49:35.709 | DEBUG    | __main__:<module>:161 - Launching job 0 with slurm file: /tmp/belkhale/job[sqeval_lpn0_01-first100]vpchzhkk.sh\n"
     ]
    },
    {
     "name": "stdout",
     "output_type": "stream",
     "text": [
      "Submitted batch job 6100866\n"
     ]
    },
    {
     "name": "stderr",
     "output_type": "stream",
     "text": [
      "2023-05-16 12:49:36.857 | DEBUG    | __main__:<module>:161 - Launching job 0 with slurm file: /tmp/belkhale/job[sqeval_lpn0_02-first100]awp43nsb.sh\n"
     ]
    },
    {
     "name": "stdout",
     "output_type": "stream",
     "text": [
      "Submitted batch job 6100867\n"
     ]
    },
    {
     "name": "stderr",
     "output_type": "stream",
     "text": [
      "2023-05-16 12:49:37.997 | DEBUG    | __main__:<module>:161 - Launching job 0 with slurm file: /tmp/belkhale/job[sqeval_lpn0_005]kwic9moc.sh\n"
     ]
    },
    {
     "name": "stdout",
     "output_type": "stream",
     "text": [
      "Submitted batch job 6100868\n"
     ]
    },
    {
     "name": "stderr",
     "output_type": "stream",
     "text": [
      "2023-05-16 12:49:39.145 | DEBUG    | __main__:<module>:161 - Launching job 0 with slurm file: /tmp/belkhale/job[sqeval_lpn0_01]isms06a0.sh\n"
     ]
    },
    {
     "name": "stdout",
     "output_type": "stream",
     "text": [
      "Submitted batch job 6100869\n"
     ]
    },
    {
     "name": "stderr",
     "output_type": "stream",
     "text": [
      "2023-05-16 12:49:40.570 | DEBUG    | __main__:<module>:161 - Launching job 0 with slurm file: /tmp/belkhale/job[sqeval_lpn0_02]4201rjql.sh\n"
     ]
    },
    {
     "name": "stdout",
     "output_type": "stream",
     "text": [
      "Submitted batch job 6100870\n"
     ]
    },
    {
     "name": "stderr",
     "output_type": "stream",
     "text": [
      "2023-05-16 12:49:41.849 | DEBUG    | __main__:<module>:161 - Launching job 0 with slurm file: /tmp/belkhale/job[sqeval_lpn0_005-first100]twndulte.sh\n"
     ]
    },
    {
     "name": "stdout",
     "output_type": "stream",
     "text": [
      "Submitted batch job 6100871\n"
     ]
    },
    {
     "name": "stderr",
     "output_type": "stream",
     "text": [
      "2023-05-16 12:49:43.063 | DEBUG    | __main__:<module>:161 - Launching job 0 with slurm file: /tmp/belkhale/job[sqeval_lpn0_01-first100]5kihkf4v.sh\n"
     ]
    },
    {
     "name": "stdout",
     "output_type": "stream",
     "text": [
      "Submitted batch job 6100872\n"
     ]
    },
    {
     "name": "stderr",
     "output_type": "stream",
     "text": [
      "2023-05-16 12:49:44.173 | DEBUG    | __main__:<module>:161 - Launching job 0 with slurm file: /tmp/belkhale/job[sqeval_lpn0_02-first100]h6bx92fm.sh\n"
     ]
    },
    {
     "name": "stdout",
     "output_type": "stream",
     "text": [
      "Submitted batch job 6100873\n"
     ]
    }
   ],
   "source": [
    "# TODO new sys noises for the existing policy noises (not super important)\n",
    "print_success(noise_type='p', data_seed=\"\", noise_values=[0.005, 0.01, 0.02], s_noises=[0.3,0.4], batch_sizes = [256, 256],\n",
    "                  dset_suffs = ['', '-first100'], run_cmd=True, run_compute=False)\n",
    "print_success(noise_type='p', data_seed=\"_s1\", noise_values=[0.005, 0.01, 0.02], s_noises=[0.3,0.4], batch_sizes = [256, 256],\n",
    "                  dset_suffs = ['', '-first100'], run_cmd=True, run_compute=False)\n",
    "print_success(noise_type='p', data_seed=\"_s2\", noise_values=[0.005, 0.01, 0.02], s_noises=[0.3,0.4], batch_sizes = [256, 256],\n",
    "                  dset_suffs = ['', '-first100'], run_cmd=True, run_compute=False)"
   ]
  },
  {
   "cell_type": "code",
   "execution_count": 15,
   "metadata": {
    "collapsed": true
   },
   "outputs": [
    {
     "name": "stdout",
     "output_type": "stream",
     "text": [
      "suff=''...\n",
      "$55.7(5.3)$ & $50.0(5.4)$ & $27.0(3.9)$ & $12.0(2.4)$ & $7.3(2.2)$\\\\ \n",
      "$69.7(5.5)$ & $69.0(3.7)$ & $57.3(6.0)$ & $50.3(6.0)$ & $22.7(3.5)$\\\\ \n",
      "$67.7(9.6)$ & $68.7(12.6)$ & $82.0(3.4)$ & $74.3(2.7)$ & $50.3(1.7)$\\\\ \n",
      "$47.0(4.9)$ & $53.3(5.9)$ & $54.3(3.0)$ & $50.7(4.3)$ & $38.7(7.3)$\\\\ \n",
      "$31.3(5.0)$ & $37.7(8.2)$ & $48.3(9.7)$ & $49.0(8.7)$ & $44.0(5.3)$\\\\ \n",
      "\n",
      "------------------------------\n",
      "suff='-first100'...\n",
      "$65.7(5.0)$ & $53.0(5.3)$ & $36.3(4.3)$ & $14.7(1.5)$ & $7.3(1.9)$\\\\ \n",
      "$70.0(2.6)$ & $67.7(6.1)$ & $57.3(6.6)$ & $41.0(1.2)$ & $21.0(2.4)$\\\\ \n",
      "$80.3(3.3)$ & $87.3(1.2)$ & $85.3(4.7)$ & $69.7(8.6)$ & $46.3(4.3)$\\\\ \n",
      "$48.3(11.6)$ & $52.0(13.3)$ & $58.0(12.9)$ & $54.0(11.6)$ & $48.7(11.4)$\\\\ \n",
      "$24.7(6.3)$ & $36.7(1.9)$ & $48.0(3.6)$ & $58.3(2.6)$ & $53.0(4.2)$\\\\ \n",
      "\n",
      "------------------------------\n",
      "suff='-first50'...\n",
      "$69.0(3.7)$ & $65.0(4.6)$ & $32.7(3.4)$ & $17.7(2.4)$ & $9.3(1.5)$\\\\ \n",
      "$74.3(4.4)$ & $75.7(2.2)$ & $69.0(0.8)$ & $39.3(1.9)$ & $25.7(3.8)$\\\\ \n",
      "$70.0(7.1)$ & $76.0(7.1)$ & $82.0(2.8)$ & $70.7(4.0)$ & $55.3(3.3)$\\\\ \n",
      "$50.3(5.0)$ & $56.0(8.0)$ & $61.0(6.8)$ & $58.3(6.7)$ & $49.7(1.5)$\\\\ \n",
      "$26.7(6.9)$ & $30.7(9.7)$ & $48.7(8.8)$ & $55.3(10.4)$ & $57.7(9.1)$\\\\ \n",
      "\n",
      "------------------------------\n",
      "suff='-first10'...\n",
      "$63.3(4.2)$ & $50.3(4.3)$ & $28.7(6.5)$ & $9.7(1.8)$ & $4.0(0.9)$\\\\ \n",
      "$72.7(4.6)$ & $76.0(6.6)$ & $57.3(7.1)$ & $37.3(4.3)$ & $14.7(1.5)$\\\\ \n",
      "$76.3(4.0)$ & $84.3(3.3)$ & $84.3(5.0)$ & $67.7(1.1)$ & $50.7(2.1)$\\\\ \n",
      "$44.0(4.2)$ & $51.3(5.2)$ & $56.0(9.8)$ & $62.7(6.3)$ & $56.0(3.3)$\\\\ \n",
      "$28.0(8.0)$ & $36.0(7.5)$ & $44.0(5.1)$ & $45.3(4.1)$ & $45.0(8.4)$\\\\ \n",
      "\n",
      "------------------------------\n"
     ]
    }
   ],
   "source": [
    "# complete\n",
    "print_success(noise_type='s', data_seed=[\"\", \"_s1\", \"_s2\"], noise_values=[0.05, 0.1, 0.2, 0.3, 0.4], s_noises=[0.05, 0.1, 0.2, 0.3, 0.4], run_cmd=False, run_compute=True,\n",
    "             dset_suffs = ['', '-first100', '-first50', '-first10'], batch_sizes = [256]*4, )\n",
    "\n"
   ]
  },
  {
   "cell_type": "code",
   "execution_count": 17,
   "metadata": {},
   "outputs": [
    {
     "name": "stdout",
     "output_type": "stream",
     "text": [
      "suff=''...\n",
      "$69.0(3.7)$ & $59.0(3.7)$ & $34.0(1.7)$ & $20.7(2.4)$ & $7.0(1.6)$\\\\ \n",
      "$80.7(3.7)$ & $78.0(4.2)$ & $57.7(2.4)$ & $38.0(1.7)$ & $23.0(2.2)$\\\\ \n",
      "$62.3(7.8)$ & $71.7(6.1)$ & $73.0(3.9)$ & $65.3(2.8)$ & $43.3(3.6)$\\\\ \n",
      "\n",
      "------------------------------\n",
      "suff='-first100'...\n",
      "$66.3(7.0)$ & $61.7(5.4)$ & $37.0(1.7)$ & $16.7(4.8)$ & $7.3(1.0)$\\\\ \n",
      "$89.0(4.1)$ & $86.0(6.5)$ & $69.0(6.5)$ & $50.7(1.8)$ & $25.7(2.0)$\\\\ \n",
      "$66.7(3.1)$ & $69.7(5.5)$ & $66.7(8.0)$ & $55.0(5.2)$ & $34.0(7.1)$\\\\ \n",
      "\n",
      "------------------------------\n"
     ]
    }
   ],
   "source": [
    "\n",
    "print_success(noise_type='p', data_seed=[\"\", \"_s1\", \"_s2\"], noise_values=[0.005, 0.01, 0.02], s_noises=[0.05, 0.1, 0.2, 0.3, 0.4], run_cmd=False, run_compute=True)\n",
    "\n",
    "# TODO make the evals for the 10 ep regime\n"
   ]
  },
  {
   "cell_type": "code",
   "execution_count": 18,
   "metadata": {},
   "outputs": [
    {
     "name": "stderr",
     "output_type": "stream",
     "text": [
      "2023-05-16 15:24:21.178 | DEBUG    | __main__:<module>:161 - Launching job 0 with slurm file: /tmp/belkhale/job[sqeval_lpn0_005-first10]gah0ws6i.sh\n"
     ]
    },
    {
     "name": "stdout",
     "output_type": "stream",
     "text": [
      "Submitted batch job 6101188\n"
     ]
    },
    {
     "name": "stderr",
     "output_type": "stream",
     "text": [
      "2023-05-16 15:24:22.331 | DEBUG    | __main__:<module>:161 - Launching job 0 with slurm file: /tmp/belkhale/job[sqeval_lpn0_01-first10]gmamci7n.sh\n"
     ]
    },
    {
     "name": "stdout",
     "output_type": "stream",
     "text": [
      "Submitted batch job 6101189\n"
     ]
    },
    {
     "name": "stderr",
     "output_type": "stream",
     "text": [
      "2023-05-16 15:24:23.505 | DEBUG    | __main__:<module>:161 - Launching job 0 with slurm file: /tmp/belkhale/job[sqeval_lpn0_02-first10]0d9pr3qq.sh\n"
     ]
    },
    {
     "name": "stdout",
     "output_type": "stream",
     "text": [
      "Submitted batch job 6101190\n"
     ]
    },
    {
     "name": "stderr",
     "output_type": "stream",
     "text": [
      "2023-05-16 15:24:24.696 | DEBUG    | __main__:<module>:161 - Launching job 0 with slurm file: /tmp/belkhale/job[sqeval_lpn0_005-first10]ajhb_xhu.sh\n"
     ]
    },
    {
     "name": "stdout",
     "output_type": "stream",
     "text": [
      "Submitted batch job 6101191\n"
     ]
    },
    {
     "name": "stderr",
     "output_type": "stream",
     "text": [
      "2023-05-16 15:24:25.892 | DEBUG    | __main__:<module>:161 - Launching job 0 with slurm file: /tmp/belkhale/job[sqeval_lpn0_01-first10]bg9binzy.sh\n"
     ]
    },
    {
     "name": "stdout",
     "output_type": "stream",
     "text": [
      "Submitted batch job 6101192\n"
     ]
    },
    {
     "name": "stderr",
     "output_type": "stream",
     "text": [
      "2023-05-16 15:24:27.035 | DEBUG    | __main__:<module>:161 - Launching job 0 with slurm file: /tmp/belkhale/job[sqeval_lpn0_02-first10]nep3lu3v.sh\n"
     ]
    },
    {
     "name": "stdout",
     "output_type": "stream",
     "text": [
      "Submitted batch job 6101193\n"
     ]
    },
    {
     "name": "stderr",
     "output_type": "stream",
     "text": [
      "2023-05-16 15:24:28.230 | DEBUG    | __main__:<module>:161 - Launching job 0 with slurm file: /tmp/belkhale/job[sqeval_lpn0_005-first10]hlif0ny1.sh\n"
     ]
    },
    {
     "name": "stdout",
     "output_type": "stream",
     "text": [
      "Submitted batch job 6101194\n"
     ]
    },
    {
     "name": "stderr",
     "output_type": "stream",
     "text": [
      "2023-05-16 15:24:29.372 | DEBUG    | __main__:<module>:161 - Launching job 0 with slurm file: /tmp/belkhale/job[sqeval_lpn0_01-first10]r4fmcpso.sh\n"
     ]
    },
    {
     "name": "stdout",
     "output_type": "stream",
     "text": [
      "Submitted batch job 6101195\n",
      "Submitted batch job 6101196\n"
     ]
    },
    {
     "name": "stderr",
     "output_type": "stream",
     "text": [
      "2023-05-16 15:24:30.505 | DEBUG    | __main__:<module>:161 - Launching job 0 with slurm file: /tmp/belkhale/job[sqeval_lpn0_02-first10]eo_vd6e0.sh\n"
     ]
    }
   ],
   "source": [
    "# TODO new sys noises for the existing policy noises (not super important)\n",
    "print_success(noise_type='p', data_seed=\"\", noise_values=[0.005, 0.01, 0.02], s_noises=[0.05, 0.1, 0.2, 0.3,0.4], batch_sizes = [256],\n",
    "                  dset_suffs = ['-first10'], run_cmd=True, run_compute=False)\n",
    "print_success(noise_type='p', data_seed=\"_s1\", noise_values=[0.005, 0.01, 0.02], s_noises=[0.05, 0.1, 0.2, 0.3,0.4], batch_sizes = [256],\n",
    "                  dset_suffs = ['-first10'], run_cmd=True, run_compute=False)\n",
    "print_success(noise_type='p', data_seed=\"_s2\", noise_values=[0.005, 0.01, 0.02], s_noises=[0.05, 0.1, 0.2, 0.3,0.4], batch_sizes = [256],\n",
    "                  dset_suffs = ['-first10'], run_cmd=True, run_compute=False)"
   ]
  },
  {
   "cell_type": "code",
   "execution_count": 19,
   "metadata": {},
   "outputs": [
    {
     "ename": "AssertionError",
     "evalue": "experiments/hvs/velact_b256_h10_scripted_rm_lpn0_005_square_200ep-first10_bc-l2_mlp400-d2/best_eval100_lsn0_05.npz",
     "output_type": "error",
     "traceback": [
      "\u001b[0;31m---------------------------------------------------------------------------\u001b[0m",
      "\u001b[0;31mAssertionError\u001b[0m                            Traceback (most recent call last)",
      "Cell \u001b[0;32mIn[19], line 2\u001b[0m\n\u001b[1;32m      1\u001b[0m \u001b[38;5;66;03m# TODO new sys noises for the existing policy noises (not super important)\u001b[39;00m\n\u001b[0;32m----> 2\u001b[0m \u001b[43mprint_success\u001b[49m\u001b[43m(\u001b[49m\u001b[43mnoise_type\u001b[49m\u001b[38;5;241;43m=\u001b[39;49m\u001b[38;5;124;43m'\u001b[39;49m\u001b[38;5;124;43mp\u001b[39;49m\u001b[38;5;124;43m'\u001b[39;49m\u001b[43m,\u001b[49m\u001b[43m \u001b[49m\u001b[43mdata_seed\u001b[49m\u001b[38;5;241;43m=\u001b[39;49m\u001b[43m[\u001b[49m\u001b[38;5;124;43m\"\u001b[39;49m\u001b[38;5;124;43m\"\u001b[39;49m\u001b[43m,\u001b[49m\u001b[43m \u001b[49m\u001b[38;5;124;43m\"\u001b[39;49m\u001b[38;5;124;43m_s1\u001b[39;49m\u001b[38;5;124;43m\"\u001b[39;49m\u001b[43m,\u001b[49m\u001b[43m \u001b[49m\u001b[38;5;124;43m\"\u001b[39;49m\u001b[38;5;124;43m_s2\u001b[39;49m\u001b[38;5;124;43m\"\u001b[39;49m\u001b[43m]\u001b[49m\u001b[43m,\u001b[49m\u001b[43m \u001b[49m\u001b[43mnoise_values\u001b[49m\u001b[38;5;241;43m=\u001b[39;49m\u001b[43m[\u001b[49m\u001b[38;5;241;43m0.005\u001b[39;49m\u001b[43m,\u001b[49m\u001b[43m \u001b[49m\u001b[38;5;241;43m0.01\u001b[39;49m\u001b[43m,\u001b[49m\u001b[43m \u001b[49m\u001b[38;5;241;43m0.02\u001b[39;49m\u001b[43m]\u001b[49m\u001b[43m,\u001b[49m\u001b[43m \u001b[49m\u001b[43ms_noises\u001b[49m\u001b[38;5;241;43m=\u001b[39;49m\u001b[43m[\u001b[49m\u001b[38;5;241;43m0.05\u001b[39;49m\u001b[43m,\u001b[49m\u001b[43m \u001b[49m\u001b[38;5;241;43m0.1\u001b[39;49m\u001b[43m,\u001b[49m\u001b[43m \u001b[49m\u001b[38;5;241;43m0.2\u001b[39;49m\u001b[43m,\u001b[49m\u001b[43m \u001b[49m\u001b[38;5;241;43m0.3\u001b[39;49m\u001b[43m,\u001b[49m\u001b[38;5;241;43m0.4\u001b[39;49m\u001b[43m]\u001b[49m\u001b[43m,\u001b[49m\u001b[43m \u001b[49m\u001b[43mbatch_sizes\u001b[49m\u001b[43m \u001b[49m\u001b[38;5;241;43m=\u001b[39;49m\u001b[43m \u001b[49m\u001b[43m[\u001b[49m\u001b[38;5;241;43m256\u001b[39;49m\u001b[43m]\u001b[49m\u001b[43m,\u001b[49m\n\u001b[1;32m      3\u001b[0m \u001b[43m                  \u001b[49m\u001b[43mdset_suffs\u001b[49m\u001b[43m \u001b[49m\u001b[38;5;241;43m=\u001b[39;49m\u001b[43m \u001b[49m\u001b[43m[\u001b[49m\u001b[38;5;124;43m'\u001b[39;49m\u001b[38;5;124;43m-first10\u001b[39;49m\u001b[38;5;124;43m'\u001b[39;49m\u001b[43m]\u001b[49m\u001b[43m,\u001b[49m\u001b[43m \u001b[49m\u001b[43mrun_cmd\u001b[49m\u001b[38;5;241;43m=\u001b[39;49m\u001b[38;5;28;43;01mFalse\u001b[39;49;00m\u001b[43m,\u001b[49m\u001b[43m \u001b[49m\u001b[43mrun_compute\u001b[49m\u001b[38;5;241;43m=\u001b[39;49m\u001b[38;5;28;43;01mTrue\u001b[39;49;00m\u001b[43m)\u001b[49m\n",
      "Cell \u001b[0;32mIn[6], line 56\u001b[0m, in \u001b[0;36mprint_success\u001b[0;34m(noise_type, noise_values, s_noises, prefix, num_rollouts, fn, run_cmd, run_compute, batch_sizes, dset_suffs, data_seed)\u001b[0m\n\u001b[1;32m     53\u001b[0m             file \u001b[38;5;241m=\u001b[39m \u001b[38;5;124mf\u001b[39m\u001b[38;5;124m\"\u001b[39m\u001b[38;5;132;01m{\u001b[39;00mprefix\u001b[38;5;132;01m}\u001b[39;00m\u001b[38;5;124meval\u001b[39m\u001b[38;5;132;01m{\u001b[39;00mnum_rollouts\u001b[38;5;132;01m}\u001b[39;00m\u001b[38;5;124m_lsn\u001b[39m\u001b[38;5;132;01m{\u001b[39;00mhr_name(es)\u001b[38;5;132;01m}\u001b[39;00m\u001b[38;5;124m.npz\u001b[39m\u001b[38;5;124m\"\u001b[39m\n\u001b[1;32m     55\u001b[0m             path \u001b[38;5;241m=\u001b[39m \u001b[38;5;124mf\u001b[39m\u001b[38;5;124m\"\u001b[39m\u001b[38;5;132;01m{\u001b[39;00mexp_name\u001b[38;5;132;01m}\u001b[39;00m\u001b[38;5;124m/\u001b[39m\u001b[38;5;132;01m{\u001b[39;00mfile\u001b[38;5;132;01m}\u001b[39;00m\u001b[38;5;124m\"\u001b[39m\n\u001b[0;32m---> 56\u001b[0m             \u001b[38;5;28;01massert\u001b[39;00m os\u001b[38;5;241m.\u001b[39mpath\u001b[38;5;241m.\u001b[39mexists(path), path\n\u001b[1;32m     57\u001b[0m             success[l, i, j] \u001b[38;5;241m=\u001b[39m fn(path, num_rollouts)\n\u001b[1;32m     59\u001b[0m \u001b[38;5;28mprint\u001b[39m(\u001b[38;5;124mf\u001b[39m\u001b[38;5;124m\"\u001b[39m\u001b[38;5;124msuff=\u001b[39m\u001b[38;5;124m'\u001b[39m\u001b[38;5;132;01m{\u001b[39;00msuff\u001b[38;5;132;01m}\u001b[39;00m\u001b[38;5;124m'\u001b[39m\u001b[38;5;124m...\u001b[39m\u001b[38;5;124m\"\u001b[39m)\n",
      "\u001b[0;31mAssertionError\u001b[0m: experiments/hvs/velact_b256_h10_scripted_rm_lpn0_005_square_200ep-first10_bc-l2_mlp400-d2/best_eval100_lsn0_05.npz"
     ]
    }
   ],
   "source": [
    "# TODO new sys noises for the existing policy noises (not super important)\n",
    "print_success(noise_type='p', data_seed=[\"\", \"_s1\", \"_s2\"], noise_values=[0.005, 0.01, 0.02], s_noises=[0.05, 0.1, 0.2, 0.3,0.4], batch_sizes = [256],\n",
    "                  dset_suffs = ['-first10'], run_cmd=False, run_compute=True)"
   ]
  },
  {
   "cell_type": "markdown",
   "metadata": {},
   "source": [
    "## soy un idiota"
   ]
  },
  {
   "cell_type": "code",
   "execution_count": 23,
   "metadata": {},
   "outputs": [
    {
     "name": "stderr",
     "output_type": "stream",
     "text": [
      "2023-05-16 19:14:52.653 | DEBUG    | __main__:<module>:161 - Launching job 0 with slurm file: /tmp/belkhale/job[sqeval_lsn0_05-first50]sf5js01t.sh\n"
     ]
    },
    {
     "name": "stdout",
     "output_type": "stream",
     "text": [
      "Submitted batch job 6101616\n"
     ]
    },
    {
     "name": "stderr",
     "output_type": "stream",
     "text": [
      "2023-05-16 19:14:54.183 | DEBUG    | __main__:<module>:161 - Launching job 0 with slurm file: /tmp/belkhale/job[sqeval_lsn0_1-first50]ov_avfye.sh\n"
     ]
    },
    {
     "name": "stdout",
     "output_type": "stream",
     "text": [
      "Submitted batch job 6101617\n"
     ]
    },
    {
     "name": "stderr",
     "output_type": "stream",
     "text": [
      "2023-05-16 19:14:55.497 | DEBUG    | __main__:<module>:161 - Launching job 0 with slurm file: /tmp/belkhale/job[sqeval_lsn0_2-first50]gqtk517s.sh\n"
     ]
    },
    {
     "name": "stdout",
     "output_type": "stream",
     "text": [
      "Submitted batch job 6101618\n"
     ]
    },
    {
     "name": "stderr",
     "output_type": "stream",
     "text": [
      "2023-05-16 19:14:56.862 | DEBUG    | __main__:<module>:161 - Launching job 0 with slurm file: /tmp/belkhale/job[sqeval_lsn0_3-first50]6u317b4z.sh\n"
     ]
    },
    {
     "name": "stdout",
     "output_type": "stream",
     "text": [
      "Submitted batch job 6101619\n"
     ]
    },
    {
     "name": "stderr",
     "output_type": "stream",
     "text": [
      "2023-05-16 19:14:58.282 | DEBUG    | __main__:<module>:161 - Launching job 0 with slurm file: /tmp/belkhale/job[sqeval_lsn0_4-first50]03xlpbd6.sh\n"
     ]
    },
    {
     "name": "stdout",
     "output_type": "stream",
     "text": [
      "Submitted batch job 6101620\n"
     ]
    },
    {
     "name": "stderr",
     "output_type": "stream",
     "text": [
      "2023-05-16 19:14:59.970 | DEBUG    | __main__:<module>:161 - Launching job 0 with slurm file: /tmp/belkhale/job[sqeval_lsn0_05-first10]_amn05i9.sh\n"
     ]
    },
    {
     "name": "stdout",
     "output_type": "stream",
     "text": [
      "Submitted batch job 6101621\n"
     ]
    },
    {
     "name": "stderr",
     "output_type": "stream",
     "text": [
      "2023-05-16 19:15:01.298 | DEBUG    | __main__:<module>:161 - Launching job 0 with slurm file: /tmp/belkhale/job[sqeval_lsn0_1-first10]k_hh6dqq.sh\n"
     ]
    },
    {
     "name": "stdout",
     "output_type": "stream",
     "text": [
      "Submitted batch job 6101622\n"
     ]
    },
    {
     "name": "stderr",
     "output_type": "stream",
     "text": [
      "2023-05-16 19:15:02.605 | DEBUG    | __main__:<module>:161 - Launching job 0 with slurm file: /tmp/belkhale/job[sqeval_lsn0_2-first10]npxnfg7q.sh\n"
     ]
    },
    {
     "name": "stdout",
     "output_type": "stream",
     "text": [
      "Submitted batch job 6101623\n"
     ]
    },
    {
     "name": "stderr",
     "output_type": "stream",
     "text": [
      "2023-05-16 19:15:03.980 | DEBUG    | __main__:<module>:161 - Launching job 0 with slurm file: /tmp/belkhale/job[sqeval_lsn0_3-first10]i1ilgfwo.sh\n"
     ]
    },
    {
     "name": "stdout",
     "output_type": "stream",
     "text": [
      "Submitted batch job 6101624\n"
     ]
    },
    {
     "name": "stderr",
     "output_type": "stream",
     "text": [
      "2023-05-16 19:15:05.646 | DEBUG    | __main__:<module>:161 - Launching job 0 with slurm file: /tmp/belkhale/job[sqeval_lsn0_4-first10]pwv8gp0f.sh\n"
     ]
    },
    {
     "name": "stdout",
     "output_type": "stream",
     "text": [
      "Submitted batch job 6101625\n"
     ]
    },
    {
     "name": "stderr",
     "output_type": "stream",
     "text": [
      "2023-05-16 19:15:07.021 | DEBUG    | __main__:<module>:161 - Launching job 0 with slurm file: /tmp/belkhale/job[sqeval_lpn0_005-first50]7saqle9o.sh\n"
     ]
    },
    {
     "name": "stdout",
     "output_type": "stream",
     "text": [
      "Submitted batch job 6101626\n"
     ]
    },
    {
     "name": "stderr",
     "output_type": "stream",
     "text": [
      "2023-05-16 19:15:08.435 | DEBUG    | __main__:<module>:161 - Launching job 0 with slurm file: /tmp/belkhale/job[sqeval_lpn0_01-first50]jhqn3259.sh\n"
     ]
    },
    {
     "name": "stdout",
     "output_type": "stream",
     "text": [
      "Submitted batch job 6101627\n"
     ]
    },
    {
     "name": "stderr",
     "output_type": "stream",
     "text": [
      "2023-05-16 19:15:09.837 | DEBUG    | __main__:<module>:161 - Launching job 0 with slurm file: /tmp/belkhale/job[sqeval_lpn0_02-first50]fz12ux8a.sh\n"
     ]
    },
    {
     "name": "stdout",
     "output_type": "stream",
     "text": [
      "Submitted batch job 6101628\n"
     ]
    },
    {
     "name": "stderr",
     "output_type": "stream",
     "text": [
      "2023-05-16 19:15:11.551 | DEBUG    | __main__:<module>:161 - Launching job 0 with slurm file: /tmp/belkhale/job[sqeval_lpn0_005-first10]737x_7fz.sh\n"
     ]
    },
    {
     "name": "stdout",
     "output_type": "stream",
     "text": [
      "Submitted batch job 6101629\n"
     ]
    },
    {
     "name": "stderr",
     "output_type": "stream",
     "text": [
      "2023-05-16 19:15:12.911 | DEBUG    | __main__:<module>:161 - Launching job 0 with slurm file: /tmp/belkhale/job[sqeval_lpn0_01-first10]bxmjyqxv.sh\n"
     ]
    },
    {
     "name": "stdout",
     "output_type": "stream",
     "text": [
      "Submitted batch job 6101630\n"
     ]
    },
    {
     "name": "stderr",
     "output_type": "stream",
     "text": [
      "2023-05-16 19:15:14.253 | DEBUG    | __main__:<module>:161 - Launching job 0 with slurm file: /tmp/belkhale/job[sqeval_lpn0_02-first10]ap5gpunf.sh\n"
     ]
    },
    {
     "name": "stdout",
     "output_type": "stream",
     "text": [
      "Submitted batch job 6101631\n"
     ]
    },
    {
     "name": "stderr",
     "output_type": "stream",
     "text": [
      "2023-05-16 19:15:15.585 | DEBUG    | __main__:<module>:161 - Launching job 0 with slurm file: /tmp/belkhale/job[sqeval_lsn0_05-first50]yk56m10_.sh\n"
     ]
    },
    {
     "name": "stdout",
     "output_type": "stream",
     "text": [
      "Submitted batch job 6101632\n"
     ]
    },
    {
     "name": "stderr",
     "output_type": "stream",
     "text": [
      "2023-05-16 19:15:17.088 | DEBUG    | __main__:<module>:161 - Launching job 0 with slurm file: /tmp/belkhale/job[sqeval_lsn0_1-first50]8ygdvvv4.sh\n"
     ]
    },
    {
     "name": "stdout",
     "output_type": "stream",
     "text": [
      "Submitted batch job 6101633\n"
     ]
    },
    {
     "name": "stderr",
     "output_type": "stream",
     "text": [
      "2023-05-16 19:15:18.573 | DEBUG    | __main__:<module>:161 - Launching job 0 with slurm file: /tmp/belkhale/job[sqeval_lsn0_2-first50]aoelrnem.sh\n"
     ]
    },
    {
     "name": "stdout",
     "output_type": "stream",
     "text": [
      "Submitted batch job 6101634\n"
     ]
    },
    {
     "name": "stderr",
     "output_type": "stream",
     "text": [
      "2023-05-16 19:15:19.913 | DEBUG    | __main__:<module>:161 - Launching job 0 with slurm file: /tmp/belkhale/job[sqeval_lsn0_3-first50]e_1upg1z.sh\n"
     ]
    },
    {
     "name": "stdout",
     "output_type": "stream",
     "text": [
      "Submitted batch job 6101635\n"
     ]
    },
    {
     "name": "stderr",
     "output_type": "stream",
     "text": [
      "2023-05-16 19:15:21.242 | DEBUG    | __main__:<module>:161 - Launching job 0 with slurm file: /tmp/belkhale/job[sqeval_lsn0_4-first50]m5iyh47x.sh\n"
     ]
    },
    {
     "name": "stdout",
     "output_type": "stream",
     "text": [
      "Submitted batch job 6101636\n"
     ]
    },
    {
     "name": "stderr",
     "output_type": "stream",
     "text": [
      "2023-05-16 19:15:22.587 | DEBUG    | __main__:<module>:161 - Launching job 0 with slurm file: /tmp/belkhale/job[sqeval_lsn0_05-first10]4g91njbl.sh\n"
     ]
    },
    {
     "name": "stdout",
     "output_type": "stream",
     "text": [
      "Submitted batch job 6101637\n"
     ]
    },
    {
     "name": "stderr",
     "output_type": "stream",
     "text": [
      "2023-05-16 19:15:24.491 | DEBUG    | __main__:<module>:161 - Launching job 0 with slurm file: /tmp/belkhale/job[sqeval_lsn0_1-first10]ab5qmyd_.sh\n"
     ]
    },
    {
     "name": "stdout",
     "output_type": "stream",
     "text": [
      "Submitted batch job 6101638\n"
     ]
    },
    {
     "name": "stderr",
     "output_type": "stream",
     "text": [
      "2023-05-16 19:15:25.871 | DEBUG    | __main__:<module>:161 - Launching job 0 with slurm file: /tmp/belkhale/job[sqeval_lsn0_2-first10]82czc4vu.sh\n"
     ]
    },
    {
     "name": "stdout",
     "output_type": "stream",
     "text": [
      "Submitted batch job 6101640\n"
     ]
    },
    {
     "name": "stderr",
     "output_type": "stream",
     "text": [
      "2023-05-16 19:15:27.283 | DEBUG    | __main__:<module>:161 - Launching job 0 with slurm file: /tmp/belkhale/job[sqeval_lsn0_3-first10]9mvpqzdl.sh\n"
     ]
    },
    {
     "name": "stdout",
     "output_type": "stream",
     "text": [
      "Submitted batch job 6101641\n"
     ]
    },
    {
     "name": "stderr",
     "output_type": "stream",
     "text": [
      "2023-05-16 19:15:28.629 | DEBUG    | __main__:<module>:161 - Launching job 0 with slurm file: /tmp/belkhale/job[sqeval_lsn0_4-first10]ihyyy6ei.sh\n"
     ]
    },
    {
     "name": "stdout",
     "output_type": "stream",
     "text": [
      "Submitted batch job 6101642\n"
     ]
    },
    {
     "name": "stderr",
     "output_type": "stream",
     "text": [
      "2023-05-16 19:15:30.329 | DEBUG    | __main__:<module>:161 - Launching job 0 with slurm file: /tmp/belkhale/job[sqeval_lpn0_005-first50]lbb6apaj.sh\n"
     ]
    },
    {
     "name": "stdout",
     "output_type": "stream",
     "text": [
      "Submitted batch job 6101643\n"
     ]
    },
    {
     "name": "stderr",
     "output_type": "stream",
     "text": [
      "2023-05-16 19:15:31.663 | DEBUG    | __main__:<module>:161 - Launching job 0 with slurm file: /tmp/belkhale/job[sqeval_lpn0_01-first50]3yeldnjc.sh\n"
     ]
    },
    {
     "name": "stdout",
     "output_type": "stream",
     "text": [
      "Submitted batch job 6101644\n"
     ]
    },
    {
     "name": "stderr",
     "output_type": "stream",
     "text": [
      "2023-05-16 19:15:33.003 | DEBUG    | __main__:<module>:161 - Launching job 0 with slurm file: /tmp/belkhale/job[sqeval_lpn0_02-first50]yikhmepi.sh\n"
     ]
    },
    {
     "name": "stdout",
     "output_type": "stream",
     "text": [
      "Submitted batch job 6101645\n"
     ]
    },
    {
     "name": "stderr",
     "output_type": "stream",
     "text": [
      "2023-05-16 19:15:34.412 | DEBUG    | __main__:<module>:161 - Launching job 0 with slurm file: /tmp/belkhale/job[sqeval_lpn0_005-first10]0vlsdbit.sh\n"
     ]
    },
    {
     "name": "stdout",
     "output_type": "stream",
     "text": [
      "Submitted batch job 6101646\n"
     ]
    },
    {
     "name": "stderr",
     "output_type": "stream",
     "text": [
      "2023-05-16 19:15:36.137 | DEBUG    | __main__:<module>:161 - Launching job 0 with slurm file: /tmp/belkhale/job[sqeval_lpn0_01-first10]tb_c299g.sh\n"
     ]
    },
    {
     "name": "stdout",
     "output_type": "stream",
     "text": [
      "Submitted batch job 6101647\n"
     ]
    },
    {
     "name": "stderr",
     "output_type": "stream",
     "text": [
      "2023-05-16 19:15:37.456 | DEBUG    | __main__:<module>:161 - Launching job 0 with slurm file: /tmp/belkhale/job[sqeval_lpn0_02-first10]qgdn1xja.sh\n"
     ]
    },
    {
     "name": "stdout",
     "output_type": "stream",
     "text": [
      "Submitted batch job 6101648\n"
     ]
    },
    {
     "name": "stderr",
     "output_type": "stream",
     "text": [
      "2023-05-16 19:15:38.754 | DEBUG    | __main__:<module>:161 - Launching job 0 with slurm file: /tmp/belkhale/job[sqeval_lsn0_05-first50]lholukag.sh\n"
     ]
    },
    {
     "name": "stdout",
     "output_type": "stream",
     "text": [
      "Submitted batch job 6101649\n"
     ]
    },
    {
     "name": "stderr",
     "output_type": "stream",
     "text": [
      "2023-05-16 19:15:40.090 | DEBUG    | __main__:<module>:161 - Launching job 0 with slurm file: /tmp/belkhale/job[sqeval_lsn0_1-first50]yn595d3o.sh\n"
     ]
    },
    {
     "name": "stdout",
     "output_type": "stream",
     "text": [
      "Submitted batch job 6101650\n"
     ]
    },
    {
     "name": "stderr",
     "output_type": "stream",
     "text": [
      "2023-05-16 19:15:41.680 | DEBUG    | __main__:<module>:161 - Launching job 0 with slurm file: /tmp/belkhale/job[sqeval_lsn0_2-first50]51ntdd6j.sh\n"
     ]
    },
    {
     "name": "stdout",
     "output_type": "stream",
     "text": [
      "Submitted batch job 6101651\n"
     ]
    },
    {
     "name": "stderr",
     "output_type": "stream",
     "text": [
      "2023-05-16 19:15:43.126 | DEBUG    | __main__:<module>:161 - Launching job 0 with slurm file: /tmp/belkhale/job[sqeval_lsn0_3-first50]1kkpb06f.sh\n"
     ]
    },
    {
     "name": "stdout",
     "output_type": "stream",
     "text": [
      "Submitted batch job 6101652\n"
     ]
    },
    {
     "name": "stderr",
     "output_type": "stream",
     "text": [
      "2023-05-16 19:15:44.459 | DEBUG    | __main__:<module>:161 - Launching job 0 with slurm file: /tmp/belkhale/job[sqeval_lsn0_4-first50]jxecve5q.sh\n"
     ]
    },
    {
     "name": "stdout",
     "output_type": "stream",
     "text": [
      "Submitted batch job 6101653\n"
     ]
    },
    {
     "name": "stderr",
     "output_type": "stream",
     "text": [
      "2023-05-16 19:15:45.814 | DEBUG    | __main__:<module>:161 - Launching job 0 with slurm file: /tmp/belkhale/job[sqeval_lsn0_05-first10]81icui40.sh\n"
     ]
    },
    {
     "name": "stdout",
     "output_type": "stream",
     "text": [
      "Submitted batch job 6101654\n"
     ]
    },
    {
     "name": "stderr",
     "output_type": "stream",
     "text": [
      "2023-05-16 19:15:47.167 | DEBUG    | __main__:<module>:161 - Launching job 0 with slurm file: /tmp/belkhale/job[sqeval_lsn0_1-first10]gqqd1aoo.sh\n"
     ]
    },
    {
     "name": "stdout",
     "output_type": "stream",
     "text": [
      "Submitted batch job 6101655\n"
     ]
    },
    {
     "name": "stderr",
     "output_type": "stream",
     "text": [
      "2023-05-16 19:15:48.861 | DEBUG    | __main__:<module>:161 - Launching job 0 with slurm file: /tmp/belkhale/job[sqeval_lsn0_2-first10]6m07bxr6.sh\n"
     ]
    },
    {
     "name": "stdout",
     "output_type": "stream",
     "text": [
      "Submitted batch job 6101656\n"
     ]
    },
    {
     "name": "stderr",
     "output_type": "stream",
     "text": [
      "2023-05-16 19:15:50.250 | DEBUG    | __main__:<module>:161 - Launching job 0 with slurm file: /tmp/belkhale/job[sqeval_lsn0_3-first10]_l_zvdz6.sh\n"
     ]
    },
    {
     "name": "stdout",
     "output_type": "stream",
     "text": [
      "Submitted batch job 6101657\n"
     ]
    },
    {
     "name": "stderr",
     "output_type": "stream",
     "text": [
      "2023-05-16 19:15:51.652 | DEBUG    | __main__:<module>:161 - Launching job 0 with slurm file: /tmp/belkhale/job[sqeval_lsn0_4-first10]8uy018a_.sh\n"
     ]
    },
    {
     "name": "stdout",
     "output_type": "stream",
     "text": [
      "Submitted batch job 6101658\n"
     ]
    },
    {
     "name": "stderr",
     "output_type": "stream",
     "text": [
      "2023-05-16 19:15:53.221 | DEBUG    | __main__:<module>:161 - Launching job 0 with slurm file: /tmp/belkhale/job[sqeval_lpn0_005-first50]cvyy7o54.sh\n"
     ]
    },
    {
     "name": "stdout",
     "output_type": "stream",
     "text": [
      "Submitted batch job 6101659\n"
     ]
    },
    {
     "name": "stderr",
     "output_type": "stream",
     "text": [
      "2023-05-16 19:15:54.917 | DEBUG    | __main__:<module>:161 - Launching job 0 with slurm file: /tmp/belkhale/job[sqeval_lpn0_01-first50]tdzk36kc.sh\n"
     ]
    },
    {
     "name": "stdout",
     "output_type": "stream",
     "text": [
      "Submitted batch job 6101660\n"
     ]
    },
    {
     "name": "stderr",
     "output_type": "stream",
     "text": [
      "2023-05-16 19:15:56.263 | DEBUG    | __main__:<module>:161 - Launching job 0 with slurm file: /tmp/belkhale/job[sqeval_lpn0_02-first50]1ehc8ves.sh\n"
     ]
    },
    {
     "name": "stdout",
     "output_type": "stream",
     "text": [
      "Submitted batch job 6101661\n"
     ]
    },
    {
     "name": "stderr",
     "output_type": "stream",
     "text": [
      "2023-05-16 19:15:57.617 | DEBUG    | __main__:<module>:161 - Launching job 0 with slurm file: /tmp/belkhale/job[sqeval_lpn0_005-first10]nzpf76v7.sh\n"
     ]
    },
    {
     "name": "stdout",
     "output_type": "stream",
     "text": [
      "Submitted batch job 6101662\n"
     ]
    },
    {
     "name": "stderr",
     "output_type": "stream",
     "text": [
      "2023-05-16 19:15:58.963 | DEBUG    | __main__:<module>:161 - Launching job 0 with slurm file: /tmp/belkhale/job[sqeval_lpn0_01-first10]mj9sckg5.sh\n"
     ]
    },
    {
     "name": "stdout",
     "output_type": "stream",
     "text": [
      "Submitted batch job 6101663\n"
     ]
    },
    {
     "name": "stderr",
     "output_type": "stream",
     "text": [
      "2023-05-16 19:16:00.651 | DEBUG    | __main__:<module>:161 - Launching job 0 with slurm file: /tmp/belkhale/job[sqeval_lpn0_02-first10]2k88_0h5.sh\n"
     ]
    },
    {
     "name": "stdout",
     "output_type": "stream",
     "text": [
      "Submitted batch job 6101664\n"
     ]
    }
   ],
   "source": [
    "# TODO launch all the evals\n",
    "\n",
    "for seed in ['', '_s1', '_s2']:\n",
    "    # TODO new suffixes for the existing stuff\n",
    "    print_success(noise_type='s', data_seed=seed, noise_values=[0.05,0.1,0.2,0.3,0.4], s_noises=[0.05,0.1,0.2,0.3,0.4], batch_sizes = [256, 256],\n",
    "                      dset_suffs = ['-first50', '-first10'], run_cmd=True, run_compute=False)\n",
    "    print_success(noise_type='p', data_seed=seed, noise_values=[0.005,0.01,0.02], s_noises=[0.05,0.1,0.2,0.3,0.4], batch_sizes = [256, 256],\n",
    "                      dset_suffs = ['-first50', '-first10'], run_cmd=True, run_compute=False)"
   ]
  },
  {
   "cell_type": "code",
   "execution_count": 26,
   "metadata": {},
   "outputs": [
    {
     "name": "stderr",
     "output_type": "stream",
     "text": [
      "2023-05-16 20:15:21.091 | DEBUG    | __main__:<module>:161 - Launching job 0 with slurm file: /tmp/belkhale/job[sqeval_lsn0_05-first10]bsgiqo91.sh\n"
     ]
    },
    {
     "name": "stdout",
     "output_type": "stream",
     "text": [
      "Submitted batch job 6101737\n"
     ]
    },
    {
     "name": "stderr",
     "output_type": "stream",
     "text": [
      "2023-05-16 20:15:22.428 | DEBUG    | __main__:<module>:161 - Launching job 0 with slurm file: /tmp/belkhale/job[sqeval_lsn0_1-first10]cu77w_cc.sh\n"
     ]
    },
    {
     "name": "stdout",
     "output_type": "stream",
     "text": [
      "Submitted batch job 6101738\n"
     ]
    },
    {
     "name": "stderr",
     "output_type": "stream",
     "text": [
      "2023-05-16 20:15:23.765 | DEBUG    | __main__:<module>:161 - Launching job 0 with slurm file: /tmp/belkhale/job[sqeval_lsn0_2-first10]x1sh_733.sh\n"
     ]
    },
    {
     "name": "stdout",
     "output_type": "stream",
     "text": [
      "Submitted batch job 6101739\n"
     ]
    },
    {
     "name": "stderr",
     "output_type": "stream",
     "text": [
      "2023-05-16 20:15:25.087 | DEBUG    | __main__:<module>:161 - Launching job 0 with slurm file: /tmp/belkhale/job[sqeval_lsn0_3-first10]qiayjsg6.sh\n"
     ]
    },
    {
     "name": "stdout",
     "output_type": "stream",
     "text": [
      "Submitted batch job 6101740\n"
     ]
    },
    {
     "name": "stderr",
     "output_type": "stream",
     "text": [
      "2023-05-16 20:15:26.441 | DEBUG    | __main__:<module>:161 - Launching job 0 with slurm file: /tmp/belkhale/job[sqeval_lsn0_4-first10]yv3n6plo.sh\n"
     ]
    },
    {
     "name": "stdout",
     "output_type": "stream",
     "text": [
      "Submitted batch job 6101741\n"
     ]
    },
    {
     "name": "stderr",
     "output_type": "stream",
     "text": [
      "2023-05-16 20:15:27.814 | DEBUG    | __main__:<module>:161 - Launching job 0 with slurm file: /tmp/belkhale/job[sqeval_lpn0_005-first10]0en649mb.sh\n"
     ]
    },
    {
     "name": "stdout",
     "output_type": "stream",
     "text": [
      "Submitted batch job 6101742\n"
     ]
    },
    {
     "name": "stderr",
     "output_type": "stream",
     "text": [
      "2023-05-16 20:15:29.321 | DEBUG    | __main__:<module>:161 - Launching job 0 with slurm file: /tmp/belkhale/job[sqeval_lpn0_01-first10]5u5k6kyk.sh\n"
     ]
    },
    {
     "name": "stdout",
     "output_type": "stream",
     "text": [
      "Submitted batch job 6101743\n"
     ]
    },
    {
     "name": "stderr",
     "output_type": "stream",
     "text": [
      "2023-05-16 20:15:30.835 | DEBUG    | __main__:<module>:161 - Launching job 0 with slurm file: /tmp/belkhale/job[sqeval_lpn0_02-first10]0j6cpxrv.sh\n"
     ]
    },
    {
     "name": "stdout",
     "output_type": "stream",
     "text": [
      "Submitted batch job 6101744\n"
     ]
    }
   ],
   "source": [
    "# evals for s2 cuz i messed up again\n",
    "print_success(noise_type='s', data_seed=\"_s2\", noise_values=[0.05,0.1,0.2,0.3,0.4], s_noises=[0.05,0.1,0.2,0.3,0.4], batch_sizes = [256, 256],\n",
    "                  dset_suffs = ['-first10'], run_cmd=True, run_compute=False)\n",
    "print_success(noise_type='p', data_seed=\"_s2\", noise_values=[0.005,0.01,0.02], s_noises=[0.05,0.1,0.2,0.3,0.4], batch_sizes = [256, 256],\n",
    "                  dset_suffs = ['-first10'], run_cmd=True, run_compute=False)"
   ]
  },
  {
   "cell_type": "code",
   "execution_count": 29,
   "metadata": {},
   "outputs": [
    {
     "name": "stderr",
     "output_type": "stream",
     "text": [
      "2023-05-16 20:55:33.284 | DEBUG    | __main__:<module>:161 - Launching job 0 with slurm file: /tmp/belkhale/job[sqeval_lsn0_05-first50]9g5ei2q0.sh\n"
     ]
    },
    {
     "name": "stdout",
     "output_type": "stream",
     "text": [
      "Submitted batch job 6101803\n"
     ]
    },
    {
     "name": "stderr",
     "output_type": "stream",
     "text": [
      "2023-05-16 20:55:34.570 | DEBUG    | __main__:<module>:161 - Launching job 0 with slurm file: /tmp/belkhale/job[sqeval_lsn0_1-first50]mu49px5z.sh\n"
     ]
    },
    {
     "name": "stdout",
     "output_type": "stream",
     "text": [
      "Submitted batch job 6101804\n"
     ]
    },
    {
     "name": "stderr",
     "output_type": "stream",
     "text": [
      "2023-05-16 20:55:35.822 | DEBUG    | __main__:<module>:161 - Launching job 0 with slurm file: /tmp/belkhale/job[sqeval_lsn0_2-first50]54jgigln.sh\n"
     ]
    },
    {
     "name": "stdout",
     "output_type": "stream",
     "text": [
      "Submitted batch job 6101805\n"
     ]
    },
    {
     "name": "stderr",
     "output_type": "stream",
     "text": [
      "2023-05-16 20:55:37.103 | DEBUG    | __main__:<module>:161 - Launching job 0 with slurm file: /tmp/belkhale/job[sqeval_lsn0_3-first50]apuee9pl.sh\n"
     ]
    },
    {
     "name": "stdout",
     "output_type": "stream",
     "text": [
      "Submitted batch job 6101806\n"
     ]
    },
    {
     "name": "stderr",
     "output_type": "stream",
     "text": [
      "2023-05-16 20:55:38.401 | DEBUG    | __main__:<module>:161 - Launching job 0 with slurm file: /tmp/belkhale/job[sqeval_lsn0_4-first50]g64l_kgk.sh\n"
     ]
    },
    {
     "name": "stdout",
     "output_type": "stream",
     "text": [
      "Submitted batch job 6101807\n"
     ]
    },
    {
     "name": "stderr",
     "output_type": "stream",
     "text": [
      "2023-05-16 20:55:39.675 | DEBUG    | __main__:<module>:161 - Launching job 0 with slurm file: /tmp/belkhale/job[sqeval_lpn0_005-first50]8kytttfa.sh\n"
     ]
    },
    {
     "name": "stdout",
     "output_type": "stream",
     "text": [
      "Submitted batch job 6101808\n"
     ]
    },
    {
     "name": "stderr",
     "output_type": "stream",
     "text": [
      "2023-05-16 20:55:40.929 | DEBUG    | __main__:<module>:161 - Launching job 0 with slurm file: /tmp/belkhale/job[sqeval_lpn0_01-first50]iy9oc0us.sh\n"
     ]
    },
    {
     "name": "stdout",
     "output_type": "stream",
     "text": [
      "Submitted batch job 6101809\n"
     ]
    },
    {
     "name": "stderr",
     "output_type": "stream",
     "text": [
      "2023-05-16 20:55:42.180 | DEBUG    | __main__:<module>:161 - Launching job 0 with slurm file: /tmp/belkhale/job[sqeval_lpn0_02-first50]ocp8dy52.sh\n"
     ]
    },
    {
     "name": "stdout",
     "output_type": "stream",
     "text": [
      "Submitted batch job 6101810\n"
     ]
    }
   ],
   "source": [
    "# evals for s2 cuz i messed up again\n",
    "print_success(noise_type='s', data_seed=\"_s2\", noise_values=[0.05,0.1,0.2,0.3,0.4], s_noises=[0.05,0.1,0.2,0.3,0.4], batch_sizes = [256, 256],\n",
    "                  dset_suffs = ['-first50'], run_cmd=True, run_compute=False)\n",
    "print_success(noise_type='p', data_seed=\"_s2\", noise_values=[0.005,0.01,0.02], s_noises=[0.05,0.1,0.2,0.3,0.4], batch_sizes = [256, 256],\n",
    "                  dset_suffs = ['-first50'], run_cmd=True, run_compute=False)"
   ]
  },
  {
   "cell_type": "code",
   "execution_count": 30,
   "metadata": {},
   "outputs": [
    {
     "name": "stdout",
     "output_type": "stream",
     "text": [
      "suff='-first50'...\n",
      "$40.0(1.2)$ & $33.7(3.1)$ & $16.7(1.4)$ & $4.3(1.0)$ & $2.0(0.5)$\\\\ \n",
      "$42.3(4.0)$ & $39.7(3.8)$ & $31.3(3.7)$ & $19.7(3.1)$ & $10.0(1.6)$\\\\ \n",
      "$70.0(7.0)$ & $73.7(5.4)$ & $69.7(0.7)$ & $55.3(1.2)$ & $27.0(2.2)$\\\\ \n",
      "$57.3(3.1)$ & $58.7(3.1)$ & $64.7(1.4)$ & $60.7(0.3)$ & $44.7(2.2)$\\\\ \n",
      "$30.0(7.0)$ & $33.7(6.4)$ & $39.7(5.7)$ & $39.7(6.5)$ & $36.7(6.9)$\\\\ \n",
      "\n",
      "------------------------------\n",
      "suff='-first50'...\n",
      "$32.7(3.8)$ & $30.3(3.2)$ & $18.0(3.6)$ & $7.0(0.8)$ & $5.7(1.2)$\\\\ \n",
      "$61.3(4.3)$ & $59.0(6.7)$ & $48.3(3.7)$ & $29.7(1.7)$ & $19.3(1.4)$\\\\ \n",
      "$57.7(3.2)$ & $58.3(3.1)$ & $49.3(0.5)$ & $41.3(0.5)$ & $28.3(2.4)$\\\\ \n",
      "\n",
      "------------------------------\n"
     ]
    }
   ],
   "source": [
    "# TODO launch all the evals\n",
    "\n",
    "print_success(noise_type='s', data_seed=['', '_s1', '_s2'], noise_values=[0.05,0.1,0.2,0.3,0.4], s_noises=[0.05,0.1,0.2,0.3,0.4], batch_sizes = [256],\n",
    "                  dset_suffs = ['-first50'], run_cmd=False, run_compute=True)\n",
    "print_success(noise_type='p', data_seed=['', '_s1', '_s2'], noise_values=[0.005,0.01,0.02], s_noises=[0.05,0.1,0.2,0.3,0.4], batch_sizes = [256],\n",
    "                  dset_suffs = ['-first50'], run_cmd=False, run_compute=True)"
   ]
  },
  {
   "cell_type": "code",
   "execution_count": null,
   "metadata": {},
   "outputs": [],
   "source": []
  }
 ],
 "metadata": {
  "kernelspec": {
   "display_name": "Python 3 (ipykernel)",
   "language": "python",
   "name": "python3"
  },
  "language_info": {
   "codemirror_mode": {
    "name": "ipython",
    "version": 3
   },
   "file_extension": ".py",
   "mimetype": "text/x-python",
   "name": "python",
   "nbconvert_exporter": "python",
   "pygments_lexer": "ipython3",
   "version": "3.10.9"
  }
 },
 "nbformat": 4,
 "nbformat_minor": 1
}
